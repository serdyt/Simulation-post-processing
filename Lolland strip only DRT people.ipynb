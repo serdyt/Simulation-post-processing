{
 "cells": [
  {
   "cell_type": "code",
   "execution_count": 1,
   "metadata": {},
   "outputs": [],
   "source": [
    "import json\n",
    "import requests\n",
    "import numpy as np\n",
    "from matplotlib import pyplot as plt\n",
    "import pandas as pd\n",
    "import random\n",
    "import glob\n",
    "import zipfile\n",
    "import os\n",
    "import shutil\n",
    "import csv"
   ]
  },
  {
   "cell_type": "code",
   "execution_count": 2,
   "metadata": {},
   "outputs": [],
   "source": [
    "scenario_names = ['0','1','2','3','4']\n",
    "# scenario_names = ['0']"
   ]
  },
  {
   "cell_type": "code",
   "execution_count": 3,
   "metadata": {},
   "outputs": [
    {
     "name": "stdout",
     "output_type": "stream",
     "text": [
      "0\n",
      "Number of persons 1246\n",
      "demand file population_lolland_4500_0.json\n",
      "saved to data/population_lolland_4500_0_filtered.json\n",
      "1\n",
      "Number of persons 1257\n",
      "demand file population_lolland_4500_1.json\n",
      "saved to data/population_lolland_4500_1_filtered.json\n",
      "2\n",
      "Number of persons 1265\n",
      "demand file population_lolland_4500_2.json\n",
      "saved to data/population_lolland_4500_2_filtered.json\n",
      "3\n",
      "Number of persons 1235\n",
      "demand file population_lolland_4500_3.json\n",
      "saved to data/population_lolland_4500_3_filtered.json\n",
      "4\n",
      "Number of persons 1242\n",
      "demand file population_lolland_4500_4.json\n",
      "saved to data/population_lolland_4500_4_filtered.json\n"
     ]
    }
   ],
   "source": [
    "for scenario_name in scenario_names:\n",
    "    print(scenario_name)\n",
    "    \n",
    "    path_to_zip_file = '/home/ai6644/Malmo/Tools/Simulation results/Lolland/TRB/drt/base-rerun DRT instead of RAIL/'+\\\n",
    "                   scenario_name+'/log.zip'\n",
    "\n",
    "    with zipfile.ZipFile(path_to_zip_file, 'r') as zip_ref:\n",
    "        try:\n",
    "            shutil.rmtree('data/zip')\n",
    "        except (FileNotFoundError, OSError) as e:\n",
    "            pass\n",
    "        os.mkdir('data/zip')\n",
    "        zip_ref.extractall('data/zip')\n",
    "    path = 'data/zip/' + os.listdir('data/zip')[0] + '/trip_dump.json'\n",
    "\n",
    "    \n",
    "    fp = open(path)\n",
    "    tdump = json.load(fp)\n",
    "    fp.close()\n",
    "    \n",
    "    persons = tdump.get('person')\n",
    "    \n",
    "    drt_person_ids = []\n",
    "    for person in persons:\n",
    "        trips = person.get('actual_trips')\n",
    "        for trip in trips:\n",
    "                legs = [leg for leg in trip.get('legs') if leg.get('mode') in ['DRT', 'DRT_TRANSIT']]\n",
    "                if len(legs) > 0:    \n",
    "                    drt_person_ids.append(person['id'])\n",
    "                    \n",
    "    print('Number of persons', len(drt_person_ids))\n",
    "    \n",
    "    fp = open('data/zip/' + os.listdir('data/zip')[0] + '/log_summary.log')\n",
    "    lines = fp.readlines()\n",
    "    fp.close()\n",
    "    \n",
    "    for line in lines:\n",
    "        if \"'population.input_file'\" in line:\n",
    "            demand_file = line.split(\"'\")[3]\n",
    "            file_name = line.split(\"'\")[3].split('/')[1]\n",
    "            print('demand file', file_name)\n",
    "            break\n",
    "    \n",
    "    fp = open('data/' + file_name)\n",
    "    pdump = json.load(fp)\n",
    "    fp.close()\n",
    "    \n",
    "    persons = pdump['persons']\n",
    "    persons = [p for p in persons if p['id'] in drt_person_ids]\n",
    "    j = {'persons': persons}\n",
    "    \n",
    "    filtered_demand_file = 'data/' + file_name.split('.')[0] + '_filtered.json'\n",
    "    with open(filtered_demand_file, 'w') as outfile:\n",
    "        json.dump(j, outfile)\n",
    "    print('saved to', filtered_demand_file)"
   ]
  },
  {
   "cell_type": "code",
   "execution_count": null,
   "metadata": {},
   "outputs": [],
   "source": []
  }
 ],
 "metadata": {
  "kernelspec": {
   "display_name": "Python 3",
   "language": "python",
   "name": "python3"
  },
  "language_info": {
   "codemirror_mode": {
    "name": "ipython",
    "version": 3
   },
   "file_extension": ".py",
   "mimetype": "text/x-python",
   "name": "python",
   "nbconvert_exporter": "python",
   "pygments_lexer": "ipython3",
   "version": "3.7.6"
  }
 },
 "nbformat": 4,
 "nbformat_minor": 4
}

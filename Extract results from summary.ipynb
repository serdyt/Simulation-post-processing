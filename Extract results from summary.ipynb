{
 "cells": [
  {
   "cell_type": "code",
   "execution_count": 3,
   "metadata": {},
   "outputs": [],
   "source": [
    "import json\n",
    "import requests\n",
    "import numpy as np\n",
    "from matplotlib import pyplot as plt\n",
    "import pandas as pd\n",
    "import random\n",
    "import glob\n",
    "import zipfile\n",
    "import os\n",
    "import shutil\n",
    "import csv"
   ]
  },
  {
   "cell_type": "code",
   "execution_count": 2,
   "metadata": {},
   "outputs": [],
   "source": [
    "scenario_names = ['0','1','2','3','4']"
   ]
  },
  {
   "cell_type": "code",
   "execution_count": 24,
   "metadata": {},
   "outputs": [
    {
     "name": "stdout",
     "output_type": "stream",
     "text": [
      "0\n",
      "1\n",
      "2\n",
      "3\n",
      "4\n",
      "total;2571;2555;2558;2563;2563\n",
      "executed;2541;2529;2541;2541;2541\n",
      "excluded;30;26;17;22;22\n",
      "car;9;11;7;8;13\n",
      "transit;1284;1261;1266;1296;1285\n",
      "walk;2;0;3;2;1\n",
      "drt;1009;1012;1050;1015;1014\n",
      "drt_transit;237;245;215;220;228\n",
      "vkt;9589,5069;10287,1602;9974,4746;9595,105700000002;9220,975899999998\n"
     ]
    }
   ],
   "source": [
    "total = []\n",
    "executed = []\n",
    "excluded = []\n",
    "car = []\n",
    "transit = []\n",
    "walk = []\n",
    "drt = []\n",
    "drt_transit = []\n",
    "vkt = []\n",
    "\n",
    "for scenario_name in scenario_names:\n",
    "    print(scenario_name)\n",
    "    \n",
    "    path_to_zip_file = '/home/ai6644/Malmo/Tools/Simulation results/Lolland/TRB/drt/base-rerun DRT instead of RAIL/'+\\\n",
    "                   scenario_name+'/log.zip'\n",
    "\n",
    "    with zipfile.ZipFile(path_to_zip_file, 'r') as zip_ref:\n",
    "        try:\n",
    "            shutil.rmtree('data/zip')\n",
    "        except (FileNotFoundError, OSError) as e:\n",
    "            pass\n",
    "        os.mkdir('data/zip')\n",
    "        zip_ref.extractall('data/zip')\n",
    "\n",
    "    fp = open('data/zip/' + os.listdir('data/zip')[0] + '/log_summary.log')\n",
    "    lines = fp.readlines()\n",
    "    fp.close()\n",
    "        \n",
    "    mode_share = True\n",
    "    vkt_not_filled = True\n",
    "    \n",
    "    for line in lines:\n",
    "        line = line.rstrip()\n",
    "        if \"Leg share :\" in line:\n",
    "            mode_share = False\n",
    "        \n",
    "        if \"Total \" in line:\n",
    "            total.append(line.split(' ')[1])\n",
    "        elif \"Executed trips:\" in line:\n",
    "            executed.append(line.split(' ')[2])\n",
    "        elif \"Excluded persons due to none or a trivial path\" in line:\n",
    "            excluded.append(line.split(' ')[9])\n",
    "        elif \"CAR \" in line and mode_share:\n",
    "            car.append(line.split(' ')[1])\n",
    "        elif \"TRANSIT,WALK \" in line and mode_share:\n",
    "            transit.append(line.split(' ')[1])\n",
    "        elif \"WALK \" in line and mode_share:\n",
    "            walk.append(line.split(' ')[1])\n",
    "        elif \"DRT_trips \" in line and mode_share:\n",
    "            drt.append(line.split(' ')[1])\n",
    "        elif \"DRT_TRANSIT_trips \" in line and mode_share:\n",
    "            drt_transit.append(line.split(' ')[1])\n",
    "        elif \"Vehicle kilometers \" in line and vkt_not_filled:\n",
    "            vkt.append(line.split(' ')[2])\n",
    "            vkt_not_filled = False\n",
    "        \n",
    "    \n",
    "print(\";\".join(['total']+[a for a in total]))\n",
    "print(\";\".join(['executed']+[a for a in executed]))\n",
    "print(\";\".join(['excluded']+[a for a in excluded]))\n",
    "print(\";\".join(['car']+[a for a in car]))\n",
    "print(\";\".join(['transit']+[a for a in transit]))\n",
    "print(\";\".join(['walk']+[a for a in walk]))\n",
    "print(\";\".join(['drt']+[a for a in drt]))\n",
    "print(\";\".join(['drt_transit']+[a for a in drt_transit]))\n",
    "\n",
    "print(\";\".join(['vkt']+[str(a).replace('.',',') for a in vkt]))"
   ]
  },
  {
   "cell_type": "code",
   "execution_count": 23,
   "metadata": {},
   "outputs": [
    {
     "data": {
      "text/plain": [
       "'********************************************'"
      ]
     },
     "execution_count": 23,
     "metadata": {},
     "output_type": "execute_result"
    }
   ],
   "source": [
    "line"
   ]
  },
  {
   "cell_type": "code",
   "execution_count": null,
   "metadata": {},
   "outputs": [],
   "source": []
  }
 ],
 "metadata": {
  "kernelspec": {
   "display_name": "Python 3",
   "language": "python",
   "name": "python3"
  },
  "language_info": {
   "codemirror_mode": {
    "name": "ipython",
    "version": 3
   },
   "file_extension": ".py",
   "mimetype": "text/x-python",
   "name": "python",
   "nbconvert_exporter": "python",
   "pygments_lexer": "ipython3",
   "version": "3.7.6"
  }
 },
 "nbformat": 4,
 "nbformat_minor": 4
}

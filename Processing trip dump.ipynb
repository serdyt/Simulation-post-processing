{
 "cells": [
  {
   "cell_type": "code",
   "execution_count": 2,
   "metadata": {},
   "outputs": [],
   "source": [
    "import json\n",
    "import requests\n",
    "import numpy as np\n",
    "from matplotlib import pyplot as plt\n",
    "import pandas as pd\n",
    "import random\n",
    "import glob\n",
    "import zipfile\n",
    "import os\n",
    "import shutil"
   ]
  },
  {
   "cell_type": "code",
   "execution_count": 3,
   "metadata": {},
   "outputs": [],
   "source": [
    "scenario_name = \"fixed time windows\"\n",
    "path_to_zip_file = '/home/ai6644/Malmo/Tools/Simulation results/Lolland/with transfer area/'+\\\n",
    "                   scenario_name+'/log.zip'"
   ]
  },
  {
   "cell_type": "code",
   "execution_count": 4,
   "metadata": {},
   "outputs": [],
   "source": [
    "day_sec = int(86400)\n",
    "day_h = int(24)"
   ]
  },
  {
   "cell_type": "code",
   "execution_count": 5,
   "metadata": {},
   "outputs": [],
   "source": [
    "with zipfile.ZipFile(path_to_zip_file, 'r') as zip_ref:\n",
    "    try:\n",
    "        shutil.rmtree('data/zip')\n",
    "    except (FileNotFoundError, OSError) as e:\n",
    "        pass\n",
    "    os.mkdir('data/zip')\n",
    "    zip_ref.extractall('data/zip')\n",
    "path = 'data/zip/' + os.listdir('data/zip')[0] + '/trip_dump.json'"
   ]
  },
  {
   "cell_type": "code",
   "execution_count": 6,
   "metadata": {},
   "outputs": [],
   "source": [
    "all_files = glob.glob(\"data/zip/*/vehicle_logs/vehicle_occupancy_*\")\n",
    "n_cars = len(all_files)"
   ]
  },
  {
   "cell_type": "code",
   "execution_count": 7,
   "metadata": {},
   "outputs": [],
   "source": [
    "# n_cars = 25"
   ]
  },
  {
   "cell_type": "code",
   "execution_count": 8,
   "metadata": {},
   "outputs": [],
   "source": [
    "fp = open(path)\n",
    "tdump = json.load(fp)\n",
    "fp.close()"
   ]
  },
  {
   "cell_type": "code",
   "execution_count": 9,
   "metadata": {},
   "outputs": [],
   "source": [
    "\n",
    "class OtpMode(object):\n",
    "    CAR = 'CAR'\n",
    "    WALK = 'WALK'\n",
    "    TRANSIT = 'TRANSIT,WALK'\n",
    "    BUS = 'BUS,WALK'\n",
    "    RAIL = 'TRAM,RAIL,SUBWAY,FUNICULAR,GONDOLA,WALK'\n",
    "    BICYCLE = 'BICYCLE'\n",
    "    BICYCLE_TRANSIT = 'TRANSIT,BICYCLE'\n",
    "    PARK_RIDE = 'CAR_PARK,WALK,TRANSIT'\n",
    "    KISS_RIDE = 'CAR,WALK,TRANSIT'\n",
    "    BIKE_RIDE = 'BICYCLE_PARK,WALK,TRANSIT'\n",
    "    RENTED_BICYCLE = 'WALK,BICYCLE_RENT'\n",
    "    TRANSIT_RENTED_BICYCLE = 'TRANSIT,WALK,BICYCLE_RENT'\n",
    "    DRT = 'DRT'\n",
    "    DRT_TRANSIT = 'DRT_TRANSIT'\n",
    "\n",
    "    _DICT = ['CAR', 'WALK', 'TRANSIT', 'BUS', 'RAIL', 'BICYCLE', 'BICYCLE_TRANSIT', 'PARK_RIDE', 'KISS_RIDE',\n",
    "             'BIKE_RIDE', 'RENTED_BICYCLE', 'TRANSIT_RENTED_BICYCLE', 'DRT', 'DRT_TRANSIT']\n",
    "\n",
    "    _MAIN_MODES = ['CAR', 'BICYCLE', 'TRANSIT', 'WALK']\n",
    "\n",
    "    _DRT_MODES = ['DRT', 'DRT_TRANSIT']\n",
    "\n",
    "    _PT_MODES = ['TRANSIT', 'BUS', 'RAIL']\n",
    "\n",
    "    @staticmethod\n",
    "    def get_all_modes():\n",
    "        return [OtpMode.__dict__.get(item) for item in OtpMode._DICT]\n",
    "\n",
    "    @staticmethod\n",
    "    def get_main_modes():\n",
    "        return [OtpMode.__dict__.get(item) for item in OtpMode._MAIN_MODES]\n",
    "\n",
    "    @staticmethod\n",
    "    def contains(other):\n",
    "        return other in OtpMode._DICT\n",
    "\n",
    "    @staticmethod\n",
    "    def get_pt_modes():\n",
    "        return OtpMode._PT_MODES\n",
    "\n",
    "    @staticmethod\n",
    "    def get_drt_modes():\n",
    "        return OtpMode._DRT_MODES\n",
    "\n",
    "    @staticmethod\n",
    "    def get_mode(string):\n",
    "        if OtpMode.contains(string):\n",
    "            return OtpMode.__getattribute__(OtpMode(), string)\n",
    "        else:\n",
    "            raise Exception('unsupported mode {}'.format(string))\n"
   ]
  },
  {
   "cell_type": "code",
   "execution_count": 10,
   "metadata": {},
   "outputs": [],
   "source": [
    "class Coord(object):\n",
    "    \"\"\"Coordinate.\n",
    "\n",
    "    Parameters\n",
    "    ----------\n",
    "    lat : <float> latitude\n",
    "    lon : <float> longitude\n",
    "    latlon : <list> list with both lat and long. Latitude first!\n",
    "    \"\"\"\n",
    "    def __init__(self, lat=None, lon=None, latlon=None):\n",
    "        if latlon is not None:\n",
    "            if len(latlon) != 2:\n",
    "                raise Exception(\"Wrong coordinate latlon format. Should be a list of two floats.\")\n",
    "            self.lat = latlon[0]\n",
    "            self.lon = latlon[1]\n",
    "        elif lat is None or lon is None:\n",
    "            raise Exception(\"Coordinates not provided\")\n",
    "        else:\n",
    "            self.lat = lat\n",
    "            self.lon = lon\n",
    "\n",
    "    def to_json(self):\n",
    "        return json.dumps(self, default=lambda o: self._try(o), sort_keys=True, indent=4, separators=(',', ':'))\n",
    "\n",
    "    @staticmethod\n",
    "    def _try(o):\n",
    "        try:\n",
    "            if o.__class__ == Coord:\n",
    "                raise Exception()\n",
    "            return o.__dict__\n",
    "        except:\n",
    "            return str(o)\n",
    "        \n",
    "    def __str__(self):\n",
    "        return str(self.lat) + ',' + str(self.lon)\n",
    "\n",
    "    def __repr__(self):\n",
    "        return self.__str__()\n",
    "\n",
    "    def __eq__(self, other):\n",
    "        return self.lat == other.lat and self.lon == other.lon\n",
    "\n",
    "    def __hash__(self):\n",
    "        return hash((self.lat, self.lon))\n"
   ]
  },
  {
   "cell_type": "code",
   "execution_count": 11,
   "metadata": {},
   "outputs": [],
   "source": [
    "class Leg(object):\n",
    "    \"\"\"Leg of a trip. For example, \"walk - bus - walk\" trip has three legs.\n",
    "    Used to store trip legs from OTP.\n",
    "\n",
    "    Parameters\n",
    "    ----------\n",
    "    mode : <str> mode of transport\n",
    "    start_coord : <coord> coordinate of an origin\n",
    "    end_coord : <coord> coordinate of a destination\n",
    "    distance : <int> meters\n",
    "    duration : <int> seconds\n",
    "    steps : <list> of utils.Step\n",
    "    \"\"\"\n",
    "\n",
    "    # TODO:assignment of mode   as a string is confusing, remove it, or use constant\n",
    "    def __init__(self, mode=None, start_coord=None, from_stop=None, end_coord=None, to_stop=None,\n",
    "                 start_time=None, end_time=None,\n",
    "                 distance=None, duration=None, steps=None):\n",
    "        self.mode = mode\n",
    "        self.start_coord = start_coord\n",
    "        self.end_coord = end_coord\n",
    "        self.distance = distance\n",
    "        self.duration = duration\n",
    "        self.steps = steps\n",
    "        # The two below only used for PT legs\n",
    "        self.from_stop = from_stop\n",
    "        self.to_stop = to_stop\n",
    "\n",
    "        self.start_time = start_time\n",
    "        self.end_time = end_time\n",
    "\n",
    "    def deepcopy(self):\n",
    "        if self.steps is None:\n",
    "            steps = []\n",
    "        else:\n",
    "            steps = [step.deepcopy() for step in self.steps if step is not None]\n",
    "        return Leg(mode=copy.copy(self.mode),\n",
    "                   start_coord=copy.copy(self.start_coord),\n",
    "                   from_stop=copy.copy(self.from_stop),\n",
    "                   end_coord=copy.copy(self.end_coord),\n",
    "                   to_stop=copy.copy(self.to_stop),\n",
    "                   start_time=copy.copy(self.start_time),\n",
    "                   end_time=copy.copy(self.end_time),\n",
    "                   distance=copy.copy(self.distance),\n",
    "                   duration=copy.copy(self.duration),\n",
    "                   steps=steps)\n"
   ]
  },
  {
   "cell_type": "code",
   "execution_count": 12,
   "metadata": {},
   "outputs": [],
   "source": [
    "class Trip(object):\n",
    "    \"\"\"A list of legs and a total trip duration\n",
    "    \"\"\"\n",
    "    legs = ...  # type: List[Leg]\n",
    "\n",
    "    def __init__(self):\n",
    "        self.legs = []\n",
    "        self.duration = None\n",
    "        self.distance = None\n",
    "        self.main_mode = None\n",
    "\n",
    "    def set_empty_trip(self, mode, coord_start, coord_end):\n",
    "        \"\"\"Sets a dummy trip between two coordinates with zero distance, duration and one empty leg\"\"\"\n",
    "        self.set_duration(0)\n",
    "        self.set_distance(0)\n",
    "        self.main_mode = mode\n",
    "        self.legs = [Leg(mode=mode, start_coord=coord_start, end_coord=coord_end, distance=0, duration=0,\n",
    "                         steps=[Step(coord_start, coord_end, 0, 0)])]\n",
    "\n",
    "    def dumps(self):\n",
    "        return self.__dict__\n",
    "\n",
    "    def get_leg_modes(self):\n",
    "        \"\"\"Returns a list of modes from the legs\"\"\"\n",
    "        return [l.mode for l in self.legs]\n",
    "\n",
    "    def deepcopy(self):\n",
    "        nt = Trip()\n",
    "        nt.duration = copy.copy(self.duration)\n",
    "        nt.distance = copy.copy(self.distance)\n",
    "        nt.main_mode = copy.copy(self.main_mode)\n",
    "        nt.legs = [leg.deepcopy() for leg in self.legs]\n",
    "        return nt\n",
    "\n",
    "    def main_mode_from_legs(self):\n",
    "        leg_modes = self.get_leg_modes()\n",
    "\n",
    "        if LegMode.CAR in leg_modes:\n",
    "            return OtpMode.CAR\n",
    "        elif LegMode.BUS in leg_modes or LegMode.SUBWAY in leg_modes or \\\n",
    "                LegMode.TRAM in leg_modes or LegMode.RAIL in leg_modes:\n",
    "            return OtpMode.TRANSIT\n",
    "        elif LegMode.BICYCLE in leg_modes:\n",
    "            return OtpMode.BICYCLE\n",
    "        elif LegMode.WALK in leg_modes:\n",
    "            return OtpMode.BICYCLE\n",
    "        else:\n",
    "            log.error('Main mode unrecognized. Returning None. Kick the developer to make a proper function.')\n",
    "            return None\n",
    "\n",
    "    def set_duration(self, dur):\n",
    "        self.duration = dur\n",
    "\n",
    "    def set_main_mode(self, mode):\n",
    "        self.main_mode = mode\n",
    "    \n",
    "    def set_distance(self, dist):\n",
    "        self.distance = dist\n",
    "    \n",
    "    def append_leg(self, leg):\n",
    "        self.legs.append(leg)\n",
    "        \n",
    "    def __str__(self):\n",
    "        return '{} trip, takes {} distance {}'\\\n",
    "            .format(self.main_mode, self.duration, self.distance)\n",
    "\n",
    "    def __repr__(self):\n",
    "        return str(self)\n"
   ]
  },
  {
   "cell_type": "code",
   "execution_count": 13,
   "metadata": {},
   "outputs": [],
   "source": [
    "class Step(object):\n",
    "    \"\"\"Arguments:|\n",
    "    start_coord       <Coord>|\n",
    "    distance    <int>|\n",
    "    duration    <int>|\n",
    "    \"\"\"\n",
    "    def __init__(self, start_coord, end_coord, distance, duration):\n",
    "        self.start_coord = start_coord\n",
    "        self.end_coord = end_coord\n",
    "        self.distance = distance\n",
    "        self.duration = duration\n",
    "\n",
    "    @staticmethod\n",
    "    def get_empty_step(coord):\n",
    "        return Step(start_coord=coord, end_coord=coord, distance=0, duration=0)\n",
    "\n",
    "    def deepcopy(self):\n",
    "        return Step(start_coord=copy.copy(self.start_coord),\n",
    "                    end_coord=copy.copy(self.end_coord),\n",
    "                    distance=copy.copy(self.distance),\n",
    "                    duration=copy.copy(self.duration),\n",
    "                    )\n",
    "\n",
    "    def dumps(self):\n",
    "        return self.__dict__\n",
    "\n",
    "    def __str__(self):\n",
    "        return 'Step distance {:.1f}, duration {:.1f}'.format(self.distance, self.duration)\n",
    "\n",
    "    def __repr__(self):\n",
    "        return self.__str__()\n"
   ]
  },
  {
   "cell_type": "code",
   "execution_count": 14,
   "metadata": {},
   "outputs": [],
   "source": [
    "def osrm_route_request(from_place, to_place):\n",
    "    url_coords = '{}{},{};{},{}' \\\n",
    "        .format('http://0.0.0.0:5000/route/v1/driving/',\n",
    "                from_place.get('lon'), from_place.get('lat'), to_place.get('lon'), to_place.get('lat'))\n",
    "    url_full = url_coords + '?annotations=true&geometries=geojson&steps=true'\n",
    "    resp = requests.get(url=url_full)\n",
    "    return _parse_osrm_response(resp)\n",
    "\n",
    "\n",
    "def _parse_osrm_response(resp):\n",
    "    # if resp.status_code != requests.codes.ok:\n",
    "    #     resp.raise_for_status()\n",
    "\n",
    "    jresp = resp.json()\n",
    "    # if jresp.get('code') != 'Ok':\n",
    "    #     log.error(jresp.get('code'))\n",
    "    #     log.error(jresp.get('message'))\n",
    "    #     resp.raise_for_status()\n",
    "\n",
    "    trip = Trip()\n",
    "    trip.legs = [Leg()]\n",
    "    trip.legs[0].steps = []\n",
    "\n",
    "    legs = jresp.get('routes')[0].get('legs')\n",
    "    for leg in legs:\n",
    "        steps = leg.get('steps')\n",
    "        for step in steps:\n",
    "            new_step = Step(distance=step.get('distance'),\n",
    "                            duration=step.get('duration'),\n",
    "                            start_coord=Coord(lon=step.get('geometry').get('coordinates')[0][0],\n",
    "                                              lat=step.get('geometry').get('coordinates')[0][1]),\n",
    "                            end_coord=Coord(lon=step.get('geometry').get('coordinates')[-1][0],\n",
    "                                            lat=step.get('geometry').get('coordinates')[-1][1]))\n",
    "            # OSRM makes circles on roundabouts. And makes empty step in the end. Exclude these cases from a route\n",
    "            if new_step.start_coord != new_step.end_coord:\n",
    "                trip.legs[0].steps.append(new_step)\n",
    "        if len(trip.legs[0].steps) == 0:\n",
    "            waypoints = jresp.get('waypoints')\n",
    "            trip.legs[0].steps.append(Step(distance=0,\n",
    "                                           duration=0,\n",
    "                                           start_coord=Coord(lon=waypoints[0].get('location')[0],\n",
    "                                                             lat=waypoints[0].get('location')[1]),\n",
    "                                           end_coord=Coord(lon=waypoints[1].get('location')[0],\n",
    "                                                           lat=waypoints[1].get('location')[1])\n",
    "                                           )\n",
    "                                      )\n",
    "    trip.legs[0].start_coord = trip.legs[0].steps[0].start_coord\n",
    "    trip.legs[0].end_coord = trip.legs[0].steps[-1].end_coord\n",
    "    trip.legs[0].duration = sum([step.duration for step in trip.legs[0].steps])\n",
    "    trip.legs[0].distance = sum([step.distance for step in trip.legs[0].steps])\n",
    "    trip.legs[0].mode = OtpMode.DRT\n",
    "\n",
    "    trip.distance = trip.legs[0].distance\n",
    "    trip.duration = trip.legs[0].duration\n",
    "    trip.main_mode = OtpMode.CAR\n",
    "    return trip\n"
   ]
  },
  {
   "cell_type": "code",
   "execution_count": null,
   "metadata": {},
   "outputs": [],
   "source": []
  },
  {
   "cell_type": "code",
   "execution_count": 15,
   "metadata": {},
   "outputs": [],
   "source": [
    "persons = tdump.get('person')"
   ]
  },
  {
   "cell_type": "code",
   "execution_count": 16,
   "metadata": {},
   "outputs": [],
   "source": [
    "drt_legs = []\n",
    "for person in persons:\n",
    "    trips = person.get('actual_trips')\n",
    "    for trip in trips:\n",
    "            legs = [leg for leg in trip.get('legs') if leg.get('mode') in ['DRT', 'DRT_TRANSIT']]\n",
    "            if len(legs) > 0:    \n",
    "                drt_legs += legs\n",
    "#                 direct_legs += [leg.get('duration') for leg in act.get('legs') if leg.get('mode') in ['DRT', 'DRT_TRANSIT']])\n",
    "                \n"
   ]
  },
  {
   "cell_type": "code",
   "execution_count": 17,
   "metadata": {},
   "outputs": [
    {
     "data": {
      "text/plain": [
       "1126"
      ]
     },
     "execution_count": 17,
     "metadata": {},
     "output_type": "execute_result"
    }
   ],
   "source": [
    "len(drt_legs)"
   ]
  },
  {
   "cell_type": "code",
   "execution_count": 19,
   "metadata": {},
   "outputs": [],
   "source": [
    "direct_seconds_drt_only = sum([osrm_route_request(leg.get('start_coord'), leg.get('end_coord')).duration for leg in drt_legs])"
   ]
  },
  {
   "cell_type": "code",
   "execution_count": 20,
   "metadata": {},
   "outputs": [
    {
     "name": "stdout",
     "output_type": "stream",
     "text": [
      "11915.031666666655\n"
     ]
    }
   ],
   "source": [
    "direct_minutes = direct_seconds_drt_only / 60\n",
    "print(direct_minutes)"
   ]
  },
  {
   "cell_type": "code",
   "execution_count": 21,
   "metadata": {},
   "outputs": [
    {
     "name": "stdout",
     "output_type": "stream",
     "text": [
      "22426.381666666657\n"
     ]
    }
   ],
   "source": [
    "drt_minutes = sum([leg.get('duration') for leg in drt_legs]) / 60\n",
    "print(drt_minutes)"
   ]
  },
  {
   "cell_type": "code",
   "execution_count": 22,
   "metadata": {},
   "outputs": [
    {
     "data": {
      "text/plain": [
       "0.5312953219010138"
      ]
     },
     "execution_count": 22,
     "metadata": {},
     "output_type": "execute_result"
    }
   ],
   "source": [
    "direct_minutes / drt_minutes"
   ]
  },
  {
   "cell_type": "code",
   "execution_count": 23,
   "metadata": {},
   "outputs": [
    {
     "data": {
      "text/plain": [
       "0.8821923679318809"
      ]
     },
     "execution_count": 23,
     "metadata": {},
     "output_type": "execute_result"
    }
   ],
   "source": [
    "(drt_minutes - direct_minutes) / direct_minutes"
   ]
  },
  {
   "cell_type": "markdown",
   "metadata": {},
   "source": [
    "### direct kilometers, but VKT is WRONG!"
   ]
  },
  {
   "cell_type": "code",
   "execution_count": 22,
   "metadata": {},
   "outputs": [],
   "source": [
    "drt_vkt = sum([leg.get('distance') for leg in drt_legs])"
   ]
  },
  {
   "cell_type": "code",
   "execution_count": 23,
   "metadata": {},
   "outputs": [
    {
     "data": {
      "text/plain": [
       "10591.0422"
      ]
     },
     "execution_count": 23,
     "metadata": {},
     "output_type": "execute_result"
    }
   ],
   "source": [
    "drt_vkt/1000"
   ]
  },
  {
   "cell_type": "code",
   "execution_count": 24,
   "metadata": {},
   "outputs": [],
   "source": [
    "direct_vkt = sum([osrm_route_request(leg.get('start_coord'), leg.get('end_coord')).distance for leg in drt_legs])"
   ]
  },
  {
   "cell_type": "code",
   "execution_count": 25,
   "metadata": {},
   "outputs": [
    {
     "data": {
      "text/plain": [
       "9779.563499999995"
      ]
     },
     "execution_count": 25,
     "metadata": {},
     "output_type": "execute_result"
    }
   ],
   "source": [
    "direct_vkt/1000"
   ]
  },
  {
   "cell_type": "code",
   "execution_count": 26,
   "metadata": {},
   "outputs": [
    {
     "data": {
      "text/plain": [
       "0.923380656532555"
      ]
     },
     "execution_count": 26,
     "metadata": {},
     "output_type": "execute_result"
    }
   ],
   "source": [
    "direct_vkt/drt_vkt"
   ]
  },
  {
   "cell_type": "code",
   "execution_count": 27,
   "metadata": {},
   "outputs": [],
   "source": [
    "direct_trips_drt = []\n",
    "direct_trips_drt_transit = []\n",
    "drt_trips = []\n",
    "drt_transit_trips = []\n",
    "for person in persons:\n",
    "    for drt_trip, direct_trip in zip(person.get('actual_trips'), person.get('direct_trips')):\n",
    "        if drt_trip.get('main_mode') == OtpMode.DRT:\n",
    "            direct_trips_drt.append(direct_trip)\n",
    "            drt_trips.append(drt_trip)\n",
    "        elif drt_trip.get('main_mode') == OtpMode.DRT_TRANSIT:\n",
    "            direct_trips_drt_transit.append(direct_trip)\n",
    "            drt_transit_trips.append(drt_trip)"
   ]
  },
  {
   "cell_type": "code",
   "execution_count": 28,
   "metadata": {},
   "outputs": [],
   "source": [
    "direct_seconds_drt = sum([trip.get('duration') for trip in direct_trips_drt])\n",
    "direct_seconds_drt_transit = sum([trip.get('duration') for trip in direct_trips_drt_transit])\n",
    "drt_transit_seconds = sum([trip.get('duration') for trip in drt_transit_trips])\n",
    "drt_seconds = sum([trip.get('duration') for trip in drt_trips])"
   ]
  },
  {
   "cell_type": "code",
   "execution_count": 29,
   "metadata": {},
   "outputs": [
    {
     "data": {
      "text/plain": [
       "1039"
      ]
     },
     "execution_count": 29,
     "metadata": {},
     "output_type": "execute_result"
    }
   ],
   "source": [
    "len(drt_trips)"
   ]
  },
  {
   "cell_type": "code",
   "execution_count": 30,
   "metadata": {},
   "outputs": [
    {
     "data": {
      "text/plain": [
       "124"
      ]
     },
     "execution_count": 30,
     "metadata": {},
     "output_type": "execute_result"
    }
   ],
   "source": [
    "len(drt_transit_trips)"
   ]
  },
  {
   "cell_type": "code",
   "execution_count": 31,
   "metadata": {},
   "outputs": [
    {
     "name": "stdout",
     "output_type": "stream",
     "text": [
      "0.5025800849724819\n"
     ]
    }
   ],
   "source": [
    "if direct_seconds_drt > 0:\n",
    "    print((drt_seconds - direct_seconds_drt) / direct_seconds_drt)"
   ]
  },
  {
   "cell_type": "code",
   "execution_count": 32,
   "metadata": {},
   "outputs": [
    {
     "name": "stdout",
     "output_type": "stream",
     "text": [
      "0.1865955936744038\n"
     ]
    }
   ],
   "source": [
    "if direct_seconds_drt_transit > 0:\n",
    "    print((drt_transit_seconds - direct_seconds_drt_transit) / direct_seconds_drt_transit)"
   ]
  },
  {
   "cell_type": "code",
   "execution_count": 33,
   "metadata": {},
   "outputs": [
    {
     "data": {
      "text/plain": [
       "15178.098333333326"
      ]
     },
     "execution_count": 33,
     "metadata": {},
     "output_type": "execute_result"
    }
   ],
   "source": [
    "direct_minutes_full_trip = (direct_seconds_drt + direct_seconds_drt_transit) / 60\n",
    "direct_minutes_full_trip"
   ]
  },
  {
   "cell_type": "code",
   "execution_count": 34,
   "metadata": {},
   "outputs": [
    {
     "data": {
      "text/plain": [
       "4390.5278"
      ]
     },
     "execution_count": 34,
     "metadata": {},
     "output_type": "execute_result"
    }
   ],
   "source": [
    "direct_vkt_whole_trip_drt_transit = sum([trip['distance'] for trip in direct_trips_drt_transit]) /1000\n",
    "direct_vkt_whole_trip_drt_transit"
   ]
  },
  {
   "cell_type": "code",
   "execution_count": null,
   "metadata": {},
   "outputs": [],
   "source": []
  },
  {
   "cell_type": "markdown",
   "metadata": {},
   "source": [
    "### Histogram for deviation time"
   ]
  },
  {
   "cell_type": "code",
   "execution_count": 35,
   "metadata": {},
   "outputs": [],
   "source": [
    "direct_seconds_drt_transit = [trip.get('duration') for trip in direct_trips_drt_transit]\n",
    "seconds_drt_transit = [trip.get('duration') for trip in drt_transit_trips]"
   ]
  },
  {
   "cell_type": "code",
   "execution_count": 36,
   "metadata": {},
   "outputs": [],
   "source": [
    "deviation_drt_transit = [a/(d+120) for d,a in zip(direct_seconds_drt_transit, seconds_drt_transit)]"
   ]
  },
  {
   "cell_type": "code",
   "execution_count": 37,
   "metadata": {},
   "outputs": [
    {
     "data": {
      "text/plain": [
       "Text(0.5, 1.0, 'Distribution of actual/direct trip time for DRT_TRANSIT')"
      ]
     },
     "execution_count": 37,
     "metadata": {},
     "output_type": "execute_result"
    },
    {
     "data": {
      "image/png": "[encoded data removed]",
      "text/plain": [
       "<Figure size 432x288 with 1 Axes>"
      ]
     },
     "metadata": {
      "needs_background": "light"
     },
     "output_type": "display_data"
    }
   ],
   "source": [
    "fig = plt.figure()\n",
    "ax = fig.add_subplot(111)\n",
    "ax.hist(x=deviation_drt_transit, bins=np.arange(1,3,0.05))\n",
    "plt.xlabel('Ratio')\n",
    "plt.ylabel('Number of trips')\n",
    "plt.title('Distribution of actual/direct trip time for DRT_TRANSIT')"
   ]
  },
  {
   "cell_type": "code",
   "execution_count": 38,
   "metadata": {},
   "outputs": [],
   "source": [
    "direct_seconds_drt = [trip.get('duration') for trip in direct_trips_drt]\n",
    "actual_seconds_drt = [trip.get('duration') for trip in drt_trips]"
   ]
  },
  {
   "cell_type": "code",
   "execution_count": 39,
   "metadata": {},
   "outputs": [],
   "source": [
    "deviation_drt = [a/(d+120) for d,a in zip(direct_seconds_drt, actual_seconds_drt)]"
   ]
  },
  {
   "cell_type": "code",
   "execution_count": 40,
   "metadata": {},
   "outputs": [
    {
     "data": {
      "text/plain": [
       "Text(0.5, 1.0, 'Distribution of actual/direct trip time for DRT')"
      ]
     },
     "execution_count": 40,
     "metadata": {},
     "output_type": "execute_result"
    },
    {
     "data": {
      "image/png": "[encoded data removed]",
      "text/plain": [
       "<Figure size 432x288 with 1 Axes>"
      ]
     },
     "metadata": {
      "needs_background": "light"
     },
     "output_type": "display_data"
    }
   ],
   "source": [
    "fig = plt.figure()\n",
    "ax = fig.add_subplot(111)\n",
    "ax.hist(x=deviation_drt, bins=np.arange(1,3,0.1))\n",
    "# ax.hist(x=deviation_drt, bins=[1,1.05,2])\n",
    "plt.xlabel('Ratio')\n",
    "plt.ylabel('Number of trips')\n",
    "plt.title('Distribution of actual/direct trip time for DRT')\n",
    "# plt.ylim(0, 1600)"
   ]
  },
  {
   "cell_type": "code",
   "execution_count": 41,
   "metadata": {},
   "outputs": [
    {
     "data": {
      "text/plain": [
       "Text(0.5, 1.0, '')"
      ]
     },
     "execution_count": 41,
     "metadata": {},
     "output_type": "execute_result"
    },
    {
     "data": {
      "image/png": "[encoded data removed]",
      "text/plain": [
       "<Figure size 432x288 with 1 Axes>"
      ]
     },
     "metadata": {
      "needs_background": "light"
     },
     "output_type": "display_data"
    }
   ],
   "source": [
    "fig = plt.figure()\n",
    "ax = fig.add_subplot(111)\n",
    "ax.hist(x=[x+120 for x in direct_seconds_drt], bins=np.arange(0,50*60,60), alpha=0.75)\n",
    "ax.hist(x=actual_seconds_drt, bins=np.arange(0,50*60,60), alpha=0.65)\n",
    "plt.xlabel('Duration')\n",
    "plt.ylabel('Number of trips')\n",
    "plt.title('')"
   ]
  },
  {
   "cell_type": "markdown",
   "metadata": {},
   "source": [
    "### Demand distribution"
   ]
  },
  {
   "cell_type": "code",
   "execution_count": 42,
   "metadata": {},
   "outputs": [
    {
     "name": "stdout",
     "output_type": "stream",
     "text": [
      "error for {'actual_trips': [], 'planned_trips': [], 'direct_trips': [], 'id': 935}\n",
      "error for {'actual_trips': [], 'planned_trips': [], 'direct_trips': [], 'id': 2718}\n",
      "error for {'actual_trips': [], 'planned_trips': [], 'direct_trips': [], 'id': 3895}\n"
     ]
    },
    {
     "data": {
      "image/png": "[encoded data removed]",
      "text/plain": [
       "<Figure size 432x288 with 1 Axes>"
      ]
     },
     "metadata": {
      "needs_background": "light"
     },
     "output_type": "display_data"
    }
   ],
   "source": [
    "time_requested_trips = []\n",
    "for person in persons:\n",
    "    try:\n",
    "        time_requested_trips.append(person['actual_trips'][0]['legs'][0]['start_time'])\n",
    "    except:\n",
    "        print('error for {}'.format(person))\n",
    "        continue\n",
    "        \n",
    "fig = plt.figure()\n",
    "ax = fig.add_subplot(111)\n",
    "ax.hist(x=time_requested_trips, bins=np.arange(0,day_sec+1,day_sec/day_h*8/60), color='blue', alpha=0.7, rwidth=0.85, density=False)\n",
    "#n, bins, patches = plt.hist(x=upsampled_wl['work_journey_start_time'], bins=np.arange(1,24,.5), color='grey',\n",
    "                           # alpha=0.7, rwidth=0.85, density=1) #, stacked=True, density=True\n",
    "plt.grid(axis='y', alpha=0.75)\n",
    "plt.xlabel('Start time of trips')\n",
    "plt.ylabel('Number of requests')\n",
    "plt.title('Time distribution of requested DRT trips')\n",
    "\n",
    "plt.xticks([x*3600 for x in [0, 3, 6, 9, 12, 15, 18, 21, 24]])\n",
    "names_x = ['00:00','03:00','6:00','9:00','12:00','15:00','18:00','21:00', '24:00']\n",
    "ax.set_xticklabels(names_x,rotation=45)\n",
    "\n",
    "plt.savefig('data/demand_distr.png', dpi=600)"
   ]
  },
  {
   "cell_type": "code",
   "execution_count": 43,
   "metadata": {},
   "outputs": [
    {
     "name": "stdout",
     "output_type": "stream",
     "text": [
      "error for {'actual_trips': [], 'planned_trips': [], 'direct_trips': [], 'id': 935}\n",
      "error for {'actual_trips': [], 'planned_trips': [], 'direct_trips': [], 'id': 2718}\n",
      "error for {'actual_trips': [], 'planned_trips': [], 'direct_trips': [], 'id': 3895}\n"
     ]
    },
    {
     "data": {
      "image/png": "[encoded data removed]",
      "text/plain": [
       "<Figure size 432x288 with 1 Axes>"
      ]
     },
     "metadata": {
      "needs_background": "light"
     },
     "output_type": "display_data"
    }
   ],
   "source": [
    "time_requested_trips = []\n",
    "for person in persons:\n",
    "    try:\n",
    "        if person['actual_trips'][0]['main_mode'] in ['DRT']:\n",
    "            time_requested_trips.append(person['actual_trips'][0]['legs'][0]['start_time'])\n",
    "    except:\n",
    "        print('error for {}'.format(person))\n",
    "        continue\n",
    "        \n",
    "fig = plt.figure()\n",
    "ax = fig.add_subplot(111)\n",
    "ax.hist(x=time_requested_trips, bins=np.arange(0,day_sec+1,day_sec/day_h*8/60), color='blue', alpha=0.7, rwidth=0.85, density=False)\n",
    "#n, bins, patches = plt.hist(x=upsampled_wl['work_journey_start_time'], bins=np.arange(1,24,.5), color='grey',\n",
    "                           # alpha=0.7, rwidth=0.85, density=1) #, stacked=True, density=True\n",
    "plt.grid(axis='y', alpha=0.75)\n",
    "plt.xlabel('Start time of trips')\n",
    "plt.ylabel('Number of requests')\n",
    "plt.title('Time distribution of executed DRT trips')\n",
    "\n",
    "plt.xticks([x*3600 for x in [0, 3, 6, 9, 12, 15, 18, 21, 24]])\n",
    "names_x = ['00:00','03:00','6:00','9:00','12:00','15:00','18:00','21:00', '24:00']\n",
    "ax.set_xticklabels(names_x,rotation=45)\n",
    "\n",
    "plt.savefig('data/demand_distr.png', dpi=600)"
   ]
  },
  {
   "cell_type": "code",
   "execution_count": 44,
   "metadata": {},
   "outputs": [
    {
     "name": "stdout",
     "output_type": "stream",
     "text": [
      "error for {'actual_trips': [], 'planned_trips': [], 'direct_trips': [], 'id': 935}\n",
      "error for {'actual_trips': [], 'planned_trips': [], 'direct_trips': [], 'id': 2718}\n",
      "error for {'actual_trips': [], 'planned_trips': [], 'direct_trips': [], 'id': 3895}\n"
     ]
    },
    {
     "data": {
      "image/png": "[encoded data removed]",
      "text/plain": [
       "<Figure size 432x288 with 1 Axes>"
      ]
     },
     "metadata": {
      "needs_background": "light"
     },
     "output_type": "display_data"
    }
   ],
   "source": [
    "time_requested_trips = []\n",
    "for person in persons:\n",
    "    try:\n",
    "        if person['actual_trips'][0]['main_mode'] in ['TRANSIT,WALK']:\n",
    "            time_requested_trips.append(person['actual_trips'][0]['legs'][0]['start_time'])\n",
    "    except:\n",
    "        print('error for {}'.format(person))\n",
    "        continue\n",
    "        \n",
    "fig = plt.figure()\n",
    "ax = fig.add_subplot(111)\n",
    "ax.hist(x=time_requested_trips, bins=np.arange(0,day_sec+1,day_sec/day_h*8/60), color='blue', alpha=0.7, rwidth=0.85, density=False)\n",
    "#n, bins, patches = plt.hist(x=upsampled_wl['work_journey_start_time'], bins=np.arange(1,24,.5), color='grey',\n",
    "                           # alpha=0.7, rwidth=0.85, density=1) #, stacked=True, density=True\n",
    "plt.grid(axis='y', alpha=0.75)\n",
    "plt.xlabel('Start time of trips')\n",
    "plt.ylabel('Number of requests')\n",
    "plt.title('Time distribution of executed TRANSIT trips')\n",
    "\n",
    "plt.xticks([x*3600 for x in [0, 3, 6, 9, 12, 15, 18, 21, 24]])\n",
    "names_x = ['00:00','03:00','6:00','9:00','12:00','15:00','18:00','21:00', '24:00']\n",
    "ax.set_xticklabels(names_x,rotation=45)\n",
    "\n",
    "plt.savefig('data/demand_distr.png', dpi=600)"
   ]
  },
  {
   "cell_type": "code",
   "execution_count": 45,
   "metadata": {},
   "outputs": [
    {
     "name": "stdout",
     "output_type": "stream",
     "text": [
      "error for {'actual_trips': [], 'planned_trips': [], 'direct_trips': [], 'id': 935}\n",
      "error for {'actual_trips': [], 'planned_trips': [], 'direct_trips': [], 'id': 2718}\n",
      "error for {'actual_trips': [], 'planned_trips': [], 'direct_trips': [], 'id': 3895}\n"
     ]
    },
    {
     "data": {
      "image/png": "[encoded data removed]",
      "text/plain": [
       "<Figure size 432x288 with 1 Axes>"
      ]
     },
     "metadata": {
      "needs_background": "light"
     },
     "output_type": "display_data"
    }
   ],
   "source": [
    "time_requested_trips = []\n",
    "for person in persons:\n",
    "    try:\n",
    "        if person['actual_trips'][0]['main_mode'] in ['DRT_TRANSIT']:\n",
    "            time_requested_trips.append(person['actual_trips'][0]['legs'][0]['start_time'])\n",
    "    except:\n",
    "        print('error for {}'.format(person))\n",
    "        continue\n",
    "        \n",
    "fig = plt.figure()\n",
    "ax = fig.add_subplot(111)\n",
    "ax.hist(x=time_requested_trips, bins=np.arange(0,day_sec+1,day_sec/day_h*8/60), color='blue', alpha=0.7, rwidth=0.85, density=False)\n",
    "#n, bins, patches = plt.hist(x=upsampled_wl['work_journey_start_time'], bins=np.arange(1,24,.5), color='grey',\n",
    "                           # alpha=0.7, rwidth=0.85, density=1) #, stacked=True, density=True\n",
    "plt.grid(axis='y', alpha=0.75)\n",
    "plt.xlabel('Start time of trips')\n",
    "plt.ylabel('Number of requests')\n",
    "plt.title('Time distribution of executed DRT_TRANSIT trips')\n",
    "\n",
    "plt.xticks([x*3600 for x in [0, 3, 6, 9, 12, 15, 18, 21, 24]])\n",
    "names_x = ['00:00','03:00','6:00','9:00','12:00','15:00','18:00','21:00', '24:00']\n",
    "ax.set_xticklabels(names_x,rotation=45)\n",
    "\n",
    "plt.savefig('data/demand_distr.png', dpi=600)"
   ]
  },
  {
   "cell_type": "code",
   "execution_count": 46,
   "metadata": {},
   "outputs": [
    {
     "data": {
      "image/png": "[encoded data removed]",
      "text/plain": [
       "<Figure size 432x288 with 1 Axes>"
      ]
     },
     "metadata": {
      "needs_background": "light"
     },
     "output_type": "display_data"
    }
   ],
   "source": [
    "#  also includes rejected by distance and no pt stop\n",
    "time_rejected_trips = []\n",
    "for person in persons:\n",
    "    for trip in person.get('actual_trips'):\n",
    "        if trip.get('main_mode') not in [OtpMode.DRT, OtpMode.DRT_TRANSIT]:\n",
    "            time_rejected_trips.append(trip.get('legs')[0].get('start_time'))\n",
    "\n",
    "# Distribution of rejected trips\n",
    "\n",
    "fig = plt.figure()\n",
    "ax = fig.add_subplot(111)\n",
    "ax.hist(x=time_rejected_trips, bins=np.arange(1,86400,86401/24), color='blue', alpha=0.7, rwidth=0.85, density=False)\n",
    "#n, bins, patches = plt.hist(x=upsampled_wl['work_journey_start_time'], bins=np.arange(1,24,.5), color='grey',\n",
    "                           # alpha=0.7, rwidth=0.85, density=1) #, stacked=True, density=True\n",
    "plt.grid(axis='y', alpha=0.75)\n",
    "plt.xlabel('Start time of trips')\n",
    "plt.ylabel('Number of requests')\n",
    "# plt.xlabel('Start time of work trip')\n",
    "# plt.ylabel('Frequency')\n",
    "plt.title('Distribution of rejected trips')\n",
    "plt.xticks([x*3600 for x in [0, 3, 6, 9, 12, 15, 18, 21, 24]])\n",
    "names_x = ['00:00','03:00','6:00','9:00','12:00','15:00','18:00','21:00', '24:00']\n",
    "ax.set_xticklabels(names_x,rotation=45)\n",
    "\n",
    "plt.ylim(ymax=2000, ymin=0)\n",
    "plt.savefig('data/rejected_all.png', dpi=600)"
   ]
  },
  {
   "cell_type": "code",
   "execution_count": 47,
   "metadata": {},
   "outputs": [
    {
     "data": {
      "image/png": "[encoded data removed]",
      "text/plain": [
       "<Figure size 432x288 with 1 Axes>"
      ]
     },
     "metadata": {
      "needs_background": "light"
     },
     "output_type": "display_data"
    }
   ],
   "source": [
    "time_rejected_trips = []\n",
    "for person in persons:\n",
    "    for trip in person.get('actual_trips'):\n",
    "        if trip.get('main_mode') in [OtpMode.CAR]:\n",
    "            time_rejected_trips.append(trip.get('legs')[0].get('start_time'))\n",
    "            \n",
    "# Distribution of rejected trips\n",
    "\n",
    "fig = plt.figure()\n",
    "ax = fig.add_axes([0.15, 0.15, 0.8, 0.77])\n",
    "ax.hist(x=time_rejected_trips, bins=np.arange(1,86400,86401/24), color='blue', alpha=0.7, rwidth=0.85, density=False)\n",
    "#n, bins, patches = plt.hist(x=upsampled_wl['work_journey_start_time'], bins=np.arange(1,24,.5), color='grey',\n",
    "                           # alpha=0.7, rwidth=0.85, density=1) #, stacked=True, density=True\n",
    "plt.grid(axis='y', alpha=0.75)\n",
    "plt.xlabel('Start time of trips', fontsize=16)\n",
    "plt.ylabel('Number of requests', fontsize=16)\n",
    "# plt.xlabel('Start time of work trip')\n",
    "# plt.ylabel('Frequency')\n",
    "plt.title('Distribution of rejected trips', fontsize=18)\n",
    "plt.xticks([x*3600 for x in [0, 3, 6, 9, 12, 15, 18, 21, 24]])\n",
    "names_x = ['00:00','03:00','6:00','9:00','12:00','15:00','18:00','21:00', '24:00']\n",
    "ax.set_xticklabels(names_x,rotation=45)\n",
    "\n",
    "\n",
    "plt.ylim(ymax=1000, ymin=0)\n",
    "plt.savefig('data/rejected_car.png', dpi=600)"
   ]
  },
  {
   "cell_type": "code",
   "execution_count": 48,
   "metadata": {},
   "outputs": [
    {
     "data": {
      "image/png": "[encoded data removed]",
      "text/plain": [
       "<Figure size 432x288 with 1 Axes>"
      ]
     },
     "metadata": {
      "needs_background": "light"
     },
     "output_type": "display_data"
    }
   ],
   "source": [
    "trips = []\n",
    "for person in persons:\n",
    "    for trip in person.get('actual_trips'):\n",
    "        trips.append(trip.get('legs')[0].get('start_time'))\n",
    "            \n",
    "# Distribution of rejected trips\n",
    "\n",
    "fig = plt.figure()\n",
    "ax = fig.add_axes([0.15, 0.15, 0.8, 0.77])\n",
    "ax.hist(x=trips, bins=np.arange(0,86401,86400/24), color='blue', alpha=0.7, rwidth=0.85, density=False)\n",
    "#n, bins, patches = plt.hist(x=upsampled_wl['work_journey_start_time'], bins=np.arange(1,24,.5), color='grey',\n",
    "                           # alpha=0.7, rwidth=0.85, density=1) #, stacked=True, density=True\n",
    "plt.grid(axis='y', alpha=0.75)\n",
    "plt.xlabel('Start time of trips', fontsize=16)\n",
    "plt.ylabel('Number of requests', fontsize=16)\n",
    "plt.title('Demand distribution', fontsize=18)\n",
    "plt.xticks([x*3600 for x in [0, 3, 6, 9, 12, 15, 18, 21, 24]], fontsize=13)\n",
    "plt.yticks(fontsize=13)\n",
    "names_x = ['00:00','03:00','6:00','9:00','12:00','15:00','18:00','21:00', '24:00']\n",
    "ax.set_xticklabels(names_x,rotation=45)\n",
    "\n",
    "\n",
    "plt.ylim(ymax=2500, ymin=0)\n",
    "plt.savefig('data/demand_distr.png', dpi=600)"
   ]
  },
  {
   "cell_type": "code",
   "execution_count": 49,
   "metadata": {},
   "outputs": [
    {
     "data": {
      "text/plain": [
       "236"
      ]
     },
     "execution_count": 49,
     "metadata": {},
     "output_type": "execute_result"
    }
   ],
   "source": [
    "len(time_rejected_trips)"
   ]
  },
  {
   "cell_type": "code",
   "execution_count": null,
   "metadata": {},
   "outputs": [],
   "source": []
  },
  {
   "cell_type": "code",
   "execution_count": 50,
   "metadata": {},
   "outputs": [],
   "source": [
    "drt_legs = []\n",
    "for person in persons:\n",
    "    for trip in person.get('actual_trips'):\n",
    "        if trip.get('main_mode') in [OtpMode.DRT, OtpMode.DRT_TRANSIT]:\n",
    "            for leg in trip['legs']:\n",
    "                if leg['mode'] == 'DRT':\n",
    "                    drt_legs.append(leg)"
   ]
  },
  {
   "cell_type": "code",
   "execution_count": 51,
   "metadata": {},
   "outputs": [],
   "source": [
    "end_times = [leg['end_time'] for leg in drt_legs]"
   ]
  },
  {
   "cell_type": "code",
   "execution_count": 52,
   "metadata": {},
   "outputs": [
    {
     "data": {
      "image/png": "[encoded data removed]",
      "text/plain": [
       "<Figure size 432x288 with 1 Axes>"
      ]
     },
     "metadata": {
      "needs_background": "light"
     },
     "output_type": "display_data"
    }
   ],
   "source": [
    "fig = plt.figure()\n",
    "ax = fig.add_axes([0.15, 0.15, 0.77, 0.77])\n",
    "plt.rcParams.update({'font.size': 13})\n",
    "distr = ax.hist(x=end_times, bins=np.arange(0,86401,86400/24), color='blue', alpha=0.7, rwidth=0.85, density=False)\n",
    "ax.set_ylabel('Passengers per hour', fontsize=16)\n",
    "secaxy = ax.secondary_yaxis('right', functions=(lambda x: x/n_cars, lambda x: x*n_cars))\n",
    "secaxy.set_ylabel('Passenger per vehicle per hour', fontsize=16)\n",
    "plt.title('Distribution of passengers per hour', fontsize=18)\n",
    "plt.xticks([x*3600 for x in [0, 3, 6, 9, 12, 15, 18, 21, 24]])\n",
    "names_x = ['00:00','03:00','6:00','9:00','12:00','15:00','18:00','21:00', '24:00']\n",
    "ax.set_xticklabels(names_x,rotation=45)\n",
    "plt.yticks(fontsize=13)\n",
    "plt.xticks(fontsize=13)\n",
    "plt.ylim(0,150)\n",
    "plt.xlim(3*60*60,89000)\n",
    "plt.savefig('data/pass_per_hour.png', dpi=600, bbox_inches=\"tight\")"
   ]
  },
  {
   "cell_type": "code",
   "execution_count": 53,
   "metadata": {},
   "outputs": [
    {
     "name": "stdout",
     "output_type": "stream",
     "text": [
      "1.6152777777777778  -mean passengers per hour per vehicle\n",
      "1.9349999999999998  - excluding 0-3 hours interval\n",
      "2.276470588235294  - excluding 0-3 and 21-24 hours interval\n"
     ]
    }
   ],
   "source": [
    "print(sum(distr[0])/day_h/n_cars, ' -mean passengers per hour per vehicle')\n",
    "print(sum(distr[0][5:])/(day_h-4)/n_cars, ' - excluding 0-3 hours interval')\n",
    "print(sum(distr[0][5:])/(day_h-4-3)/n_cars, ' - excluding 0-3 and 21-24 hours interval')"
   ]
  },
  {
   "cell_type": "code",
   "execution_count": null,
   "metadata": {},
   "outputs": [],
   "source": []
  }
 ],
 "metadata": {
  "kernelspec": {
   "display_name": "Python 3",
   "language": "python",
   "name": "python3"
  },
  "language_info": {
   "codemirror_mode": {
    "name": "ipython",
    "version": 3
   },
   "file_extension": ".py",
   "mimetype": "text/x-python",
   "name": "python",
   "nbconvert_exporter": "python",
   "pygments_lexer": "ipython3",
   "version": "3.7.6"
  }
 },
 "nbformat": 4,
 "nbformat_minor": 2
}

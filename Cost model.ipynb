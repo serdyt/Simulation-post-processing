{
 "cells": [
  {
   "cell_type": "code",
   "execution_count": 2,
   "metadata": {},
   "outputs": [],
   "source": [
    "import csv\n",
    "import pandas as pd\n",
    "import matplotlib.pyplot as plt\n",
    "import glob\n",
    "import numpy as np\n",
    "pd.set_option('display.max_rows', None)\n",
    "import zipfile\n",
    "import os\n",
    "import shutil"
   ]
  },
  {
   "cell_type": "code",
   "execution_count": 3,
   "metadata": {},
   "outputs": [],
   "source": [
    "scenario_name = \"0\"\n",
    "path_to_zip_file = '/home/ai6644/Malmo/Tools/Simulation results/Lolland/TRB/drt/dtm 1.1/'+\\\n",
    "                   scenario_name+'/log.zip'"
   ]
  },
  {
   "cell_type": "code",
   "execution_count": 4,
   "metadata": {},
   "outputs": [],
   "source": [
    "day_sec = int(86400)\n",
    "day_h = int(24)"
   ]
  },
  {
   "cell_type": "code",
   "execution_count": 5,
   "metadata": {},
   "outputs": [],
   "source": [
    "with zipfile.ZipFile(path_to_zip_file, 'r') as zip_ref:\n",
    "    try:\n",
    "        shutil.rmtree('data/zip')\n",
    "    except (FileNotFoundError, OSError) as e:\n",
    "        pass\n",
    "    os.mkdir('data/zip')\n",
    "    zip_ref.extractall('data/zip')\n",
    "path = 'data/zip/' + os.listdir('data/zip')[0] + '/vehicle_logs'"
   ]
  },
  {
   "cell_type": "code",
   "execution_count": 6,
   "metadata": {},
   "outputs": [],
   "source": [
    "# all_files = glob.glob(path + \"/vehicle_occupancy_*\")\n",
    "all_files = glob.glob(\"data/zip/*/vehicle_logs/vehicle_occupancy_*\")\n",
    "all_files.sort()\n",
    "\n",
    "occupancies = []\n",
    "for filename in all_files:\n",
    "    df = pd.read_csv(filename, index_col=None, header=0)\n",
    "    df['time'] = df.time.astype(int)\n",
    "    df = df.drop_duplicates(keep='last', subset='time')\n",
    "    occupancies.append(df)\n",
    "\n",
    "merged_time = pd.concat(occupancies)['time'].sort_values().drop_duplicates()\n",
    "\n",
    "# for df in occupancies:\n",
    "#     df['time'] = df.time.astype(int).drop_duplicates()\n",
    "#     df.set_index('time', inplace=True)\n",
    "    \n",
    "# merged_df = pd.concat(occupancies, axis=1).fillna(method='ffill')"
   ]
  },
  {
   "cell_type": "code",
   "execution_count": 7,
   "metadata": {},
   "outputs": [],
   "source": [
    "n_cars = len(all_files)\n",
    "# n_cars = 25"
   ]
  },
  {
   "cell_type": "code",
   "execution_count": 8,
   "metadata": {},
   "outputs": [],
   "source": [
    "all_files = glob.glob(\"data/zip/*/vehicle_logs/vehicle_status_*\")\n",
    "all_files.sort()\n",
    "\n",
    "statuses = []\n",
    "for filename in all_files:\n",
    "    df = pd.read_csv(filename, index_col=None, header=0, delimiter=',', quotechar='|', quoting=csv.QUOTE_MINIMAL)\n",
    "    df.columns = ['time', 'status']\n",
    "    df['time'] = df.time.astype(int)\n",
    "    df = df.drop_duplicates(keep='last', subset='time')\n",
    "    statuses.append(df)"
   ]
  },
  {
   "cell_type": "code",
   "execution_count": 9,
   "metadata": {},
   "outputs": [],
   "source": [
    "times = []\n",
    "for vid, status in enumerate(statuses):\n",
    "    t_idle = 0\n",
    "    t_wait = 0\n",
    "    t_drive = 0\n",
    "    t_return = 0\n",
    "    t_stop = 0\n",
    "    started = False # not used, but we may use it to add empty waiting time to idle time\n",
    "    for (_, st1), (_,st2) in zip(status.iterrows(), status.iloc[1:].iterrows()):\n",
    "\n",
    "        t = st2.time - st1.time\n",
    "\n",
    "        # departed\n",
    "        if st1.status == 6 and st2.status != 6:\n",
    "            started = True\n",
    "        # staying at depot\n",
    "        if st1.status == 6:\n",
    "            t_idle += t\n",
    "        # arrived to depot\n",
    "        if st1.status != 6 and st2.status == 6:\n",
    "            started = False\n",
    "\n",
    "        if st1.status == 4:\n",
    "            t_wait += t\n",
    "\n",
    "        # driving\n",
    "        if st1.status == 3:\n",
    "            t_drive += t\n",
    "\n",
    "        # returning\n",
    "        if st1.status == 5:\n",
    "            t_return += t\n",
    "\n",
    "        #on a stop\n",
    "        if st1.status in (0,2):\n",
    "            t_stop +=t\n",
    "\n",
    "    if len(status) == 1:\n",
    "        t_idle = 86400\n",
    "    else:\n",
    "        t_idle += 86400 - st2.time\n",
    "\n",
    "    if (t_idle + t_wait + t_drive + t_return + t_stop != 86400):\n",
    "        print('somehing is wrong!')\n",
    "        break\n",
    "\n",
    "    times.append(pd.DataFrame([t_idle, t_wait, t_drive, t_return, t_stop], index=['idle', 'wait', 'drive', 'return', 'stop'], columns=[vid]).T)"
   ]
  },
  {
   "cell_type": "code",
   "execution_count": 10,
   "metadata": {},
   "outputs": [],
   "source": [
    "vehicle_times = pd.concat(times)"
   ]
  },
  {
   "cell_type": "code",
   "execution_count": 11,
   "metadata": {},
   "outputs": [],
   "source": [
    "vehicle_times = vehicle_times[vehicle_times.idle != 86400]"
   ]
  },
  {
   "cell_type": "code",
   "execution_count": 12,
   "metadata": {},
   "outputs": [
    {
     "data": {
      "text/plain": [
       "34"
      ]
     },
     "execution_count": 12,
     "metadata": {},
     "output_type": "execute_result"
    }
   ],
   "source": [
    "len(vehicle_times)"
   ]
  },
  {
   "cell_type": "code",
   "execution_count": 15,
   "metadata": {},
   "outputs": [
    {
     "data": {
      "text/plain": [
       "34.0"
      ]
     },
     "execution_count": 15,
     "metadata": {},
     "output_type": "execute_result"
    }
   ],
   "source": [
    "vehicle_times.sum().sum()/86400"
   ]
  },
  {
   "cell_type": "code",
   "execution_count": 13,
   "metadata": {},
   "outputs": [],
   "source": [
    "# (vehicle_times.drive.sum() + vehicle_times.wait.sum() + vehicle_times.stop.sum())/3600"
   ]
  },
  {
   "cell_type": "code",
   "execution_count": 14,
   "metadata": {},
   "outputs": [
    {
     "name": "stdout",
     "output_type": "stream",
     "text": [
      "241,40583333333333\n"
     ]
    }
   ],
   "source": [
    "a = (vehicle_times.drive.sum() + vehicle_times[\"return\"].sum() + vehicle_times.stop.sum())/3600\n",
    "print(str(a).replace('.',','))"
   ]
  },
  {
   "cell_type": "markdown",
   "metadata": {},
   "source": [
    "# Cost for DRT (assuming availability between 5 and 20 - 9h)"
   ]
  },
  {
   "cell_type": "code",
   "execution_count": 15,
   "metadata": {},
   "outputs": [
    {
     "data": {
      "text/plain": [
       "175066.98225"
      ]
     },
     "execution_count": 15,
     "metadata": {},
     "output_type": "execute_result"
    }
   ],
   "source": [
    "(vehicle_times.drive + vehicle_times.stop + vehicle_times['return']).sum()*(367/60/60) + \\\n",
    "    ((vehicle_times.idle + vehicle_times.wait).sum() - len(vehicle_times)*7*60*60)*(367/60/60)*0.7"
   ]
  },
  {
   "cell_type": "code",
   "execution_count": 16,
   "metadata": {},
   "outputs": [
    {
     "data": {
      "text/plain": [
       "159632.9195833333"
      ]
     },
     "execution_count": 16,
     "metadata": {},
     "output_type": "execute_result"
    }
   ],
   "source": [
    "# waiting time is full prised\n",
    "(vehicle_times.drive + vehicle_times.stop + vehicle_times['return'] + vehicle_times.wait).sum()*(367/60/60) + \\\n",
    "    ((vehicle_times.idle).sum() - len(vehicle_times)*9*60*60)*(367/60/60)*0.7"
   ]
  },
  {
   "cell_type": "code",
   "execution_count": 17,
   "metadata": {},
   "outputs": [
    {
     "data": {
      "text/plain": [
       "157597.78225"
      ]
     },
     "execution_count": 17,
     "metadata": {},
     "output_type": "execute_result"
    }
   ],
   "source": [
    "# waiting time is partially prised\n",
    "(vehicle_times.drive + vehicle_times.stop + vehicle_times['return']).sum()*(367/60/60) + \\\n",
    "    ((vehicle_times.idle).sum() + vehicle_times.wait.sum() - len(vehicle_times)*9*60*60)*(367/60/60)*0.7"
   ]
  },
  {
   "cell_type": "code",
   "execution_count": 232,
   "metadata": {},
   "outputs": [
    {
     "data": {
      "text/plain": [
       "201384.29666666663"
      ]
     },
     "execution_count": 232,
     "metadata": {},
     "output_type": "execute_result"
    }
   ],
   "source": [
    "cost = 440\n",
    "(vehicle_times.drive + vehicle_times.stop + vehicle_times['return'] + vehicle_times.wait).sum()*(cost/60/60) + \\\n",
    "    ((vehicle_times.idle).sum() - len(vehicle_times)*9*60*60)*(cost/60/60)*0.7"
   ]
  },
  {
   "cell_type": "code",
   "execution_count": 233,
   "metadata": {},
   "outputs": [
    {
     "data": {
      "text/plain": [
       "212510.8888888889"
      ]
     },
     "execution_count": 233,
     "metadata": {},
     "output_type": "execute_result"
    }
   ],
   "source": [
    "cost = 800\n",
    "(vehicle_times.drive + vehicle_times.stop + vehicle_times['return'] + vehicle_times.wait).sum()*(cost/60/60)"
   ]
  },
  {
   "cell_type": "markdown",
   "metadata": {},
   "source": [
    "# Cost for busses"
   ]
  },
  {
   "cell_type": "code",
   "execution_count": 234,
   "metadata": {},
   "outputs": [
    {
     "ename": "SyntaxError",
     "evalue": "invalid syntax (<ipython-input-234-540e15537d6b>, line 1)",
     "output_type": "error",
     "traceback": [
      "\u001b[0;36m  File \u001b[0;32m\"<ipython-input-234-540e15537d6b>\"\u001b[0;36m, line \u001b[0;32m1\u001b[0m\n\u001b[0;31m    REQUIRES UPDATING\u001b[0m\n\u001b[0m                    ^\u001b[0m\n\u001b[0;31mSyntaxError\u001b[0m\u001b[0;31m:\u001b[0m invalid syntax\n"
     ]
    }
   ],
   "source": [
    "REQUIRES UPDATING\n",
    "# +1h to ride to depot\n",
    "# 715: 2 buses from 5.50-19.20 and 6.15-19.20 with 4+5 breaks of 30 minutes and two of an hour\n",
    "l715 = 1200*(19.3-5.8+1 + 19-6+1 -9*0.5-2) + 1200*0.7*(9*0.5 + 2)\n",
    "# 716: 2 buses from 5.40-17.50 and 6.20-18.50 (with 4 break of 50 minutes) and one more 6.30-8.50 + 18.48-19.50\n",
    "l716 = 1200*(17.8-5.66+1 + 18.83-6.33+1 - 2*4) + 1200*0.7*4*2 + 1200*(3.3+2)\n",
    "# 718: 1 bus full time 5.43-18.09\n",
    "l718 = 1200*(18.16-5.72 + 1)\n",
    "# 778: 1 bus 14.15-16.30 + 6.55-7.45\n",
    "l788 = 1200*(2+1 + 1+1)\n",
    "# 791: 1 bus 14-17 + 7-8\n",
    "l791 = 1200*(17-14 + 1 + 1+1)\n",
    "# line 774: 1 bus 6.25-7.55 + 13.00+16.15\n",
    "l774 = 1200*(1.3+1 + 3.2+1)\n",
    "# line 772: 1 bus 6.35-7.35 + 13.45-16.35\n",
    "l772 = 1200*(1+1 + 3+1)\n",
    "# line 792: 1 bus 7-7.35 + 14.20-17.20\n",
    "l792 = 1200*(0.5+1 + 3+1)\n",
    "# line 780: 2 buses 6-20 with 3.40 hours of a break\n",
    "l780 = 1200*((20-6 + 1)*2 - 3.6) + 1200*0.7*3.6\n",
    "# line 719: 2 busses 6-19 and 7-19 7.40 pause + 1 trip 7.10-7.40\n",
    "l719 = 1200*(19-6+1 + 19-7+1 -7.6 +0.5+1) + 1200*0.7*7.6\n",
    "# line 711: one bus 6.50-17.44\n",
    "l711 = 1200*(17-6 + 1)\n",
    "# line 714: 1 bus 7.50-17.13 with 9*0.37 pause\n",
    "l714 = 1200*(10.2 - 9*0.55 + 1) + 1200*0.7*9*0.55\n",
    "# line 713: 1 bus 7.20-16.40 with 9*0.40 pause\n",
    "l713 = 1200*(9.3 - 9*0.6 + 1) + 1200*0.7*9*0.6\n",
    "# line 771: 6.30-7.30 + 13.45-16.35 (2x0.50 pause)\n",
    "l771 = 1200*(1+1 + 2.8+1 - 1.6) + 1200*0.7*1.6 \n",
    "# line 773: 6.40-7.32 + 13.40-16.30 (2x0.50 pause)\n",
    "l773 = 1200*(0.85+1 + 2.8+1 - 1.6) + 1200*0.7*1.6\n",
    "# line 778: 6.55-7.45 + 14.15-16.30\n",
    "l778 = 1200*(0.83+1 + 2.25 + 1)"
   ]
  },
  {
   "cell_type": "code",
   "execution_count": null,
   "metadata": {},
   "outputs": [],
   "source": [
    "# No extra time added\n",
    "# 715: 2 buses from 5.50-19.20 and 6.15-19.20 with 4+5 breaks of 30 minutes and two of an hour\n",
    "l715 = 1200*(19.3-5.8 + 19-6 -9*0.5-2) + 1200*0.7*(9*0.5 + 2)\n",
    "# 716: 2 buses from 5.40-17.50 and 6.20-18.50 (with 4 break of 50 minutes) and one more 6.30-8.50 + 18.48-19.50\n",
    "l716 = 1200*(17.8-5.66 + 18.83-6.33 - 2*4) + 1200*0.7*4*2 + 1200*(3.3+2)\n",
    "# 718: 1 bus full time 5.43-18.09\n",
    "l718 = 1200*(18.16-5.72)\n",
    "# 778: 1 bus 14.15-16.30 + 6.55-7.45\n",
    "l788 = 1200*(2 + 1)\n",
    "# 791: 1 bus 14-17 + 7-8\n",
    "l791 = 1200*(17-14  + 1)\n",
    "# line 774: 1 bus 6.25-7.55 + 13.00+16.15\n",
    "l774 = 1200*(1.3 + 3.2)\n",
    "# line 772: 1 bus 6.35-7.35 + 13.45-16.35\n",
    "l772 = 1200*(1 + 3)\n",
    "# line 792: 1 bus 7-7.35 + 14.20-17.20\n",
    "l792 = 1200*(0.5 + 3)\n",
    "# line 780: 2 buses 6-20 with 3.40 hours of a break\n",
    "l780 = 1200*((20-6)*2 - 3.6) + 1200*0.7*3.6\n",
    "# line 719: 2 busses 6-19 and 7-19 7.40 pause + 1 trip 7.10-7.40\n",
    "l719 = 1200*(19-6 + 19-7 -7.6 +0.5) + 1200*0.7*7.6\n",
    "# line 711: one bus 6.50-17.44\n",
    "l711 = 1200*(17-6)\n",
    "# line 714: 1 bus 7.50-17.13 with 9*0.37 pause\n",
    "l714 = 1200*(10.2 - 9*0.55) + 1200*0.7*9*0.55\n",
    "# line 713: 1 bus 7.20-16.40 with 9*0.40 pause\n",
    "l713 = 1200*(9.3 - 9*0.6 ) + 1200*0.7*9*0.6\n",
    "# line 771: 6.30-7.30 + 13.45-16.35 (2x0.50 pause)\n",
    "l771 = 1200*(1 + 2.8 - 1.6) + 1200*0.7*1.6 \n",
    "# line 773: 6.40-7.32 + 13.40-16.30 (2x0.50 pause)\n",
    "l773 = 1200*(0.85 + 2.8 - 1.6) + 1200*0.7*1.6\n",
    "# line 778: 6.55-7.45 + 14.15-16.30\n",
    "l778 = 1200*(0.83 + 2.25)\n",
    "# line 717: 1 bus 6-9 + 13-16\n",
    "l717 = 1200*(3 + 3) + 1200*(4*0.7)"
   ]
  },
  {
   "cell_type": "code",
   "execution_count": null,
   "metadata": {},
   "outputs": [],
   "source": [
    "l719 + l711 + l713 + l714 + l715 + l716 + l718 + l771 + l772 + l773 + l774 + l778 + l780 + l791 + l792"
   ]
  },
  {
   "cell_type": "code",
   "execution_count": null,
   "metadata": {},
   "outputs": [],
   "source": [
    "# no 771 and 772 and 780\n",
    "l719 + l711 + l713 + l714 + l715 + l716*0.5 + l718 + l773 + l774 + l778 + l791 + l792 + l780*0.5 + l717*0.5"
   ]
  },
  {
   "cell_type": "markdown",
   "metadata": {},
   "source": [
    "## Service hours"
   ]
  },
  {
   "cell_type": "code",
   "execution_count": null,
   "metadata": {},
   "outputs": [],
   "source": [
    "\n",
    "# 715: 2 buses from 5.50-19.20 and 6.15-19.20 with 4+5 breaks of 30 minutes and two of an hour\n",
    "l715 = (19.3-5.8 + 19-6 -9*0.5-2) + (9*0.5 + 2)\n",
    "# 716: 2 buses from 5.40-17.50 and 6.20-18.50 (with 4 break of 50 minutes) and one more 6.30-8.50 + 18.48-19.50\n",
    "l716 = (17.8-5.66 + 18.83-6.33 - 2*4) + 4*2 + (3.3+2)\n",
    "# 718: 1 bus full time 5.43-18.09\n",
    "l718 = (18.16-5.72)\n",
    "# 791: 1 bus 14-17 + 7-8\n",
    "l791 = (17-14  + 1)\n",
    "# line 774: 1 bus 6.25-7.55 + 13.00+16.15\n",
    "l774 = (1.3 + 3.2)\n",
    "# line 772: 1 bus 6.35-7.35 + 13.45-16.35\n",
    "l772 = (1 + 3)\n",
    "# line 792: 1 bus 7-7.35 + 14.20-17.20\n",
    "l792 = (0.5 + 3)\n",
    "# line 780: 2 buses 6-20 with 3.40 hours of a break\n",
    "l780 = ((20-6)*2 - 3.6) + 3.6\n",
    "# line 719: 2 busses 6-19 and 7-19 7.40 pause + 1 trip 7.10-7.40\n",
    "l719 = (19-6 + 19-7 -7.6 +0.5) + 7.6\n",
    "# line 711: one bus 6.50-17.44\n",
    "l711 = (17-6)\n",
    "# line 714: 1 bus 7.50-17.13 with 9*0.37 pause\n",
    "l714 = (10.2 - 9*0.55) + 9*0.55\n",
    "# line 713: 1 bus 7.20-16.40 with 9*0.40 pause\n",
    "l713 = (9.3 - 9*0.6 ) + 9*0.6\n",
    "# line 771: 6.30-7.30 + 13.45-16.35 (2x0.50 pause)\n",
    "l771 = (1 + 2.8 - 1.6) + 1.6 \n",
    "# line 773: 6.40-7.32 + 13.40-16.30 (2x0.50 pause)\n",
    "l773 = (0.85 + 2.8 - 1.6) + 1.6\n",
    "# line 778: 6.55-7.45 + 14.15-16.30\n",
    "l778 = (0.83 + 2.25)\n",
    "# line 717: 1 bus 6-9 + 13-16\n",
    "l717 = (3 + 3)"
   ]
  },
  {
   "cell_type": "code",
   "execution_count": null,
   "metadata": {},
   "outputs": [],
   "source": [
    "l719 + l711 + l713 + l714 + l715 + l716 + l718 + l773 + l774 + l778 + l791 + l792 + l780 + l717"
   ]
  },
  {
   "cell_type": "code",
   "execution_count": null,
   "metadata": {},
   "outputs": [],
   "source": [
    "# no lines '772', '792', '774', '773', '791', '771'\n",
    "(l719 + l711 + l713 + l714 + l715 + l716*0.5 + l718 + l778 + l780*0.5 + l717*0.5)*1"
   ]
  },
  {
   "cell_type": "code",
   "execution_count": null,
   "metadata": {},
   "outputs": [],
   "source": [
    "# no lines '772', '792', '774', '773', '791', '771'\n",
    "(l719 + l711 + l713 + l714 + l715 + l716*0.5 + l718 + l778 + l780*0.5 + l717*0.5 - 2)*1200"
   ]
  },
  {
   "cell_type": "code",
   "execution_count": null,
   "metadata": {},
   "outputs": [],
   "source": [
    "number of buses:"
   ]
  },
  {
   "cell_type": "code",
   "execution_count": null,
   "metadata": {},
   "outputs": [],
   "source": [
    "2+1+1+1+2+2+1+2+1"
   ]
  },
  {
   "cell_type": "code",
   "execution_count": null,
   "metadata": {},
   "outputs": [],
   "source": [
    "1+1+1"
   ]
  },
  {
   "cell_type": "code",
   "execution_count": null,
   "metadata": {},
   "outputs": [],
   "source": []
  }
 ],
 "metadata": {
  "kernelspec": {
   "display_name": "Python 3",
   "language": "python",
   "name": "python3"
  },
  "language_info": {
   "codemirror_mode": {
    "name": "ipython",
    "version": 3
   },
   "file_extension": ".py",
   "mimetype": "text/x-python",
   "name": "python",
   "nbconvert_exporter": "python",
   "pygments_lexer": "ipython3",
   "version": "3.7.6"
  }
 },
 "nbformat": 4,
 "nbformat_minor": 4
}

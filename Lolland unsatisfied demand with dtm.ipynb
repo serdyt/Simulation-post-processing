{
 "cells": [
  {
   "cell_type": "code",
   "execution_count": 1,
   "metadata": {},
   "outputs": [],
   "source": [
    "import json\n",
    "import requests\n",
    "import numpy as np\n",
    "from matplotlib import pyplot as plt\n",
    "import pandas as pd\n",
    "import random\n",
    "import glob\n",
    "import zipfile\n",
    "import os\n",
    "import shutil"
   ]
  },
  {
   "cell_type": "code",
   "execution_count": 2,
   "metadata": {},
   "outputs": [],
   "source": [
    "scenario_name = \"0\"\n",
    "path_to_zip_file = '/home/ai6644/Malmo/Tools/Simulation results/Lolland/TRB/drt/dtm 1.1/'+\\\n",
    "                   scenario_name+'/log.zip'"
   ]
  },
  {
   "cell_type": "code",
   "execution_count": 3,
   "metadata": {},
   "outputs": [],
   "source": [
    "day_sec = int(86400)\n",
    "day_h = int(24)"
   ]
  },
  {
   "cell_type": "code",
   "execution_count": 4,
   "metadata": {},
   "outputs": [],
   "source": [
    "with zipfile.ZipFile(path_to_zip_file, 'r') as zip_ref:\n",
    "    try:\n",
    "        shutil.rmtree('data/zip')\n",
    "    except (FileNotFoundError, OSError) as e:\n",
    "        pass\n",
    "    os.mkdir('data/zip')\n",
    "    zip_ref.extractall('data/zip')\n",
    "path = 'data/zip/' + os.listdir('data/zip')[0] + '/trip_dump.json'\n",
    "\n",
    "all_files = glob.glob(\"data/zip/*/vehicle_logs/vehicle_occupancy_*\")"
   ]
  },
  {
   "cell_type": "code",
   "execution_count": 5,
   "metadata": {},
   "outputs": [],
   "source": [
    "fp = open(path)\n",
    "tdump = json.load(fp)\n",
    "fp.close()\n",
    "\n",
    "persons_test = tdump.get('person')\n",
    "\n",
    "car_trips_test = []\n",
    "for person in persons_test:\n",
    "    trips = person.get('actual_trips')\n",
    "    for trip in trips:\n",
    "            legs = [leg for leg in trip.get('legs') if leg.get('mode') in ['CAR']]\n",
    "            if len(legs) > 0:    \n",
    "                car_trips_test.append(person)"
   ]
  },
  {
   "cell_type": "code",
   "execution_count": 6,
   "metadata": {},
   "outputs": [],
   "source": [
    "car_trips_test_id = [person['id'] for person in car_trips_test]"
   ]
  },
  {
   "cell_type": "code",
   "execution_count": 7,
   "metadata": {},
   "outputs": [
    {
     "data": {
      "text/plain": [
       "433"
      ]
     },
     "execution_count": 7,
     "metadata": {},
     "output_type": "execute_result"
    }
   ],
   "source": [
    "len(car_trips_test_id)"
   ]
  },
  {
   "cell_type": "code",
   "execution_count": 8,
   "metadata": {},
   "outputs": [],
   "source": [
    "scenario_name = \"0\"\n",
    "path_to_zip_file = '/home/ai6644/Malmo/Tools/Simulation results/Lolland/TRB/drt/4500/'+\\\n",
    "                   scenario_name+'/log.zip'"
   ]
  },
  {
   "cell_type": "code",
   "execution_count": 9,
   "metadata": {},
   "outputs": [],
   "source": [
    "with zipfile.ZipFile(path_to_zip_file, 'r') as zip_ref:\n",
    "    try:\n",
    "        shutil.rmtree('data/zip')\n",
    "    except (FileNotFoundError, OSError) as e:\n",
    "        pass\n",
    "    os.mkdir('data/zip')\n",
    "    zip_ref.extractall('data/zip')\n",
    "path = 'data/zip/' + os.listdir('data/zip')[0] + '/trip_dump.json'\n",
    "\n",
    "all_files = glob.glob(\"data/zip/*/vehicle_logs/vehicle_occupancy_*\")"
   ]
  },
  {
   "cell_type": "code",
   "execution_count": 10,
   "metadata": {},
   "outputs": [],
   "source": [
    "fp = open(path)\n",
    "tdump = json.load(fp)\n",
    "fp.close()\n",
    "\n",
    "persons_base = tdump.get('person')"
   ]
  },
  {
   "cell_type": "markdown",
   "metadata": {},
   "source": [
    "# People who could not be picked up by anything with dtm 1.1"
   ]
  },
  {
   "cell_type": "code",
   "execution_count": 11,
   "metadata": {},
   "outputs": [],
   "source": [
    "car_trips_base = []\n",
    "for person in persons_base:\n",
    "    if person['id'] in car_trips_test_id:\n",
    "        car_trips_base.append(person)"
   ]
  },
  {
   "cell_type": "code",
   "execution_count": 12,
   "metadata": {},
   "outputs": [
    {
     "data": {
      "text/plain": [
       "433"
      ]
     },
     "execution_count": 12,
     "metadata": {},
     "output_type": "execute_result"
    }
   ],
   "source": [
    "len(car_trips_test_id)"
   ]
  },
  {
   "cell_type": "code",
   "execution_count": 13,
   "metadata": {},
   "outputs": [
    {
     "data": {
      "text/plain": [
       "2571"
      ]
     },
     "execution_count": 13,
     "metadata": {},
     "output_type": "execute_result"
    }
   ],
   "source": [
    "len(persons_base)"
   ]
  },
  {
   "cell_type": "code",
   "execution_count": 14,
   "metadata": {},
   "outputs": [
    {
     "data": {
      "text/plain": [
       "433"
      ]
     },
     "execution_count": 14,
     "metadata": {},
     "output_type": "execute_result"
    }
   ],
   "source": [
    "len(car_trips_base)"
   ]
  },
  {
   "cell_type": "code",
   "execution_count": 15,
   "metadata": {},
   "outputs": [],
   "source": [
    "legs = {}\n",
    "trips = {}\n",
    "for person in car_trips_base:\n",
    "    try:\n",
    "        trip = person['actual_trips'][0]\n",
    "    except:\n",
    "        if 'CAR' in legs.keys():\n",
    "            legs['CAR'] += 1\n",
    "            trips['CAR'] += 1\n",
    "        else:\n",
    "            legs['CAR'] = 1\n",
    "            trips['CAR'] = 1\n",
    "        continue\n",
    "        \n",
    "    for leg in trip['legs']:\n",
    "        if leg['mode'] in legs.keys():\n",
    "            legs[leg['mode']] += 1\n",
    "        else:\n",
    "            legs[leg['mode']] = 1\n",
    "            \n",
    "    if trip['main_mode'] in trips.keys():\n",
    "        trips[trip['main_mode']] += 1\n",
    "    else:\n",
    "        trips[trip['main_mode']] = 1"
   ]
  },
  {
   "cell_type": "code",
   "execution_count": 16,
   "metadata": {},
   "outputs": [
    {
     "data": {
      "text/plain": [
       "{'RAIL': 600, 'DRT': 73, 'BUS': 321, 'WALK': 428, 'CAR': 8, 'SUBWAY': 10}"
      ]
     },
     "execution_count": 16,
     "metadata": {},
     "output_type": "execute_result"
    }
   ],
   "source": [
    "legs"
   ]
  },
  {
   "cell_type": "code",
   "execution_count": 17,
   "metadata": {},
   "outputs": [
    {
     "data": {
      "text/plain": [
       "{'TRANSIT,WALK': 352, 'DRT_TRANSIT': 73, 'CAR': 8}"
      ]
     },
     "execution_count": 17,
     "metadata": {},
     "output_type": "execute_result"
    }
   ],
   "source": [
    "trips"
   ]
  },
  {
   "cell_type": "markdown",
   "metadata": {},
   "source": [
    "# people who were on RAIL but transfered to PT"
   ]
  },
  {
   "cell_type": "code",
   "execution_count": 18,
   "metadata": {},
   "outputs": [],
   "source": [
    "persons_switched = []\n",
    "for person_base, person_test in zip(persons_base, persons_test):\n",
    "    try:\n",
    "        trip_base = person_base['actual_trips'][0]\n",
    "        trip_test = person_test['actual_trips'][0]\n",
    "    except:\n",
    "        continue\n",
    "        \n",
    "    if trip_base['main_mode'] in ['TRANSIT,WALK', 'WALK'] and trip_test['main_mode'] in ['DRT', 'DRT_TRANSIT']:\n",
    "        persons_switched.append((person_base, person_test))"
   ]
  },
  {
   "cell_type": "code",
   "execution_count": 19,
   "metadata": {},
   "outputs": [
    {
     "data": {
      "text/plain": [
       "29"
      ]
     },
     "execution_count": 19,
     "metadata": {},
     "output_type": "execute_result"
    }
   ],
   "source": [
    "len(persons_switched)"
   ]
  },
  {
   "cell_type": "code",
   "execution_count": 20,
   "metadata": {},
   "outputs": [],
   "source": [
    "persons_switched = []\n",
    "for person_base, person_test in zip(persons_base, persons_test):\n",
    "    try:\n",
    "        trip_base = person_base['actual_trips'][0]\n",
    "        trip_test = person_test['actual_trips'][0]\n",
    "    except:\n",
    "        continue\n",
    "        \n",
    "    if trip_base['main_mode'] in ['TRANSIT,WALK', 'WALK'] and trip_test['main_mode'] in ['DRT', 'DRT_TRANSIT']:\n",
    "        persons_switched.append((person_base, person_test))"
   ]
  },
  {
   "cell_type": "code",
   "execution_count": 153,
   "metadata": {},
   "outputs": [],
   "source": [
    "p=7"
   ]
  },
  {
   "cell_type": "code",
   "execution_count": 154,
   "metadata": {},
   "outputs": [
    {
     "data": {
      "text/plain": [
       "{'actual_trips': [{'legs': [{'mode': 'BUS',\n",
       "     'start_coord': {'lat': 54.836338977465, 'lon': 11.372876624145},\n",
       "     'end_coord': {'lat': 54.833155643163, 'lon': 11.139402463455},\n",
       "     'distance': 16943.682430802517,\n",
       "     'duration': 1440.0,\n",
       "     'steps': [],\n",
       "     'from_stop': 48058,\n",
       "     'to_stop': 51418,\n",
       "     'trip_id': 65427309,\n",
       "     'route': '780',\n",
       "     'route_id': 190123,\n",
       "     'start_time': 23340.0,\n",
       "     'end_time': 24780.0},\n",
       "    {'mode': 'WALK',\n",
       "     'start_coord': {'lat': 54.833155643163, 'lon': 11.139402463455},\n",
       "     'end_coord': {'lat': 54.833008735511996, 'lon': 11.139067684884},\n",
       "     'distance': 32.081,\n",
       "     'duration': 32.0,\n",
       "     'steps': [{'start_coord': {'lat': 54.833141, 'lon': 11.139423},\n",
       "       'end_coord': None,\n",
       "       'distance': 21.64,\n",
       "       'duration': 20.0},\n",
       "      {'start_coord': {'lat': 54.832991500000006, 'lon': 11.139228000000001},\n",
       "       'end_coord': None,\n",
       "       'distance': 10.441,\n",
       "       'duration': 12.0}],\n",
       "     'from_stop': None,\n",
       "     'to_stop': None,\n",
       "     'trip_id': None,\n",
       "     'route': None,\n",
       "     'route_id': None,\n",
       "     'start_time': 24780.0,\n",
       "     'end_time': 24812.0}],\n",
       "   'duration': 1472.0,\n",
       "   'distance': 16975.763430802515,\n",
       "   'main_mode': 'TRANSIT,WALK'}],\n",
       " 'planned_trips': [{'legs': [{'mode': 'BUS',\n",
       "     'start_coord': {'lat': 54.836338977465, 'lon': 11.372876624145},\n",
       "     'end_coord': {'lat': 54.833155643163, 'lon': 11.139402463455},\n",
       "     'distance': 16943.682430802517,\n",
       "     'duration': 1440.0,\n",
       "     'steps': [],\n",
       "     'from_stop': 48058,\n",
       "     'to_stop': 51418,\n",
       "     'trip_id': 65427309,\n",
       "     'route': '780',\n",
       "     'route_id': 190123,\n",
       "     'start_time': 23340.0,\n",
       "     'end_time': 24780.0},\n",
       "    {'mode': 'WALK',\n",
       "     'start_coord': {'lat': 54.833155643163, 'lon': 11.139402463455},\n",
       "     'end_coord': {'lat': 54.833008735511996, 'lon': 11.139067684884},\n",
       "     'distance': 32.081,\n",
       "     'duration': 32.0,\n",
       "     'steps': [{'start_coord': {'lat': 54.833141, 'lon': 11.139423},\n",
       "       'end_coord': None,\n",
       "       'distance': 21.64,\n",
       "       'duration': 20.0},\n",
       "      {'start_coord': {'lat': 54.832991500000006, 'lon': 11.139228000000001},\n",
       "       'end_coord': None,\n",
       "       'distance': 10.441,\n",
       "       'duration': 12.0}],\n",
       "     'from_stop': None,\n",
       "     'to_stop': None,\n",
       "     'trip_id': None,\n",
       "     'route': None,\n",
       "     'route_id': None,\n",
       "     'start_time': 24780.0,\n",
       "     'end_time': 24812.0}],\n",
       "   'duration': 1472.0,\n",
       "   'distance': 16975.763430802515,\n",
       "   'main_mode': 'TRANSIT,WALK'}],\n",
       " 'direct_trips': [{'legs': [{'mode': 'DRT',\n",
       "     'start_coord': {'lat': 54.836343, 'lon': 11.372885},\n",
       "     'end_coord': {'lat': 54.833011, 'lon': 11.139069},\n",
       "     'distance': 15833.1,\n",
       "     'duration': 1096.5,\n",
       "     'steps': [{'start_coord': {'lat': 54.836343, 'lon': 11.372885},\n",
       "       'end_coord': {'lat': 54.843058, 'lon': 11.308129},\n",
       "       'distance': 4302.8,\n",
       "       'duration': 241.9},\n",
       "      {'start_coord': {'lat': 54.843058, 'lon': 11.308129},\n",
       "       'end_coord': {'lat': 54.84567, 'lon': 11.215184},\n",
       "       'distance': 6139.4,\n",
       "       'duration': 362.7},\n",
       "      {'start_coord': {'lat': 54.84567, 'lon': 11.215184},\n",
       "       'end_coord': {'lat': 54.832557, 'lon': 11.16204},\n",
       "       'distance': 3831.4,\n",
       "       'duration': 346},\n",
       "      {'start_coord': {'lat': 54.832557, 'lon': 11.16204},\n",
       "       'end_coord': {'lat': 54.831353, 'lon': 11.148393},\n",
       "       'distance': 898,\n",
       "       'duration': 82},\n",
       "      {'start_coord': {'lat': 54.831353, 'lon': 11.148393},\n",
       "       'end_coord': {'lat': 54.831479, 'lon': 11.145179},\n",
       "       'distance': 215,\n",
       "       'duration': 20.7},\n",
       "      {'start_coord': {'lat': 54.831479, 'lon': 11.145179},\n",
       "       'end_coord': {'lat': 54.833011, 'lon': 11.139069},\n",
       "       'distance': 446.5,\n",
       "       'duration': 43.2}],\n",
       "     'from_stop': None,\n",
       "     'to_stop': None,\n",
       "     'trip_id': None,\n",
       "     'route': None,\n",
       "     'route_id': None,\n",
       "     'start_time': None,\n",
       "     'end_time': None}],\n",
       "   'duration': 1096.5,\n",
       "   'distance': 15833.1,\n",
       "   'main_mode': 'CAR'}],\n",
       " 'id': 1432}"
      ]
     },
     "execution_count": 154,
     "metadata": {},
     "output_type": "execute_result"
    }
   ],
   "source": [
    "persons_switched[p][0]"
   ]
  },
  {
   "cell_type": "code",
   "execution_count": 144,
   "metadata": {},
   "outputs": [
    {
     "data": {
      "text/plain": [
       "{'actual_trips': [{'legs': [{'mode': 'DRT',\n",
       "     'start_coord': {'lat': 54.833248872169, 'lon': 11.138192792463},\n",
       "     'end_coord': {'lat': 54.881512389101, 'lon': 11.358443540337},\n",
       "     'distance': 17504.9,\n",
       "     'duration': 1579.6,\n",
       "     'steps': [{'start_coord': {'lat': 54.833248872169,\n",
       "        'lon': 11.138192792463},\n",
       "       'end_coord': {'lat': 54.833248872169, 'lon': 11.138192792463},\n",
       "       'distance': 0,\n",
       "       'duration': 60},\n",
       "      {'start_coord': {'lat': 54.833133, 'lon': 11.138143},\n",
       "       'end_coord': {'lat': 54.831591, 'lon': 11.144905},\n",
       "       'distance': 474.5,\n",
       "       'duration': 45.7},\n",
       "      {'start_coord': {'lat': 54.831591, 'lon': 11.144905},\n",
       "       'end_coord': {'lat': 54.831353, 'lon': 11.148393},\n",
       "       'distance': 249.3,\n",
       "       'duration': 23.7},\n",
       "      {'start_coord': {'lat': 54.831353, 'lon': 11.148393},\n",
       "       'end_coord': {'lat': 54.832527, 'lon': 11.161662},\n",
       "       'distance': 860.1,\n",
       "       'duration': 78.9},\n",
       "      {'start_coord': {'lat': 54.832527, 'lon': 11.161662},\n",
       "       'end_coord': {'lat': 54.84567, 'lon': 11.215184},\n",
       "       'distance': 3870,\n",
       "       'duration': 351.1},\n",
       "      {'start_coord': {'lat': 54.84567, 'lon': 11.215184},\n",
       "       'end_coord': {'lat': 54.84696, 'lon': 11.223963},\n",
       "       'distance': 585.9,\n",
       "       'duration': 42.9},\n",
       "      {'start_coord': {'lat': 54.84696, 'lon': 11.223963},\n",
       "       'end_coord': {'lat': 54.851683, 'lon': 11.222096},\n",
       "       'distance': 547.9,\n",
       "       'duration': 50.2},\n",
       "      {'start_coord': {'lat': 54.851683, 'lon': 11.222096},\n",
       "       'end_coord': {'lat': 54.864231, 'lon': 11.231491},\n",
       "       'distance': 1662.4,\n",
       "       'duration': 94.5},\n",
       "      {'start_coord': {'lat': 54.864231, 'lon': 11.231491},\n",
       "       'end_coord': {'lat': 54.863862, 'lon': 11.256675},\n",
       "       'distance': 1649,\n",
       "       'duration': 94.6},\n",
       "      {'start_coord': {'lat': 54.863862, 'lon': 11.256675},\n",
       "       'end_coord': {'lat': 54.864788, 'lon': 11.262016},\n",
       "       'distance': 360.6,\n",
       "       'duration': 33.5},\n",
       "      {'start_coord': {'lat': 54.864788, 'lon': 11.262016},\n",
       "       'end_coord': {'lat': 54.860953, 'lon': 11.268315},\n",
       "       'distance': 600,\n",
       "       'duration': 49.7},\n",
       "      {'start_coord': {'lat': 54.860953, 'lon': 11.268315},\n",
       "       'end_coord': {'lat': 54.865888, 'lon': 11.284998},\n",
       "       'distance': 1229.9,\n",
       "       'duration': 110.6},\n",
       "      {'start_coord': {'lat': 54.865888, 'lon': 11.284998},\n",
       "       'end_coord': {'lat': 54.882724, 'lon': 11.356574},\n",
       "       'distance': 5234.8,\n",
       "       'duration': 472.4},\n",
       "      {'start_coord': {'lat': 54.882724, 'lon': 11.356574},\n",
       "       'end_coord': {'lat': 54.881517, 'lon': 11.358454},\n",
       "       'distance': 180.5,\n",
       "       'duration': 11.8},\n",
       "      {'start_coord': {'lat': 54.881512389101, 'lon': 11.358443540337},\n",
       "       'end_coord': {'lat': 54.881512389101, 'lon': 11.358443540337},\n",
       "       'distance': 0,\n",
       "       'duration': 60}],\n",
       "     'from_stop': None,\n",
       "     'to_stop': None,\n",
       "     'trip_id': None,\n",
       "     'route': None,\n",
       "     'route_id': None,\n",
       "     'start_time': 63867.4,\n",
       "     'end_time': 65447.0},\n",
       "    {'mode': 'BUS',\n",
       "     'start_coord': {'lat': 54.881512389101, 'lon': 11.358443540337},\n",
       "     'end_coord': {'lat': 54.872500855998, 'lon': 11.382608229014},\n",
       "     'distance': 1842.2660721303723,\n",
       "     'duration': 180.0,\n",
       "     'steps': [],\n",
       "     'from_stop': 40862,\n",
       "     'to_stop': 40864,\n",
       "     'trip_id': 65426418,\n",
       "     'route': '725',\n",
       "     'route_id': 205393,\n",
       "     'start_time': 65460.0,\n",
       "     'end_time': 65640.0},\n",
       "    {'mode': 'WALK',\n",
       "     'start_coord': {'lat': 54.872500855998, 'lon': 11.382608229014},\n",
       "     'end_coord': {'lat': 54.872520341842005, 'lon': 11.382531439551},\n",
       "     'distance': 5.369,\n",
       "     'duration': 5.0,\n",
       "     'steps': [{'start_coord': {'lat': 54.87249997487678,\n",
       "        'lon': 11.382607536556472},\n",
       "       'end_coord': None,\n",
       "       'distance': 5.369,\n",
       "       'duration': 5.0}],\n",
       "     'from_stop': None,\n",
       "     'to_stop': None,\n",
       "     'trip_id': None,\n",
       "     'route': None,\n",
       "     'route_id': None,\n",
       "     'start_time': 65640.0,\n",
       "     'end_time': 65645.0}],\n",
       "   'duration': 1777.5999999999985,\n",
       "   'distance': 19352.535072130373,\n",
       "   'main_mode': 'DRT_TRANSIT'}],\n",
       " 'planned_trips': [{'legs': [{'mode': 'DRT',\n",
       "     'start_coord': {'lat': 54.833248872169, 'lon': 11.138192792463},\n",
       "     'end_coord': {'lat': 54.881512389101, 'lon': 11.358443540337},\n",
       "     'distance': 19012.547000000002,\n",
       "     'duration': 60.0,\n",
       "     'steps': [],\n",
       "     'from_stop': None,\n",
       "     'to_stop': None,\n",
       "     'trip_id': None,\n",
       "     'route': None,\n",
       "     'route_id': None,\n",
       "     'start_time': 65379.1,\n",
       "     'end_time': 65439.1},\n",
       "    {'mode': 'BUS',\n",
       "     'start_coord': {'lat': 54.881512389101, 'lon': 11.358443540337},\n",
       "     'end_coord': {'lat': 54.872500855998, 'lon': 11.382608229014},\n",
       "     'distance': 1842.2660721303723,\n",
       "     'duration': 180.0,\n",
       "     'steps': [],\n",
       "     'from_stop': 40862,\n",
       "     'to_stop': 40864,\n",
       "     'trip_id': 65426418,\n",
       "     'route': '725',\n",
       "     'route_id': 205393,\n",
       "     'start_time': 65460.0,\n",
       "     'end_time': 65640.0},\n",
       "    {'mode': 'WALK',\n",
       "     'start_coord': {'lat': 54.872500855998, 'lon': 11.382608229014},\n",
       "     'end_coord': {'lat': 54.872520341842005, 'lon': 11.382531439551},\n",
       "     'distance': 5.369,\n",
       "     'duration': 5.0,\n",
       "     'steps': [{'start_coord': {'lat': 54.87249997487678,\n",
       "        'lon': 11.382607536556472},\n",
       "       'end_coord': None,\n",
       "       'distance': 5.369,\n",
       "       'duration': 5.0}],\n",
       "     'from_stop': None,\n",
       "     'to_stop': None,\n",
       "     'trip_id': None,\n",
       "     'route': None,\n",
       "     'route_id': None,\n",
       "     'start_time': 65640.0,\n",
       "     'end_time': 65645.0}],\n",
       "   'duration': 265.90000000000146,\n",
       "   'distance': 0,\n",
       "   'main_mode': 'DRT_TRANSIT'}],\n",
       " 'direct_trips': [{'legs': [{'mode': 'DRT',\n",
       "     'start_coord': {'lat': 54.833133, 'lon': 11.138143},\n",
       "     'end_coord': {'lat': 54.87252, 'lon': 11.382531},\n",
       "     'distance': 21443.1,\n",
       "     'duration': 1460.1,\n",
       "     'steps': [{'start_coord': {'lat': 54.833133, 'lon': 11.138143},\n",
       "       'end_coord': {'lat': 54.831591, 'lon': 11.144905},\n",
       "       'distance': 474.5,\n",
       "       'duration': 45.7},\n",
       "      {'start_coord': {'lat': 54.831591, 'lon': 11.144905},\n",
       "       'end_coord': {'lat': 54.831353, 'lon': 11.148393},\n",
       "       'distance': 249.3,\n",
       "       'duration': 23.7},\n",
       "      {'start_coord': {'lat': 54.831353, 'lon': 11.148393},\n",
       "       'end_coord': {'lat': 54.832527, 'lon': 11.161662},\n",
       "       'distance': 860.1,\n",
       "       'duration': 78.9},\n",
       "      {'start_coord': {'lat': 54.832527, 'lon': 11.161662},\n",
       "       'end_coord': {'lat': 54.84567, 'lon': 11.215184},\n",
       "       'distance': 3870,\n",
       "       'duration': 351.1},\n",
       "      {'start_coord': {'lat': 54.84567, 'lon': 11.215184},\n",
       "       'end_coord': {'lat': 54.843058, 'lon': 11.308129},\n",
       "       'distance': 6139.4,\n",
       "       'duration': 358.2},\n",
       "      {'start_coord': {'lat': 54.843058, 'lon': 11.308129},\n",
       "       'end_coord': {'lat': 54.837294, 'lon': 11.369339},\n",
       "       'distance': 4033.8,\n",
       "       'duration': 231.7},\n",
       "      {'start_coord': {'lat': 54.837294, 'lon': 11.369339},\n",
       "       'end_coord': {'lat': 54.861565, 'lon': 11.404344},\n",
       "       'distance': 3930.3,\n",
       "       'duration': 264.8},\n",
       "      {'start_coord': {'lat': 54.861565, 'lon': 11.404344},\n",
       "       'end_coord': {'lat': 54.87252, 'lon': 11.382531},\n",
       "       'distance': 1885.7,\n",
       "       'duration': 106}],\n",
       "     'from_stop': None,\n",
       "     'to_stop': None,\n",
       "     'trip_id': None,\n",
       "     'route': None,\n",
       "     'route_id': None,\n",
       "     'start_time': None,\n",
       "     'end_time': None}],\n",
       "   'duration': 1460.1,\n",
       "   'distance': 21443.1,\n",
       "   'main_mode': 'CAR'}],\n",
       " 'id': 823}"
      ]
     },
     "execution_count": 144,
     "metadata": {},
     "output_type": "execute_result"
    }
   ],
   "source": [
    "persons_switched[p][1]"
   ]
  },
  {
   "cell_type": "code",
   "execution_count": 92,
   "metadata": {},
   "outputs": [
    {
     "name": "stdout",
     "output_type": "stream",
     "text": [
      "54.839793008716 , 11.355230221814\n"
     ]
    }
   ],
   "source": [
    "print(\n",
    "persons_switched[p][1]['actual_trips'][0]['legs'][0]['start_coord']['lat'],\n",
    "    ',',\n",
    "persons_switched[p][1]['actual_trips'][0]['legs'][0]['start_coord']['lon']\n",
    ")\n"
   ]
  },
  {
   "cell_type": "code",
   "execution_count": 93,
   "metadata": {},
   "outputs": [
    {
     "name": "stdout",
     "output_type": "stream",
     "text": [
      "54.833008735511996 , 11.139067684884\n"
     ]
    }
   ],
   "source": [
    "print(\n",
    "persons_switched[p][1]['actual_trips'][0]['legs'][-1]['end_coord']['lat'],\n",
    "    ',',\n",
    "persons_switched[p][1]['actual_trips'][0]['legs'][-1]['end_coord']['lon']\n",
    ")"
   ]
  },
  {
   "cell_type": "code",
   "execution_count": null,
   "metadata": {},
   "outputs": [],
   "source": []
  }
 ],
 "metadata": {
  "kernelspec": {
   "display_name": "Python 3",
   "language": "python",
   "name": "python3"
  },
  "language_info": {
   "codemirror_mode": {
    "name": "ipython",
    "version": 3
   },
   "file_extension": ".py",
   "mimetype": "text/x-python",
   "name": "python",
   "nbconvert_exporter": "python",
   "pygments_lexer": "ipython3",
   "version": "3.7.6"
  }
 },
 "nbformat": 4,
 "nbformat_minor": 4
}

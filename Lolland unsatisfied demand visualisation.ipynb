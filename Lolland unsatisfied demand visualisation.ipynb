{
 "cells": [
  {
   "cell_type": "code",
   "execution_count": 1,
   "metadata": {},
   "outputs": [],
   "source": [
    "import pandas as pd\n",
    "import folium\n",
    "import geopandas\n",
    "from shapely.geometry import Point\n",
    "import zipfile\n",
    "import os\n",
    "import shutil\n",
    "import json\n",
    "import time"
   ]
  },
  {
   "cell_type": "code",
   "execution_count": 2,
   "metadata": {},
   "outputs": [],
   "source": [
    "scenario_name = \"1\"\n",
    "path_to_zip_file = '/home/ai6644/Malmo/Tools/Simulation results/Lolland/TRB/drt/base-rerun DRT instead of RAIL/'+\\\n",
    "                   scenario_name+'/log.zip'"
   ]
  },
  {
   "cell_type": "code",
   "execution_count": 3,
   "metadata": {},
   "outputs": [],
   "source": [
    "with zipfile.ZipFile(path_to_zip_file, 'r') as zip_ref:\n",
    "    try:\n",
    "        shutil.rmtree('data/zip')\n",
    "    except (FileNotFoundError, OSError) as e:\n",
    "        pass\n",
    "    os.mkdir('data/zip')\n",
    "    zip_ref.extractall('data/zip')\n",
    "path = 'data/zip/' + os.listdir('data/zip')[0] + '/trip_dump.json'"
   ]
  },
  {
   "cell_type": "code",
   "execution_count": 4,
   "metadata": {},
   "outputs": [],
   "source": [
    "fp = open(path)\n",
    "tdump = json.load(fp)\n",
    "fp.close()\n",
    "persons = tdump.get('person')"
   ]
  },
  {
   "cell_type": "code",
   "execution_count": 5,
   "metadata": {},
   "outputs": [],
   "source": [
    "drt_trips = []\n",
    "pt_trips = []\n",
    "car_trips = []\n",
    "car_people = []\n",
    "pt_people = []\n",
    "drt_people = []\n",
    "for person in persons:\n",
    "    trips = person.get('actual_trips')\n",
    "    for trip in trips:\n",
    "        modes = [leg['mode'] for leg in trip.get('legs')]\n",
    "        if 'CAR' in modes:\n",
    "            car_trips.append(trip)\n",
    "            car_people.append(person)\n",
    "        elif 'DRT' in modes:\n",
    "            drt_trips.append(trip)\n",
    "            drt_people.append(person)\n",
    "        else:\n",
    "            pt_trips.append(trip)\n",
    "            pt_people.append(person)"
   ]
  },
  {
   "cell_type": "code",
   "execution_count": 6,
   "metadata": {},
   "outputs": [
    {
     "name": "stdout",
     "output_type": "stream",
     "text": [
      "CAR trips 11\n",
      "PT trips 1261\n",
      "DRT trips 1257\n"
     ]
    }
   ],
   "source": [
    "print('CAR trips {}'.format(len(car_trips)))\n",
    "print('PT trips {}'.format(len(pt_trips)))\n",
    "print('DRT trips {}'.format(len(drt_trips)))"
   ]
  },
  {
   "cell_type": "code",
   "execution_count": 7,
   "metadata": {},
   "outputs": [],
   "source": [
    "car_lines = []\n",
    "no_location = set()\n",
    "for trips in car_trips:\n",
    "    legs = trips['legs']\n",
    "    \n",
    "    lat = legs[0]['start_coord']['lat']\n",
    "    lon = legs[0]['start_coord']['lon']\n",
    "    slatlon = (lat,lon)\n",
    "\n",
    "    lat = legs[-1]['end_coord']['lat']\n",
    "    lon = legs[-1]['end_coord']['lon']\n",
    "    elatlon = (lat,lon)\n",
    "    car_lines.append((slatlon,elatlon))"
   ]
  },
  {
   "cell_type": "code",
   "execution_count": 8,
   "metadata": {},
   "outputs": [],
   "source": [
    "COORD = [55.63135, 13.70622]\n",
    "m = folium.Map(location=COORD, zoom_start=8)\n",
    "\n",
    "for l,t,p in zip(car_lines, car_trips, car_people):\n",
    "    str_time = time.strftime('%H:%M:%S', time.gmtime(t['legs'][0]['start_time']))\n",
    "    str_id = str(p['id'])\n",
    "    folium.PolyLine(l[0:2], weight=3, tooltip=str(l)+\" \"+str_time+\" \"+str_id).add_to(m)\n",
    "m.save('data/car_trips.html')"
   ]
  },
  {
   "cell_type": "code",
   "execution_count": 9,
   "metadata": {},
   "outputs": [],
   "source": [
    "pt_lines = []\n",
    "no_location = set()\n",
    "for trips in pt_trips:\n",
    "    legs = trips['legs']\n",
    "    \n",
    "    lat = legs[0]['start_coord']['lat']\n",
    "    lon = legs[0]['start_coord']['lon']\n",
    "    slatlon = (lat,lon)\n",
    "\n",
    "    lat = legs[-1]['end_coord']['lat']\n",
    "    lon = legs[-1]['end_coord']['lon']\n",
    "    elatlon = (lat,lon)\n",
    "    pt_lines.append((slatlon,elatlon))"
   ]
  },
  {
   "cell_type": "code",
   "execution_count": 10,
   "metadata": {},
   "outputs": [],
   "source": [
    "COORD = [55.63135, 13.70622]\n",
    "m = folium.Map(location=COORD, zoom_start=8)\n",
    "\n",
    "for l,t,p in zip(pt_lines, pt_trips, pt_people):\n",
    "    str_time = time.strftime('%H:%M:%S', time.gmtime(t['legs'][0]['start_time']))\n",
    "    str_id = str(p['id'])\n",
    "    folium.PolyLine(l[0:2], weight=3, tooltip=str(l)+\" \"+str_time+\" \"+str_id).add_to(m)\n",
    "m.save('data/pt_trips.html')"
   ]
  },
  {
   "cell_type": "code",
   "execution_count": 11,
   "metadata": {},
   "outputs": [],
   "source": [
    "drt_lines = []\n",
    "no_location = set()\n",
    "for trips in drt_trips:\n",
    "    legs = trips['legs']\n",
    "    \n",
    "    lat = legs[0]['start_coord']['lat']\n",
    "    lon = legs[0]['start_coord']['lon']\n",
    "    slatlon = (lat,lon)\n",
    "\n",
    "    lat = legs[-1]['end_coord']['lat']\n",
    "    lon = legs[-1]['end_coord']['lon']\n",
    "    elatlon = (lat,lon)\n",
    "    drt_lines.append((slatlon,elatlon))"
   ]
  },
  {
   "cell_type": "code",
   "execution_count": 12,
   "metadata": {},
   "outputs": [],
   "source": [
    "COORD = [55.63135, 13.70622]\n",
    "m = folium.Map(location=COORD, zoom_start=8)\n",
    "\n",
    "for l,t,p in zip(drt_lines, drt_trips, drt_people):\n",
    "    str_time = time.strftime('%H:%M:%S', time.gmtime(t['legs'][0]['start_time']))\n",
    "    str_id = str(p['id'])\n",
    "    folium.PolyLine(l[0:2], weight=3, tooltip=str(l)+\" \"+str_time+\" \"+str_id).add_to(m)\n",
    "m.save('data/drt_trips.html')"
   ]
  },
  {
   "cell_type": "markdown",
   "metadata": {},
   "source": [
    "# Trips to/from Nakskov"
   ]
  },
  {
   "cell_type": "code",
   "execution_count": 13,
   "metadata": {},
   "outputs": [],
   "source": [
    "import math\n",
    "def is_close(coord1, coord2):\n",
    "    if math.isclose(coord1['lat'], coord2['lat'], abs_tol=0.001) and math.isclose(coord1['lon'], coord2['lon'], abs_tol=0.001):\n",
    "        return True\n",
    "    else:\n",
    "        return False"
   ]
  },
  {
   "cell_type": "code",
   "execution_count": 14,
   "metadata": {},
   "outputs": [],
   "source": [
    "nakskov_st = []\n",
    "nakskov_et = []\n",
    "for trip in car_trips:\n",
    "    if is_close(trip['legs'][0]['start_coord'], {'lat': 54.83346, 'lon': 11.13814}):\n",
    "        nakskov_st.append(trip)\n",
    "    elif is_close(trip['legs'][0]['end_coord'], {'lat': 54.83346, 'lon': 11.13814}):\n",
    "        nakskov_et.append(trip)"
   ]
  },
  {
   "cell_type": "code",
   "execution_count": 15,
   "metadata": {},
   "outputs": [
    {
     "data": {
      "text/plain": [
       "'03:25:45'"
      ]
     },
     "execution_count": 15,
     "metadata": {},
     "output_type": "execute_result"
    }
   ],
   "source": [
    "import time\n",
    "time.strftime('%H:%M:%S', time.gmtime(12345))"
   ]
  },
  {
   "cell_type": "code",
   "execution_count": 16,
   "metadata": {},
   "outputs": [],
   "source": [
    "lines = []\n",
    "no_location = set()\n",
    "for trip in nakskov_st:\n",
    "    legs = trip['legs']\n",
    "    \n",
    "    lat = legs[0]['start_coord']['lat']\n",
    "    lon = legs[0]['start_coord']['lon']\n",
    "    slatlon = (lat,lon)\n",
    "\n",
    "    lat = legs[-1]['end_coord']['lat']\n",
    "    lon = legs[-1]['end_coord']['lon']\n",
    "    elatlon = (lat,lon)\n",
    "    lines.append((slatlon,elatlon))\n",
    "    \n",
    "COORD = [55.63135, 13.70622]\n",
    "m = folium.Map(location=COORD, zoom_start=8)\n",
    "\n",
    "for l,t in zip(lines, nakskov_st):\n",
    "    str_time = time.strftime('%H:%M:%S', time.gmtime(t['legs'][0]['start_time']))\n",
    "    folium.PolyLine(l[0:2], weight=2, tooltip='nakskov-> {}'.format(str_time)).add_to(m)\n",
    "\n",
    "lines = []\n",
    "no_location = set()\n",
    "for trips in nakskov_et:\n",
    "    legs = trips['legs']\n",
    "    \n",
    "    lat = legs[0]['start_coord']['lat']\n",
    "    lon = legs[0]['start_coord']['lon']\n",
    "    slatlon = (lat,lon)\n",
    "\n",
    "    lat = legs[-1]['end_coord']['lat']\n",
    "    lon = legs[-1]['end_coord']['lon']\n",
    "    elatlon = (lat,lon)\n",
    "    lines.append((slatlon,elatlon))\n",
    "    \n",
    "for l,t in zip(lines, nakskov_et):\n",
    "    str_time = time.strftime('%H:%M:%S', time.gmtime(t['legs'][0]['start_time']))\n",
    "    folium.PolyLine(l[0:2], weight=2, tooltip='nakskov<- {}'.format(str_time)).add_to(m)\n",
    "m.save('data/nakskov_trips.html')"
   ]
  },
  {
   "cell_type": "code",
   "execution_count": 17,
   "metadata": {},
   "outputs": [],
   "source": [
    "nakskov = [trip for trip in car_trips\n",
    "           if is_close(trip['legs'][0]['end_coord'], {'lat': 54.83346, 'lon': 11.13814}) and \n",
    "              is_close(trip['legs'][0]['start_coord'], {'lat': 54.69996, 'lon': 11.39579})]"
   ]
  },
  {
   "cell_type": "code",
   "execution_count": null,
   "metadata": {},
   "outputs": [],
   "source": []
  }
 ],
 "metadata": {
  "kernelspec": {
   "display_name": "Python 3",
   "language": "python",
   "name": "python3"
  },
  "language_info": {
   "codemirror_mode": {
    "name": "ipython",
    "version": 3
   },
   "file_extension": ".py",
   "mimetype": "text/x-python",
   "name": "python",
   "nbconvert_exporter": "python",
   "pygments_lexer": "ipython3",
   "version": "3.7.6"
  }
 },
 "nbformat": 4,
 "nbformat_minor": 4
}

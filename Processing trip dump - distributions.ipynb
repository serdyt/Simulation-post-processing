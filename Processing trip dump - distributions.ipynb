{
 "cells": [
  {
   "cell_type": "code",
   "execution_count": 1,
   "metadata": {},
   "outputs": [],
   "source": [
    "# To accumulate waiting time for several simulations\n",
    "times_transit_acc = None\n",
    "times_drt_acc = None"
   ]
  },
  {
   "cell_type": "code",
   "execution_count": 2,
   "metadata": {},
   "outputs": [],
   "source": [
    "import json\n",
    "import requests\n",
    "import numpy as np\n",
    "from matplotlib import pyplot as plt\n",
    "import matplotlib\n",
    "import matplotlib.patches as mpatches\n",
    "import pandas as pd\n",
    "import random\n",
    "import glob\n",
    "import zipfile\n",
    "import os\n",
    "import shutil"
   ]
  },
  {
   "cell_type": "code",
   "execution_count": 3,
   "metadata": {},
   "outputs": [],
   "source": [
    "fp = open('data/population_lolland_4500_0.json')\n",
    "tdump_pop = json.load(fp)\n",
    "fp.close()\n",
    "population = tdump_pop.get('persons')"
   ]
  },
  {
   "cell_type": "code",
   "execution_count": 4,
   "metadata": {},
   "outputs": [],
   "source": [
    "scenario_name = \"0\"\n",
    "path_to_zip_file = '/home/ai6644/Malmo/Tools/Simulation results/Lolland/TRB/drt/twc0.5 v40/'+\\\n",
    "                   scenario_name+'/log.zip'\n",
    "\n",
    "scenario_name_pt = \"0\"\n",
    "path_to_zip_file_pt = '/home/ai6644/Malmo/Tools/Simulation results/Lolland/TRB/bus/base/'+\\\n",
    "                   scenario_name_pt+'/log.zip'"
   ]
  },
  {
   "cell_type": "code",
   "execution_count": 5,
   "metadata": {},
   "outputs": [],
   "source": [
    "day_sec = int(86400)\n",
    "day_h = int(24)"
   ]
  },
  {
   "cell_type": "code",
   "execution_count": 6,
   "metadata": {},
   "outputs": [],
   "source": [
    "with zipfile.ZipFile(path_to_zip_file, 'r') as zip_ref:\n",
    "    try:\n",
    "        shutil.rmtree('data/zip')\n",
    "    except (FileNotFoundError, OSError) as e:\n",
    "        pass\n",
    "    os.mkdir('data/zip')\n",
    "    zip_ref.extractall('data/zip')\n",
    "path = 'data/zip/' + os.listdir('data/zip')[0] + '/trip_dump.json'\n",
    "all_files = glob.glob(\"data/zip/*/vehicle_logs/vehicle_occupancy_*\")\n",
    "n_cars = len(all_files)\n",
    "fp = open(path)\n",
    "tdump = json.load(fp)\n",
    "fp.close()"
   ]
  },
  {
   "cell_type": "code",
   "execution_count": 7,
   "metadata": {},
   "outputs": [],
   "source": [
    "with zipfile.ZipFile(path_to_zip_file_pt, 'r') as zip_ref:\n",
    "    try:\n",
    "        shutil.rmtree('data/zip')\n",
    "    except (FileNotFoundError, OSError) as e:\n",
    "        pass\n",
    "    os.mkdir('data/zip')\n",
    "    zip_ref.extractall('data/zip')\n",
    "path_pt = 'data/zip/' + os.listdir('data/zip')[0] + '/trip_dump.json'\n",
    "fp_pt = open(path_pt)\n",
    "tdump_pt = json.load(fp_pt)\n",
    "fp.close()"
   ]
  },
  {
   "cell_type": "code",
   "execution_count": 8,
   "metadata": {},
   "outputs": [],
   "source": [
    "\n",
    "class OtpMode(object):\n",
    "    CAR = 'CAR'\n",
    "    WALK = 'WALK'\n",
    "    TRANSIT = 'TRANSIT,WALK'\n",
    "    BUS = 'BUS,WALK'\n",
    "    RAIL = 'TRAM,RAIL,SUBWAY,FUNICULAR,GONDOLA,WALK'\n",
    "    BICYCLE = 'BICYCLE'\n",
    "    BICYCLE_TRANSIT = 'TRANSIT,BICYCLE'\n",
    "    PARK_RIDE = 'CAR_PARK,WALK,TRANSIT'\n",
    "    KISS_RIDE = 'CAR,WALK,TRANSIT'\n",
    "    BIKE_RIDE = 'BICYCLE_PARK,WALK,TRANSIT'\n",
    "    RENTED_BICYCLE = 'WALK,BICYCLE_RENT'\n",
    "    TRANSIT_RENTED_BICYCLE = 'TRANSIT,WALK,BICYCLE_RENT'\n",
    "    DRT = 'DRT'\n",
    "    DRT_TRANSIT = 'DRT_TRANSIT'\n",
    "\n",
    "    _DICT = ['CAR', 'WALK', 'TRANSIT', 'BUS', 'RAIL', 'BICYCLE', 'BICYCLE_TRANSIT', 'PARK_RIDE', 'KISS_RIDE',\n",
    "             'BIKE_RIDE', 'RENTED_BICYCLE', 'TRANSIT_RENTED_BICYCLE', 'DRT', 'DRT_TRANSIT']\n",
    "\n",
    "    _MAIN_MODES = ['CAR', 'BICYCLE', 'TRANSIT', 'WALK']\n",
    "\n",
    "    _DRT_MODES = ['DRT', 'DRT_TRANSIT']\n",
    "\n",
    "    _PT_MODES = ['TRANSIT', 'BUS', 'RAIL']\n",
    "\n",
    "    @staticmethod\n",
    "    def get_all_modes():\n",
    "        return [OtpMode.__dict__.get(item) for item in OtpMode._DICT]\n",
    "\n",
    "    @staticmethod\n",
    "    def get_main_modes():\n",
    "        return [OtpMode.__dict__.get(item) for item in OtpMode._MAIN_MODES]\n",
    "\n",
    "    @staticmethod\n",
    "    def contains(other):\n",
    "        return other in OtpMode._DICT\n",
    "\n",
    "    @staticmethod\n",
    "    def get_pt_modes():\n",
    "        return OtpMode._PT_MODES\n",
    "\n",
    "    @staticmethod\n",
    "    def get_drt_modes():\n",
    "        return OtpMode._DRT_MODES\n",
    "\n",
    "    @staticmethod\n",
    "    def get_mode(string):\n",
    "        if OtpMode.contains(string):\n",
    "            return OtpMode.__getattribute__(OtpMode(), string)\n",
    "        else:\n",
    "            raise Exception('unsupported mode {}'.format(string))\n"
   ]
  },
  {
   "cell_type": "code",
   "execution_count": 31,
   "metadata": {},
   "outputs": [],
   "source": [
    "persons = tdump.get('person')\n",
    "persons_pt = tdump_pt.get('person')"
   ]
  },
  {
   "cell_type": "code",
   "execution_count": 33,
   "metadata": {},
   "outputs": [],
   "source": [
    "persons_drt = []\n",
    "for person in persons:\n",
    "    try:\n",
    "        if person['actual_trips'][0]['main_mode'] in ['DRT', 'DRT_TRANSIT']:\n",
    "            persons_drt.append(person)\n",
    "    except:\n",
    "        continue"
   ]
  },
  {
   "cell_type": "code",
   "execution_count": 35,
   "metadata": {},
   "outputs": [
    {
     "data": {
      "text/plain": [
       "1153"
      ]
     },
     "execution_count": 35,
     "metadata": {},
     "output_type": "execute_result"
    }
   ],
   "source": [
    "len(persons_drt)"
   ]
  },
  {
   "cell_type": "markdown",
   "metadata": {},
   "source": [
    "# Trip length distribution"
   ]
  },
  {
   "cell_type": "code",
   "execution_count": 43,
   "metadata": {},
   "outputs": [
    {
     "data": {
      "text/plain": [
       "[{'mode': 'DRT',\n",
       "  'start_coord': {'lat': 54.876196, 'lon': 11.089281},\n",
       "  'end_coord': {'lat': 54.833037, 'lon': 11.139549},\n",
       "  'distance': 7277.799999999999,\n",
       "  'duration': 577.9,\n",
       "  'steps': [{'start_coord': {'lat': 54.876196, 'lon': 11.089281},\n",
       "    'end_coord': {'lat': 54.873724, 'lon': 11.102378},\n",
       "    'distance': 985.7,\n",
       "    'duration': 88.5},\n",
       "   {'start_coord': {'lat': 54.873724, 'lon': 11.102378},\n",
       "    'end_coord': {'lat': 54.87308, 'lon': 11.117829},\n",
       "    'distance': 991.5,\n",
       "    'duration': 57.7},\n",
       "   {'start_coord': {'lat': 54.87308, 'lon': 11.117829},\n",
       "    'end_coord': {'lat': 54.866594, 'lon': 11.115547},\n",
       "    'distance': 737,\n",
       "    'duration': 72.3},\n",
       "   {'start_coord': {'lat': 54.866594, 'lon': 11.115547},\n",
       "    'end_coord': {'lat': 54.866583, 'lon': 11.115686},\n",
       "    'distance': 9,\n",
       "    'duration': 1.6},\n",
       "   {'start_coord': {'lat': 54.866583, 'lon': 11.115686},\n",
       "    'end_coord': {'lat': 54.855478, 'lon': 11.118964},\n",
       "    'distance': 1274.7,\n",
       "    'duration': 74},\n",
       "   {'start_coord': {'lat': 54.855478, 'lon': 11.118964},\n",
       "    'end_coord': {'lat': 54.833936, 'lon': 11.130488},\n",
       "    'distance': 2553,\n",
       "    'duration': 205.5},\n",
       "   {'start_coord': {'lat': 54.833936, 'lon': 11.130488},\n",
       "    'end_coord': {'lat': 54.833864, 'lon': 11.130623},\n",
       "    'distance': 15.4,\n",
       "    'duration': 2},\n",
       "   {'start_coord': {'lat': 54.833864, 'lon': 11.130623},\n",
       "    'end_coord': {'lat': 54.832208, 'lon': 11.132389},\n",
       "    'distance': 227.8,\n",
       "    'duration': 28.5},\n",
       "   {'start_coord': {'lat': 54.832208, 'lon': 11.132389},\n",
       "    'end_coord': {'lat': 54.832992, 'lon': 11.139228},\n",
       "    'distance': 460.1,\n",
       "    'duration': 41.9},\n",
       "   {'start_coord': {'lat': 54.832992, 'lon': 11.139228},\n",
       "    'end_coord': {'lat': 54.833061, 'lon': 11.139376},\n",
       "    'distance': 12.2,\n",
       "    'duration': 3.1},\n",
       "   {'start_coord': {'lat': 54.833061, 'lon': 11.139376},\n",
       "    'end_coord': {'lat': 54.833037, 'lon': 11.139549},\n",
       "    'distance': 11.4,\n",
       "    'duration': 2.8}],\n",
       "  'from_stop': None,\n",
       "  'to_stop': None,\n",
       "  'trip_id': None,\n",
       "  'route': None,\n",
       "  'route_id': None,\n",
       "  'start_time': None,\n",
       "  'end_time': None}]"
      ]
     },
     "execution_count": 43,
     "metadata": {},
     "output_type": "execute_result"
    }
   ],
   "source": [
    "persons_drt[0]['direct_trips'][0]['legs']"
   ]
  },
  {
   "cell_type": "code",
   "execution_count": 47,
   "metadata": {},
   "outputs": [],
   "source": [
    "distances = []\n",
    "for person in persons_drt:\n",
    "    try:\n",
    "        distances.append(person['direct_trips'][0]['distance'])\n",
    "#         legs = persons_drt[0]['direct_trips'][0]['legs']\n",
    "#         for leg in legs:\n",
    "#             if leg['mode'] == 'DRT':\n",
    "#                 distances.append(leg['distance'])\n",
    "    except:\n",
    "        print(person['id'])\n",
    "distances = [d / 1000 for d in distances]"
   ]
  },
  {
   "cell_type": "code",
   "execution_count": 48,
   "metadata": {},
   "outputs": [
    {
     "data": {
      "image/png": "[encoded data removed]",
      "text/plain": [
       "<Figure size 432x288 with 1 Axes>"
      ]
     },
     "metadata": {
      "needs_background": "light"
     },
     "output_type": "display_data"
    }
   ],
   "source": [
    "fig = plt.figure()\n",
    "ax = fig.add_subplot(111)\n",
    "ax.hist(x=distances, bins=np.arange(0,150,5), color='blue', alpha=0.7, rwidth=0.85, density=False)\n",
    "\n",
    "plt.grid(axis='y', alpha=0.75)\n",
    "plt.xlabel('Direct trip length, km', {'fontsize': 16})\n",
    "plt.ylabel('Number of trips', {'fontsize': 16})\n",
    "# plt.title('\"Waiting\" time, DRT', {'fontsize': 18})\n",
    "# plt.ylim([0,80])\n",
    "plt.savefig('data/demand_distance_distr.svg', dpi=600)"
   ]
  },
  {
   "cell_type": "markdown",
   "metadata": {},
   "source": [
    "# Deviation of actual trip start time to requested trip start time"
   ]
  },
  {
   "cell_type": "code",
   "execution_count": 49,
   "metadata": {},
   "outputs": [],
   "source": [
    "perspop = []\n",
    "for person in population:\n",
    "    for activity in person['activities']:\n",
    "        if activity['type'] == \"WORK\":\n",
    "            t = sum([x*k for x,k in zip([int(t) for t in activity['end_time'].split(\":\")], [60*60, 60, 1])])\n",
    "            perspop.append({'time_req': t, 'id': person['id']})"
   ]
  },
  {
   "cell_type": "code",
   "execution_count": 50,
   "metadata": {},
   "outputs": [
    {
     "name": "stdout",
     "output_type": "stream",
     "text": [
      "201\n",
      "528\n",
      "1002\n",
      "1135\n",
      "1436\n",
      "1480\n",
      "1492\n",
      "1515\n",
      "1550\n",
      "1732\n",
      "1861\n",
      "1947\n",
      "2010\n",
      "2015\n",
      "2099\n",
      "2197\n",
      "2365\n",
      "2556\n",
      "2647\n",
      "3212\n",
      "3339\n",
      "3500\n",
      "3511\n",
      "3544\n",
      "3794\n",
      "3979\n",
      "4262\n",
      "4279\n",
      "4410\n",
      "4459\n"
     ]
    }
   ],
   "source": [
    "perstrips_drt = []\n",
    "for person in persons:\n",
    "    try:\n",
    "        if person['actual_trips'][0]['main_mode'] in ['DRT']:\n",
    "            perstrips_drt.append({'time_act': person['actual_trips'][0]['legs'][0]['start_time'], 'id': person['id']})\n",
    "    except IndexError as e:\n",
    "        print(person['id'])\n",
    "        continue"
   ]
  },
  {
   "cell_type": "code",
   "execution_count": 51,
   "metadata": {},
   "outputs": [
    {
     "name": "stdout",
     "output_type": "stream",
     "text": [
      "92\n",
      "201\n",
      "528\n",
      "843\n",
      "900\n",
      "1002\n",
      "1135\n",
      "1436\n",
      "1480\n",
      "1550\n",
      "1732\n",
      "1947\n",
      "2015\n",
      "2062\n",
      "2099\n",
      "2197\n",
      "2365\n",
      "2498\n",
      "3136\n",
      "3212\n",
      "3500\n",
      "3511\n",
      "3544\n",
      "3794\n",
      "4034\n",
      "4262\n",
      "4279\n",
      "4343\n",
      "4410\n",
      "4459\n"
     ]
    }
   ],
   "source": [
    "perstrips_transit = []\n",
    "for person in persons_pt:\n",
    "    try:\n",
    "        if person['actual_trips'][0]['main_mode'] in ['TRANSIT,WALK', 'WALK', 'TRANSIT']:\n",
    "            perstrips_transit.append({'time_act': person['actual_trips'][0]['legs'][0]['start_time'], 'id': person['id']})\n",
    "    except IndexError as e:\n",
    "        print(person['id'])\n",
    "        continue"
   ]
  },
  {
   "cell_type": "code",
   "execution_count": 52,
   "metadata": {},
   "outputs": [],
   "source": [
    "times_drt = pd.concat([pd.DataFrame(perspop).set_index('id'), pd.DataFrame(perstrips_drt).set_index('id')], axis=1).dropna()\n",
    "times_drt['diff'] = times_drt.time_req - times_drt.time_act"
   ]
  },
  {
   "cell_type": "code",
   "execution_count": 53,
   "metadata": {},
   "outputs": [
    {
     "data": {
      "text/html": [
       "<div>\n",
       "<style scoped>\n",
       "    .dataframe tbody tr th:only-of-type {\n",
       "        vertical-align: middle;\n",
       "    }\n",
       "\n",
       "    .dataframe tbody tr th {\n",
       "        vertical-align: top;\n",
       "    }\n",
       "\n",
       "    .dataframe thead th {\n",
       "        text-align: right;\n",
       "    }\n",
       "</style>\n",
       "<table border=\"1\" class=\"dataframe\">\n",
       "  <thead>\n",
       "    <tr style=\"text-align: right;\">\n",
       "      <th></th>\n",
       "      <th>time_req</th>\n",
       "      <th>time_act</th>\n",
       "      <th>diff</th>\n",
       "    </tr>\n",
       "    <tr>\n",
       "      <th>id</th>\n",
       "      <th></th>\n",
       "      <th></th>\n",
       "      <th></th>\n",
       "    </tr>\n",
       "  </thead>\n",
       "  <tbody>\n",
       "    <tr>\n",
       "      <th>4</th>\n",
       "      <td>27530</td>\n",
       "      <td>26823.80</td>\n",
       "      <td>706.20</td>\n",
       "    </tr>\n",
       "    <tr>\n",
       "      <th>8</th>\n",
       "      <td>43490</td>\n",
       "      <td>43194.50</td>\n",
       "      <td>295.50</td>\n",
       "    </tr>\n",
       "    <tr>\n",
       "      <th>16</th>\n",
       "      <td>52239</td>\n",
       "      <td>52759.00</td>\n",
       "      <td>-520.00</td>\n",
       "    </tr>\n",
       "    <tr>\n",
       "      <th>19</th>\n",
       "      <td>36473</td>\n",
       "      <td>37322.10</td>\n",
       "      <td>-849.10</td>\n",
       "    </tr>\n",
       "    <tr>\n",
       "      <th>28</th>\n",
       "      <td>48928</td>\n",
       "      <td>49025.80</td>\n",
       "      <td>-97.80</td>\n",
       "    </tr>\n",
       "    <tr>\n",
       "      <th>...</th>\n",
       "      <td>...</td>\n",
       "      <td>...</td>\n",
       "      <td>...</td>\n",
       "    </tr>\n",
       "    <tr>\n",
       "      <th>4516</th>\n",
       "      <td>58098</td>\n",
       "      <td>57504.65</td>\n",
       "      <td>593.35</td>\n",
       "    </tr>\n",
       "    <tr>\n",
       "      <th>4517</th>\n",
       "      <td>45082</td>\n",
       "      <td>45825.40</td>\n",
       "      <td>-743.40</td>\n",
       "    </tr>\n",
       "    <tr>\n",
       "      <th>4519</th>\n",
       "      <td>57515</td>\n",
       "      <td>57164.10</td>\n",
       "      <td>350.90</td>\n",
       "    </tr>\n",
       "    <tr>\n",
       "      <th>4520</th>\n",
       "      <td>50092</td>\n",
       "      <td>50945.30</td>\n",
       "      <td>-853.30</td>\n",
       "    </tr>\n",
       "    <tr>\n",
       "      <th>4522</th>\n",
       "      <td>40417</td>\n",
       "      <td>41047.20</td>\n",
       "      <td>-630.20</td>\n",
       "    </tr>\n",
       "  </tbody>\n",
       "</table>\n",
       "<p>980 rows × 3 columns</p>\n",
       "</div>"
      ],
      "text/plain": [
       "      time_req  time_act    diff\n",
       "id                              \n",
       "4        27530  26823.80  706.20\n",
       "8        43490  43194.50  295.50\n",
       "16       52239  52759.00 -520.00\n",
       "19       36473  37322.10 -849.10\n",
       "28       48928  49025.80  -97.80\n",
       "...        ...       ...     ...\n",
       "4516     58098  57504.65  593.35\n",
       "4517     45082  45825.40 -743.40\n",
       "4519     57515  57164.10  350.90\n",
       "4520     50092  50945.30 -853.30\n",
       "4522     40417  41047.20 -630.20\n",
       "\n",
       "[980 rows x 3 columns]"
      ]
     },
     "execution_count": 53,
     "metadata": {},
     "output_type": "execute_result"
    }
   ],
   "source": [
    "times_drt"
   ]
  },
  {
   "cell_type": "code",
   "execution_count": 54,
   "metadata": {},
   "outputs": [],
   "source": [
    "index = times_drt.index"
   ]
  },
  {
   "cell_type": "code",
   "execution_count": 55,
   "metadata": {},
   "outputs": [
    {
     "data": {
      "image/png": "[encoded data removed]",
      "text/plain": [
       "<Figure size 432x288 with 1 Axes>"
      ]
     },
     "metadata": {
      "needs_background": "light"
     },
     "output_type": "display_data"
    }
   ],
   "source": [
    "fig = plt.figure()\n",
    "ax = fig.add_subplot(111)\n",
    "ax.hist(x=times_drt['diff'], bins=np.arange(-2000,2000,60), color='blue', alpha=0.7, rwidth=0.85, density=False)\n",
    "\n",
    "plt.grid(axis='y', alpha=0.75)\n",
    "plt.xlabel('Deviation from requested time', {'fontsize': 16})\n",
    "plt.ylabel('Number of requests', {'fontsize': 16})\n",
    "plt.title('\"Waiting\" time, DRT', {'fontsize': 18})\n",
    "plt.ylim([0,80])\n",
    "\n",
    "plt.savefig('data/demand_distr.png', dpi=600)"
   ]
  },
  {
   "cell_type": "code",
   "execution_count": 56,
   "metadata": {},
   "outputs": [],
   "source": [
    "if times_drt_acc is None:\n",
    "    times_drt_acc = times_drt['diff']\n",
    "else:\n",
    "    times_drt_acc = times_drt_acc.append(times_drt['diff'])"
   ]
  },
  {
   "cell_type": "code",
   "execution_count": 57,
   "metadata": {},
   "outputs": [],
   "source": [
    "times_transit = pd.concat([pd.DataFrame(perspop).set_index('id'), pd.DataFrame(perstrips_transit).set_index('id')], axis=1).dropna()\n",
    "times_transit['diff'] = times_transit.time_req - times_transit.time_act\n",
    "def strip_to_hour(seconds):\n",
    "    \"\"\"returns only hour from the time in seconds\"\"\"\n",
    "    return int(seconds / 3600) * 3600\n",
    "times_transit['time_req_strip'] = [strip_to_hour(t) for t in times_transit.time_req.values]\n",
    "times_transit['diff2'] = times_transit.time_req_strip - times_transit.time_act"
   ]
  },
  {
   "cell_type": "code",
   "execution_count": 58,
   "metadata": {},
   "outputs": [],
   "source": [
    "times_transit = times_transit.reindex(index=index).dropna()"
   ]
  },
  {
   "cell_type": "code",
   "execution_count": 59,
   "metadata": {},
   "outputs": [
    {
     "data": {
      "text/html": [
       "<div>\n",
       "<style scoped>\n",
       "    .dataframe tbody tr th:only-of-type {\n",
       "        vertical-align: middle;\n",
       "    }\n",
       "\n",
       "    .dataframe tbody tr th {\n",
       "        vertical-align: top;\n",
       "    }\n",
       "\n",
       "    .dataframe thead th {\n",
       "        text-align: right;\n",
       "    }\n",
       "</style>\n",
       "<table border=\"1\" class=\"dataframe\">\n",
       "  <thead>\n",
       "    <tr style=\"text-align: right;\">\n",
       "      <th></th>\n",
       "      <th>time_req</th>\n",
       "      <th>time_act</th>\n",
       "      <th>diff</th>\n",
       "      <th>time_req_strip</th>\n",
       "      <th>diff2</th>\n",
       "    </tr>\n",
       "    <tr>\n",
       "      <th>id</th>\n",
       "      <th></th>\n",
       "      <th></th>\n",
       "      <th></th>\n",
       "      <th></th>\n",
       "      <th></th>\n",
       "    </tr>\n",
       "  </thead>\n",
       "  <tbody>\n",
       "    <tr>\n",
       "      <th>4</th>\n",
       "      <td>27530.0</td>\n",
       "      <td>26760.0</td>\n",
       "      <td>770.0</td>\n",
       "      <td>25200.0</td>\n",
       "      <td>-1560.0</td>\n",
       "    </tr>\n",
       "    <tr>\n",
       "      <th>8</th>\n",
       "      <td>43490.0</td>\n",
       "      <td>42840.0</td>\n",
       "      <td>650.0</td>\n",
       "      <td>43200.0</td>\n",
       "      <td>360.0</td>\n",
       "    </tr>\n",
       "    <tr>\n",
       "      <th>16</th>\n",
       "      <td>52239.0</td>\n",
       "      <td>53220.0</td>\n",
       "      <td>-981.0</td>\n",
       "      <td>50400.0</td>\n",
       "      <td>-2820.0</td>\n",
       "    </tr>\n",
       "    <tr>\n",
       "      <th>19</th>\n",
       "      <td>36473.0</td>\n",
       "      <td>37440.0</td>\n",
       "      <td>-967.0</td>\n",
       "      <td>36000.0</td>\n",
       "      <td>-1440.0</td>\n",
       "    </tr>\n",
       "    <tr>\n",
       "      <th>28</th>\n",
       "      <td>48928.0</td>\n",
       "      <td>47520.0</td>\n",
       "      <td>1408.0</td>\n",
       "      <td>46800.0</td>\n",
       "      <td>-720.0</td>\n",
       "    </tr>\n",
       "    <tr>\n",
       "      <th>...</th>\n",
       "      <td>...</td>\n",
       "      <td>...</td>\n",
       "      <td>...</td>\n",
       "      <td>...</td>\n",
       "      <td>...</td>\n",
       "    </tr>\n",
       "    <tr>\n",
       "      <th>4516</th>\n",
       "      <td>58098.0</td>\n",
       "      <td>57000.0</td>\n",
       "      <td>1098.0</td>\n",
       "      <td>57600.0</td>\n",
       "      <td>600.0</td>\n",
       "    </tr>\n",
       "    <tr>\n",
       "      <th>4517</th>\n",
       "      <td>45082.0</td>\n",
       "      <td>44040.0</td>\n",
       "      <td>1042.0</td>\n",
       "      <td>43200.0</td>\n",
       "      <td>-840.0</td>\n",
       "    </tr>\n",
       "    <tr>\n",
       "      <th>4519</th>\n",
       "      <td>57515.0</td>\n",
       "      <td>57000.0</td>\n",
       "      <td>515.0</td>\n",
       "      <td>54000.0</td>\n",
       "      <td>-3000.0</td>\n",
       "    </tr>\n",
       "    <tr>\n",
       "      <th>4520</th>\n",
       "      <td>50092.0</td>\n",
       "      <td>49800.0</td>\n",
       "      <td>292.0</td>\n",
       "      <td>46800.0</td>\n",
       "      <td>-3000.0</td>\n",
       "    </tr>\n",
       "    <tr>\n",
       "      <th>4522</th>\n",
       "      <td>40417.0</td>\n",
       "      <td>40440.0</td>\n",
       "      <td>-23.0</td>\n",
       "      <td>39600.0</td>\n",
       "      <td>-840.0</td>\n",
       "    </tr>\n",
       "  </tbody>\n",
       "</table>\n",
       "<p>953 rows × 5 columns</p>\n",
       "</div>"
      ],
      "text/plain": [
       "      time_req  time_act    diff  time_req_strip   diff2\n",
       "id                                                      \n",
       "4      27530.0   26760.0   770.0         25200.0 -1560.0\n",
       "8      43490.0   42840.0   650.0         43200.0   360.0\n",
       "16     52239.0   53220.0  -981.0         50400.0 -2820.0\n",
       "19     36473.0   37440.0  -967.0         36000.0 -1440.0\n",
       "28     48928.0   47520.0  1408.0         46800.0  -720.0\n",
       "...        ...       ...     ...             ...     ...\n",
       "4516   58098.0   57000.0  1098.0         57600.0   600.0\n",
       "4517   45082.0   44040.0  1042.0         43200.0  -840.0\n",
       "4519   57515.0   57000.0   515.0         54000.0 -3000.0\n",
       "4520   50092.0   49800.0   292.0         46800.0 -3000.0\n",
       "4522   40417.0   40440.0   -23.0         39600.0  -840.0\n",
       "\n",
       "[953 rows x 5 columns]"
      ]
     },
     "execution_count": 59,
     "metadata": {},
     "output_type": "execute_result"
    }
   ],
   "source": [
    "times_transit"
   ]
  },
  {
   "cell_type": "code",
   "execution_count": 75,
   "metadata": {},
   "outputs": [
    {
     "data": {
      "image/png": "[encoded data removed]",
      "text/plain": [
       "<Figure size 432x288 with 1 Axes>"
      ]
     },
     "metadata": {
      "needs_background": "light"
     },
     "output_type": "display_data"
    }
   ],
   "source": [
    "fig = plt.figure()\n",
    "ax = fig.add_subplot(111)\n",
    "ax.hist(x=times_transit['diff'], bins=np.arange(-1800,1800,60), color='blue', alpha=0.7, rwidth=0.85, density=False)\n",
    "\n",
    "plt.grid(axis='y', alpha=0.75)\n",
    "plt.xlabel('Deviation from requested time', {'fontsize': 16})\n",
    "plt.ylabel('Number of trips', {'fontsize': 16})\n",
    "plt.title('\"Waiting\" time, TRANSIT', {'fontsize': 18})\n",
    "plt.ylim([0,80])\n",
    "\n",
    "plt.savefig('data/demand_distr.png', dpi=600)"
   ]
  },
  {
   "cell_type": "code",
   "execution_count": 61,
   "metadata": {},
   "outputs": [],
   "source": [
    "if times_transit_acc is None:\n",
    "    times_transit_acc = times_transit['diff']\n",
    "else:\n",
    "    times_transit_acc = times_transit_acc.append(times_transit['diff'])"
   ]
  },
  {
   "cell_type": "code",
   "execution_count": 62,
   "metadata": {},
   "outputs": [
    {
     "data": {
      "text/plain": [
       "id\n",
       "9       12722.0\n",
       "13      12725.0\n",
       "15     -15283.0\n",
       "22      14993.0\n",
       "23       9285.0\n",
       "         ...   \n",
       "4516     1098.0\n",
       "4517     1042.0\n",
       "4519      515.0\n",
       "4520      292.0\n",
       "4522      -23.0\n",
       "Name: diff, Length: 1922, dtype: float64"
      ]
     },
     "execution_count": 62,
     "metadata": {},
     "output_type": "execute_result"
    }
   ],
   "source": [
    "times_transit_acc"
   ]
  },
  {
   "cell_type": "code",
   "execution_count": 63,
   "metadata": {},
   "outputs": [
    {
     "data": {
      "image/png": "[encoded data removed]",
      "text/plain": [
       "<Figure size 432x288 with 1 Axes>"
      ]
     },
     "metadata": {
      "needs_background": "light"
     },
     "output_type": "display_data"
    }
   ],
   "source": [
    "fig = plt.figure()\n",
    "ax = fig.add_subplot(111)\n",
    "ax.hist(x=times_transit_acc, bins=np.arange(-2000,2000,60), color='blue', alpha=0.7, rwidth=0.85, density=False)\n",
    "\n",
    "plt.grid(axis='y', alpha=0.75)\n",
    "plt.xlabel('Deviation from the requested time', {'fontsize': 16})\n",
    "plt.ylabel('Number of trips', {'fontsize': 16})\n",
    "# plt.title('\"Waiting\" time, PT', {'fontsize': 18})\n",
    "plt.ylim([0,400])\n",
    "\n",
    "plt.savefig('data/waiting_distr_pt.svg', dpi=600)"
   ]
  },
  {
   "cell_type": "code",
   "execution_count": 64,
   "metadata": {},
   "outputs": [
    {
     "data": {
      "image/png": "[encoded data removed]",
      "text/plain": [
       "<Figure size 432x288 with 1 Axes>"
      ]
     },
     "metadata": {
      "needs_background": "light"
     },
     "output_type": "display_data"
    }
   ],
   "source": [
    "fig = plt.figure()\n",
    "ax = fig.add_subplot(111)\n",
    "ax.hist(x=times_drt_acc, bins=np.arange(-10000,10000,60), color='blue', alpha=0.7, rwidth=0.85, density=False)\n",
    "\n",
    "plt.grid(axis='y', alpha=0.75)\n",
    "plt.xlabel('Deviation from the requested time', {'fontsize': 16})\n",
    "plt.ylabel('Number of requests', {'fontsize': 16})\n",
    "# plt.title('\"Waiting\" time, DRT', {'fontsize': 18})\n",
    "plt.ylim([0,400])\n",
    "\n",
    "plt.savefig('data/waiting_distr_drt.svg', dpi=600)"
   ]
  },
  {
   "cell_type": "code",
   "execution_count": 65,
   "metadata": {},
   "outputs": [
    {
     "data": {
      "image/png": "[encoded data removed]",
      "text/plain": [
       "<Figure size 432x288 with 1 Axes>"
      ]
     },
     "metadata": {
      "needs_background": "light"
     },
     "output_type": "display_data"
    }
   ],
   "source": [
    "fig = plt.figure()\n",
    "ax = fig.add_subplot(111)\n",
    "ax.hist(x=times_transit['diff2'], bins=np.arange(-5000,5000,60), color='blue', alpha=0.7, rwidth=0.85, density=False)\n",
    "\n",
    "plt.grid(axis='y', alpha=0.75)\n",
    "plt.xlabel('deviation from requested time')\n",
    "plt.ylabel('Number of trips')\n",
    "plt.title('Time distribution of actual TRANSIT trips')\n",
    "\n",
    "# plt.xticks([x*3600 for x in [0, 3, 6, 9, 12, 15, 18, 21, 24]])\n",
    "# names_x = ['00:00','03:00','6:00','9:00','12:00','15:00','18:00','21:00', '24:00']\n",
    "# ax.set_xticklabels(names_x,rotation=45)\n",
    "\n",
    "plt.savefig('data/demand_distr.png', dpi=600)"
   ]
  },
  {
   "cell_type": "markdown",
   "metadata": {},
   "source": [
    "# Distribution of trip time"
   ]
  },
  {
   "cell_type": "code",
   "execution_count": 66,
   "metadata": {},
   "outputs": [],
   "source": [
    "direct_trips_drt = []\n",
    "direct_trips_drt_transit = []\n",
    "direct_trips_transit = []\n",
    "drt_trips = []\n",
    "drt_transit_trips = []\n",
    "transit_trips = []\n",
    "\n",
    "for person in persons:\n",
    "    for actual_trip, direct_trip in zip(person.get('actual_trips'), person.get('direct_trips')):\n",
    "        if actual_trip.get('main_mode') == OtpMode.DRT:\n",
    "            direct_trips_drt.append(direct_trip)\n",
    "            drt_trips.append(actual_trip)\n",
    "        elif actual_trip.get('main_mode') == OtpMode.DRT_TRANSIT:\n",
    "            direct_trips_drt_transit.append(direct_trip)\n",
    "            drt_transit_trips.append(actual_trip)\n",
    "        elif actual_trip['main_mode'] == OtpMode.TRANSIT:\n",
    "            direct_trips_transit.append(direct_trip)\n",
    "            transit_trips.append(actual_trip)"
   ]
  },
  {
   "cell_type": "code",
   "execution_count": 67,
   "metadata": {},
   "outputs": [
    {
     "data": {
      "image/png": "[encoded data removed]",
      "text/plain": [
       "<Figure size 432x288 with 1 Axes>"
      ]
     },
     "metadata": {
      "needs_background": "light"
     },
     "output_type": "display_data"
    }
   ],
   "source": [
    "x = [at['duration']/dt['duration'] for dt,at in zip(direct_trips_drt, drt_trips)]\n",
    "\n",
    "fig = plt.figure()\n",
    "ax = fig.add_subplot(111)\n",
    "ax.hist(x=x, bins=np.arange(0,6,0.1), color='blue', alpha=0.7, rwidth=0.85, density=False)\n",
    "\n",
    "plt.grid(axis='y', alpha=0.75)\n",
    "plt.xlabel('Ratio of actual to direct trip time', {'fontsize': 16})\n",
    "plt.ylabel('Number of requests', {'fontsize': 16})\n",
    "plt.title('DRT', {'fontsize': 18})\n",
    "plt.ylim([0,400])\n",
    "\n",
    "# plt.xticks([x*3600 for x in [0, 3, 6, 9, 12, 15, 18, 21, 24]])\n",
    "# names_x = ['00:00','03:00','6:00','9:00','12:00','15:00','18:00','21:00', '24:00']\n",
    "# ax.set_xticklabels(names_x,rotation=45)\n",
    "\n",
    "plt.savefig('data/demand_distr.png', dpi=600)"
   ]
  },
  {
   "cell_type": "code",
   "execution_count": 68,
   "metadata": {},
   "outputs": [
    {
     "data": {
      "image/png": "[encoded data removed]",
      "text/plain": [
       "<Figure size 432x288 with 1 Axes>"
      ]
     },
     "metadata": {
      "needs_background": "light"
     },
     "output_type": "display_data"
    }
   ],
   "source": [
    "x = [at['duration']/dt['duration'] for dt,at in zip(direct_trips_drt_transit, drt_transit_trips)]\n",
    "\n",
    "fig = plt.figure()\n",
    "ax = fig.add_subplot(111)\n",
    "ax.hist(x=x, bins=np.arange(0,6,0.1), color='blue', alpha=0.7, rwidth=0.85, density=False)\n",
    "\n",
    "plt.grid(axis='y', alpha=0.75)\n",
    "plt.xlabel('Ratio of actual to direct trip time', {'fontsize': 16})\n",
    "plt.ylabel('Number of requests', {'fontsize': 16})\n",
    "plt.title('DRT_TRANSIT', {'fontsize': 18})\n",
    "plt.ylim([0,400])\n",
    "\n",
    "# plt.xticks([x*3600 for x in [0, 3, 6, 9, 12, 15, 18, 21, 24]])\n",
    "# names_x = ['00:00','03:00','6:00','9:00','12:00','15:00','18:00','21:00', '24:00']\n",
    "# ax.set_xticklabels(names_x,rotation=45)\n",
    "\n",
    "plt.savefig('data/demand_distr.png', dpi=600)"
   ]
  },
  {
   "cell_type": "code",
   "execution_count": 69,
   "metadata": {},
   "outputs": [
    {
     "data": {
      "image/png": "[encoded data removed]",
      "text/plain": [
       "<Figure size 432x288 with 1 Axes>"
      ]
     },
     "metadata": {
      "needs_background": "light"
     },
     "output_type": "display_data"
    }
   ],
   "source": [
    "x = [at['duration']/dt['duration'] for dt,at in zip(direct_trips_transit, transit_trips)]\n",
    "\n",
    "fig = plt.figure()\n",
    "ax = fig.add_subplot(111)\n",
    "ax.hist(x=x, bins=np.arange(0,6,0.1), color='blue', alpha=0.7, rwidth=0.85, density=False)\n",
    "\n",
    "plt.grid(axis='y', alpha=0.75)\n",
    "plt.xlabel('Ratio')\n",
    "plt.ylabel('Number of requests')\n",
    "plt.title('Leftovers on PT (RAIL)')\n",
    "plt.ylim([0,400])\n",
    "\n",
    "# plt.xticks([x*3600 for x in [0, 3, 6, 9, 12, 15, 18, 21, 24]])\n",
    "# names_x = ['00:00','03:00','6:00','9:00','12:00','15:00','18:00','21:00', '24:00']\n",
    "# ax.set_xticklabels(names_x,rotation=45)\n",
    "\n",
    "plt.savefig('data/demand_distr.png', dpi=600)"
   ]
  },
  {
   "cell_type": "code",
   "execution_count": 70,
   "metadata": {},
   "outputs": [
    {
     "data": {
      "image/png": "[encoded data removed]",
      "text/plain": [
       "<Figure size 432x288 with 1 Axes>"
      ]
     },
     "metadata": {
      "needs_background": "light"
     },
     "output_type": "display_data"
    }
   ],
   "source": [
    "font = {'size': 14}\n",
    "matplotlib.rc('font', **font)\n",
    "\n",
    "x = [at['duration']/dt['duration'] for dt,at in zip(direct_trips_drt, drt_trips)]\n",
    "\n",
    "fig = plt.figure()\n",
    "ax = fig.add_subplot(111)\n",
    "# ax.hist(x=x, bins=np.arange(0,6,0.1), color='green', alpha=1.0, rwidth=0.85, density=False, stacked=True)\n",
    "\n",
    "x2 = [at['duration']/dt['duration'] for dt,at in zip(direct_trips_transit, transit_trips)]\n",
    "ax.hist(x=[x2,x], bins=np.arange(0,6,0.1), color=['blue', 'green'], alpha=0.7, rwidth=0.85, density=False, stacked=True)\n",
    "\n",
    "plt.grid(axis='y', alpha=0.75)\n",
    "plt.xlabel('Ratio', {'fontsize': 16})\n",
    "plt.ylabel('Number of trips', {'fontsize': 16})\n",
    "plt.title('Distribution of actual to direct trip duration', {'fontsize': 18})\n",
    "plt.ylim(0,400)\n",
    "\n",
    "labels = ['DRT', 'PT']\n",
    "colours = ['green','blue']\n",
    "leg = [mpatches.Patch(color=c, label=l) for l,c in zip(labels,colours)]\n",
    "plt.legend(handles=leg, bbox_to_anchor=(0.97, 0.995), fontsize=13)\n",
    "\n",
    "plt.savefig('data/sim_mult_distr.png', dpi=600, bbox_inches=\"tight\")"
   ]
  },
  {
   "cell_type": "code",
   "execution_count": 71,
   "metadata": {},
   "outputs": [
    {
     "data": {
      "image/png": "[encoded data removed]",
      "text/plain": [
       "<Figure size 432x288 with 1 Axes>"
      ]
     },
     "metadata": {
      "needs_background": "light"
     },
     "output_type": "display_data"
    }
   ],
   "source": [
    "font = {'size': 14}\n",
    "matplotlib.rc('font', **font)\n",
    "\n",
    "fig = plt.figure()\n",
    "ax = fig.add_subplot(111)\n",
    "ax.hist(x=x, bins=np.arange(0,6,0.1), color='blue', alpha=0.7, rwidth=0.85, density=False)\n",
    "\n",
    "plt.grid(axis='y', alpha=0.75)\n",
    "plt.xlabel('Ratio')\n",
    "plt.ylabel('Number of trips')\n",
    "plt.title('Distribution of PT to direct trip duration')\n",
    "\n",
    "# plt.xticks([x*3600 for x in [0, 3, 6, 9, 12, 15, 18, 21, 24]])\n",
    "# names_x = ['00:00','03:00','6:00','9:00','12:00','15:00','18:00','21:00', '24:00']\n",
    "# ax.set_xticklabels(names_x,rotation=45)\n",
    "plt.ylim(0,400)\n",
    "\n",
    "plt.savefig('data/pt_multiplier_distr.png', dpi=600, bbox_inches=\"tight\")"
   ]
  },
  {
   "cell_type": "markdown",
   "metadata": {},
   "source": [
    "### now for PT only"
   ]
  },
  {
   "cell_type": "code",
   "execution_count": 72,
   "metadata": {},
   "outputs": [],
   "source": [
    "direct_trips_transit = []\n",
    "transit_trips = []\n",
    "\n",
    "for person in persons_pt:\n",
    "    for actual_trip, direct_trip in zip(person.get('actual_trips'), person.get('direct_trips')):\n",
    "        if actual_trip['main_mode'] == OtpMode.TRANSIT:\n",
    "            direct_trips_transit.append(direct_trip)\n",
    "            transit_trips.append(actual_trip)"
   ]
  },
  {
   "cell_type": "code",
   "execution_count": 73,
   "metadata": {},
   "outputs": [
    {
     "data": {
      "image/png": "[encoded data removed]",
      "text/plain": [
       "<Figure size 432x288 with 1 Axes>"
      ]
     },
     "metadata": {
      "needs_background": "light"
     },
     "output_type": "display_data"
    }
   ],
   "source": [
    "x = [at['duration']/dt['duration'] for dt,at in zip(direct_trips_transit, transit_trips)]\n",
    "\n",
    "fig = plt.figure()\n",
    "ax = fig.add_subplot(111)\n",
    "ax.hist(x=x, bins=np.arange(0,6,0.1), color='blue', alpha=0.7, rwidth=0.85, density=False)\n",
    "\n",
    "plt.grid(axis='y', alpha=0.75)\n",
    "plt.xlabel('Ratio')\n",
    "plt.ylabel('Number of requests')\n",
    "plt.title('PT only')\n",
    "plt.ylim([0,400])\n",
    "\n",
    "# plt.xticks([x*3600 for x in [0, 3, 6, 9, 12, 15, 18, 21, 24]])\n",
    "# names_x = ['00:00','03:00','6:00','9:00','12:00','15:00','18:00','21:00', '24:00']\n",
    "# ax.set_xticklabels(names_x,rotation=45)\n",
    "\n",
    "plt.savefig('data/demand_distr.png', dpi=600)"
   ]
  },
  {
   "cell_type": "code",
   "execution_count": null,
   "metadata": {},
   "outputs": [],
   "source": []
  },
  {
   "cell_type": "code",
   "execution_count": null,
   "metadata": {},
   "outputs": [],
   "source": []
  },
  {
   "cell_type": "code",
   "execution_count": null,
   "metadata": {},
   "outputs": [],
   "source": []
  }
 ],
 "metadata": {
  "kernelspec": {
   "display_name": "Python 3",
   "language": "python",
   "name": "python3"
  },
  "language_info": {
   "codemirror_mode": {
    "name": "ipython",
    "version": 3
   },
   "file_extension": ".py",
   "mimetype": "text/x-python",
   "name": "python",
   "nbconvert_exporter": "python",
   "pygments_lexer": "ipython3",
   "version": "3.7.6"
  }
 },
 "nbformat": 4,
 "nbformat_minor": 2
}

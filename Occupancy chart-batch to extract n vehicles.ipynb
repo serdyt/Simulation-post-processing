{
 "cells": [
  {
   "cell_type": "code",
   "execution_count": 8,
   "metadata": {},
   "outputs": [],
   "source": [
    "import csv\n",
    "import pandas as pd\n",
    "import matplotlib.pyplot as plt\n",
    "import glob\n",
    "import numpy as np\n",
    "pd.set_option('display.max_rows', None)\n",
    "import zipfile\n",
    "import os\n",
    "import shutil"
   ]
  },
  {
   "cell_type": "code",
   "execution_count": 9,
   "metadata": {},
   "outputs": [],
   "source": [
    "scenario_names = ['0','1','2','3','4']"
   ]
  },
  {
   "cell_type": "code",
   "execution_count": 10,
   "metadata": {},
   "outputs": [
    {
     "name": "stdout",
     "output_type": "stream",
     "text": [
      "28,0\n",
      "26,0\n",
      "27,0\n",
      "29,0\n",
      "29,0\n"
     ]
    }
   ],
   "source": [
    "for scenario_name in scenario_names:\n",
    "    path_to_zip_file = '/home/ai6644/Malmo/Tools/Simulation results/Lolland/TRB/drt/dtm 1.5/'+\\\n",
    "                       scenario_name+'/log.zip'\n",
    "    day_sec = int(86400)\n",
    "    day_h = int(24)\n",
    "    with zipfile.ZipFile(path_to_zip_file, 'r') as zip_ref:\n",
    "        try:\n",
    "            shutil.rmtree('data/zip')\n",
    "        except (FileNotFoundError, OSError) as e:\n",
    "            pass\n",
    "        os.mkdir('data/zip')\n",
    "        zip_ref.extractall('data/zip')\n",
    "        path = 'data/zip/' + os.listdir('data/zip')[0] + '/vehicle_logs'\n",
    "        \n",
    "    # all_files = glob.glob(path + \"/vehicle_occupancy_*\")\n",
    "    all_files = glob.glob(\"data/zip/*/vehicle_logs/vehicle_occupancy_*\")\n",
    "    all_files.sort()\n",
    "\n",
    "    occupancies = []\n",
    "    for filename in all_files:\n",
    "        df = pd.read_csv(filename, index_col=None, header=0)\n",
    "        df['time'] = df.time.astype(int)\n",
    "        df = df.drop_duplicates(keep='last', subset='time')\n",
    "        occupancies.append(df)\n",
    "\n",
    "    merged_time = pd.concat(occupancies)['time'].sort_values().drop_duplicates()\n",
    "    n_cars = len(all_files)\n",
    "    \n",
    "    all_files = glob.glob(\"data/zip/*/vehicle_logs/vehicle_status_*\")\n",
    "    all_files.sort()\n",
    "\n",
    "    statuses = []\n",
    "    for filename in all_files:\n",
    "        df = pd.read_csv(filename, index_col=None, header=0, delimiter=',', quotechar='|', quoting=csv.QUOTE_MINIMAL)\n",
    "        df.columns = ['time', 'status']\n",
    "        df['time'] = df.time.astype(int)\n",
    "        df = df.drop_duplicates(keep='last', subset='time')\n",
    "        statuses.append(df)\n",
    "\n",
    "    for occ,stat in zip(occupancies, statuses):\n",
    "        occ.set_index('time', inplace=True)\n",
    "        stat.set_index('time', inplace=True)\n",
    "        # idle\n",
    "        occ['#passengers'].loc[(stat.status == 6).values] = -2\n",
    "        # waiting outside depot\n",
    "        occ['#passengers'].loc[(stat.status == 4).values] = -1\n",
    "\n",
    "    merged_df = pd.concat(occupancies, axis=1).fillna(method='ffill')\n",
    "    \n",
    "    li=[]\n",
    "    for i in range(0, len(merged_df)):\n",
    "        li.append(merged_df.iloc[i].value_counts())\n",
    "    #     li[-1].index = 8 - li[-1].index.values    \n",
    "    \n",
    "    day_values = pd.concat(li, axis=1).fillna(0).T.reindex(index=[_ for _ in range(0, day_sec)]).fillna(method='ffill')\n",
    "    day_values = day_values[day_values.columns.to_list()[::-1]]\n",
    "    day_values.columns = day_values.columns.to_list()[:-2] + ['waiting', 'idling']\n",
    "    day_values2 = day_values.copy()\n",
    "    day_values2['idling'] = day_values2.idling + day_values2.waiting\n",
    "    day_values2 = day_values2.drop(['waiting'], axis=1)\n",
    "    \n",
    "    print(str(n_cars - day_values2.idling.min()).replace('.',','))"
   ]
  },
  {
   "cell_type": "code",
   "execution_count": 12,
   "metadata": {},
   "outputs": [
    {
     "data": {
      "text/plain": [
       "#passengers   -2.0\n",
       "#passengers    5.0\n",
       "#passengers   -2.0\n",
       "#passengers    5.0\n",
       "#passengers   -2.0\n",
       "#passengers   -2.0\n",
       "#passengers   -2.0\n",
       "#passengers    5.0\n",
       "#passengers    6.0\n",
       "#passengers    4.0\n",
       "#passengers    5.0\n",
       "#passengers    5.0\n",
       "#passengers    4.0\n",
       "#passengers    7.0\n",
       "#passengers    7.0\n",
       "#passengers   -2.0\n",
       "#passengers    5.0\n",
       "#passengers   -2.0\n",
       "#passengers    6.0\n",
       "#passengers   -2.0\n",
       "#passengers    6.0\n",
       "#passengers    7.0\n",
       "#passengers    6.0\n",
       "#passengers    4.0\n",
       "#passengers    6.0\n",
       "#passengers    5.0\n",
       "#passengers   -2.0\n",
       "#passengers    5.0\n",
       "#passengers   -2.0\n",
       "#passengers    4.0\n",
       "#passengers   -2.0\n",
       "#passengers   -2.0\n",
       "#passengers   -2.0\n",
       "#passengers    3.0\n",
       "#passengers    5.0\n",
       "#passengers   -2.0\n",
       "#passengers    4.0\n",
       "#passengers   -2.0\n",
       "#passengers   -2.0\n",
       "#passengers    1.0\n",
       "#passengers    5.0\n",
       "#passengers    4.0\n",
       "#passengers   -2.0\n",
       "#passengers   -2.0\n",
       "#passengers   -2.0\n",
       "#passengers    4.0\n",
       "#passengers    2.0\n",
       "#passengers   -2.0\n",
       "#passengers   -2.0\n",
       "#passengers   -2.0\n",
       "#passengers   -2.0\n",
       "#passengers   -2.0\n",
       "#passengers   -2.0\n",
       "#passengers   -2.0\n",
       "#passengers   -2.0\n",
       "#passengers   -2.0\n",
       "#passengers    4.0\n",
       "#passengers    6.0\n",
       "#passengers    8.0\n",
       "#passengers    2.0\n",
       "dtype: float64"
      ]
     },
     "execution_count": 12,
     "metadata": {},
     "output_type": "execute_result"
    }
   ],
   "source": [
    "merged_df.max()"
   ]
  },
  {
   "cell_type": "code",
   "execution_count": null,
   "metadata": {},
   "outputs": [],
   "source": []
  }
 ],
 "metadata": {
  "kernelspec": {
   "display_name": "Python 3",
   "language": "python",
   "name": "python3"
  },
  "language_info": {
   "codemirror_mode": {
    "name": "ipython",
    "version": 3
   },
   "file_extension": ".py",
   "mimetype": "text/x-python",
   "name": "python",
   "nbconvert_exporter": "python",
   "pygments_lexer": "ipython3",
   "version": "3.7.6"
  }
 },
 "nbformat": 4,
 "nbformat_minor": 4
}

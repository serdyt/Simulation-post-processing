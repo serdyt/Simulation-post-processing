{
 "cells": [
  {
   "cell_type": "code",
   "execution_count": 1,
   "metadata": {},
   "outputs": [],
   "source": [
    "import json\n",
    "import requests\n",
    "import numpy as np\n",
    "from matplotlib import pyplot as plt\n",
    "import matplotlib\n",
    "import matplotlib.patches as mpatches\n",
    "import pandas as pd\n",
    "import random\n",
    "import glob\n",
    "import zipfile\n",
    "import os\n",
    "import shutil"
   ]
  },
  {
   "cell_type": "code",
   "execution_count": 2,
   "metadata": {},
   "outputs": [],
   "source": [
    "scenario_name = \"hack fixed, twm, fixed long trips\"\n",
    "path_to_zip_file = '/home/ai6644/Malmo/Tools/Simulation results/Lolland/tw around departure, stretched, with transfers/'+\\\n",
    "                   scenario_name+'/log.zip'\n",
    "\n",
    "scenario_name_pt = \"only bus 2\"\n",
    "path_to_zip_file_pt = '/home/ai6644/Malmo/Tools/Simulation results/Lolland/tw around departure, stretched, with transfers/'+\\\n",
    "                   scenario_name_pt+'/log.zip'"
   ]
  },
  {
   "cell_type": "code",
   "execution_count": 3,
   "metadata": {},
   "outputs": [],
   "source": [
    "day_sec = int(86400)\n",
    "day_h = int(24)"
   ]
  },
  {
   "cell_type": "code",
   "execution_count": 4,
   "metadata": {},
   "outputs": [],
   "source": [
    "with zipfile.ZipFile(path_to_zip_file, 'r') as zip_ref:\n",
    "    try:\n",
    "        shutil.rmtree('data/zip')\n",
    "    except (FileNotFoundError, OSError) as e:\n",
    "        pass\n",
    "    os.mkdir('data/zip')\n",
    "    zip_ref.extractall('data/zip')\n",
    "path = 'data/zip/' + os.listdir('data/zip')[0] + '/trip_dump.json'\n",
    "all_files = glob.glob(\"data/zip/*/vehicle_logs/vehicle_occupancy_*\")\n",
    "n_cars = len(all_files)\n",
    "fp = open(path)\n",
    "tdump = json.load(fp)\n",
    "fp.close()"
   ]
  },
  {
   "cell_type": "code",
   "execution_count": 5,
   "metadata": {},
   "outputs": [],
   "source": [
    "with zipfile.ZipFile(path_to_zip_file_pt, 'r') as zip_ref:\n",
    "    try:\n",
    "        shutil.rmtree('data/zip')\n",
    "    except (FileNotFoundError, OSError) as e:\n",
    "        pass\n",
    "    os.mkdir('data/zip')\n",
    "    zip_ref.extractall('data/zip')\n",
    "path_pt = 'data/zip/' + os.listdir('data/zip')[0] + '/trip_dump.json'\n",
    "fp_pt = open(path_pt)\n",
    "tdump_pt = json.load(fp_pt)\n",
    "fp.close()"
   ]
  },
  {
   "cell_type": "code",
   "execution_count": 6,
   "metadata": {},
   "outputs": [],
   "source": [
    "\n",
    "class OtpMode(object):\n",
    "    CAR = 'CAR'\n",
    "    WALK = 'WALK'\n",
    "    TRANSIT = 'TRANSIT,WALK'\n",
    "    BUS = 'BUS,WALK'\n",
    "    RAIL = 'TRAM,RAIL,SUBWAY,FUNICULAR,GONDOLA,WALK'\n",
    "    BICYCLE = 'BICYCLE'\n",
    "    BICYCLE_TRANSIT = 'TRANSIT,BICYCLE'\n",
    "    PARK_RIDE = 'CAR_PARK,WALK,TRANSIT'\n",
    "    KISS_RIDE = 'CAR,WALK,TRANSIT'\n",
    "    BIKE_RIDE = 'BICYCLE_PARK,WALK,TRANSIT'\n",
    "    RENTED_BICYCLE = 'WALK,BICYCLE_RENT'\n",
    "    TRANSIT_RENTED_BICYCLE = 'TRANSIT,WALK,BICYCLE_RENT'\n",
    "    DRT = 'DRT'\n",
    "    DRT_TRANSIT = 'DRT_TRANSIT'\n",
    "\n",
    "    _DICT = ['CAR', 'WALK', 'TRANSIT', 'BUS', 'RAIL', 'BICYCLE', 'BICYCLE_TRANSIT', 'PARK_RIDE', 'KISS_RIDE',\n",
    "             'BIKE_RIDE', 'RENTED_BICYCLE', 'TRANSIT_RENTED_BICYCLE', 'DRT', 'DRT_TRANSIT']\n",
    "\n",
    "    _MAIN_MODES = ['CAR', 'BICYCLE', 'TRANSIT', 'WALK']\n",
    "\n",
    "    _DRT_MODES = ['DRT', 'DRT_TRANSIT']\n",
    "\n",
    "    _PT_MODES = ['TRANSIT', 'BUS', 'RAIL']\n",
    "\n",
    "    @staticmethod\n",
    "    def get_all_modes():\n",
    "        return [OtpMode.__dict__.get(item) for item in OtpMode._DICT]\n",
    "\n",
    "    @staticmethod\n",
    "    def get_main_modes():\n",
    "        return [OtpMode.__dict__.get(item) for item in OtpMode._MAIN_MODES]\n",
    "\n",
    "    @staticmethod\n",
    "    def contains(other):\n",
    "        return other in OtpMode._DICT\n",
    "\n",
    "    @staticmethod\n",
    "    def get_pt_modes():\n",
    "        return OtpMode._PT_MODES\n",
    "\n",
    "    @staticmethod\n",
    "    def get_drt_modes():\n",
    "        return OtpMode._DRT_MODES\n",
    "\n",
    "    @staticmethod\n",
    "    def get_mode(string):\n",
    "        if OtpMode.contains(string):\n",
    "            return OtpMode.__getattribute__(OtpMode(), string)\n",
    "        else:\n",
    "            raise Exception('unsupported mode {}'.format(string))\n"
   ]
  },
  {
   "cell_type": "code",
   "execution_count": 7,
   "metadata": {},
   "outputs": [],
   "source": [
    "persons = tdump.get('person')\n",
    "persons_pt = tdump_pt.get('person')"
   ]
  },
  {
   "cell_type": "code",
   "execution_count": 8,
   "metadata": {},
   "outputs": [],
   "source": [
    "fp = open('data/population_lolland_4500.json')\n",
    "tdump_pop = json.load(fp)\n",
    "fp.close()\n",
    "population = tdump_pop.get('persons')"
   ]
  },
  {
   "cell_type": "markdown",
   "metadata": {},
   "source": [
    "# Deviation of actual trip start time to requested trip start time"
   ]
  },
  {
   "cell_type": "code",
   "execution_count": 9,
   "metadata": {},
   "outputs": [],
   "source": [
    "perspop = []\n",
    "for person in population:\n",
    "    for activity in person['activities']:\n",
    "        if activity['type'] == \"WORK\":\n",
    "            t = sum([x*k for x,k in zip([int(t) for t in activity['end_time'].split(\":\")], [60*60, 60, 1])])\n",
    "            perspop.append({'time_req': t, 'id': person['id']})"
   ]
  },
  {
   "cell_type": "code",
   "execution_count": 10,
   "metadata": {},
   "outputs": [
    {
     "name": "stdout",
     "output_type": "stream",
     "text": [
      "935\n",
      "2718\n",
      "3895\n"
     ]
    }
   ],
   "source": [
    "perstrips_drt = []\n",
    "for person in persons:\n",
    "    try:\n",
    "        if person['actual_trips'][0]['main_mode'] in ['DRT']:\n",
    "            perstrips_drt.append({'time_act': person['actual_trips'][0]['legs'][0]['start_time'], 'id': person['id']})\n",
    "    except IndexError as e:\n",
    "        print(person['id'])\n",
    "        continue"
   ]
  },
  {
   "cell_type": "code",
   "execution_count": 11,
   "metadata": {},
   "outputs": [
    {
     "name": "stdout",
     "output_type": "stream",
     "text": [
      "935\n",
      "2718\n",
      "3895\n"
     ]
    }
   ],
   "source": [
    "perstrips_transit = []\n",
    "for person in persons_pt:\n",
    "    try:\n",
    "        if person['actual_trips'][0]['main_mode'] in ['TRANSIT,WALK', 'WALK', 'TRANSIT']:\n",
    "            perstrips_transit.append({'time_act': person['actual_trips'][0]['legs'][0]['start_time'], 'id': person['id']})\n",
    "    except IndexError as e:\n",
    "        print(person['id'])\n",
    "        continue"
   ]
  },
  {
   "cell_type": "code",
   "execution_count": 12,
   "metadata": {},
   "outputs": [],
   "source": [
    "times_drt = pd.concat([pd.DataFrame(perspop).set_index('id'), pd.DataFrame(perstrips_drt).set_index('id')], axis=1).dropna()\n",
    "times_drt['diff'] = times_drt.time_req - times_drt.time_act"
   ]
  },
  {
   "cell_type": "code",
   "execution_count": 13,
   "metadata": {},
   "outputs": [
    {
     "data": {
      "text/html": [
       "<div>\n",
       "<style scoped>\n",
       "    .dataframe tbody tr th:only-of-type {\n",
       "        vertical-align: middle;\n",
       "    }\n",
       "\n",
       "    .dataframe tbody tr th {\n",
       "        vertical-align: top;\n",
       "    }\n",
       "\n",
       "    .dataframe thead th {\n",
       "        text-align: right;\n",
       "    }\n",
       "</style>\n",
       "<table border=\"1\" class=\"dataframe\">\n",
       "  <thead>\n",
       "    <tr style=\"text-align: right;\">\n",
       "      <th></th>\n",
       "      <th>time_req</th>\n",
       "      <th>time_act</th>\n",
       "      <th>diff</th>\n",
       "    </tr>\n",
       "    <tr>\n",
       "      <th>id</th>\n",
       "      <th></th>\n",
       "      <th></th>\n",
       "      <th></th>\n",
       "    </tr>\n",
       "  </thead>\n",
       "  <tbody>\n",
       "    <tr>\n",
       "      <th>43</th>\n",
       "      <td>18108</td>\n",
       "      <td>16308.00</td>\n",
       "      <td>1800.00</td>\n",
       "    </tr>\n",
       "    <tr>\n",
       "      <th>75</th>\n",
       "      <td>18576</td>\n",
       "      <td>17223.50</td>\n",
       "      <td>1352.50</td>\n",
       "    </tr>\n",
       "    <tr>\n",
       "      <th>89</th>\n",
       "      <td>21337</td>\n",
       "      <td>19784.80</td>\n",
       "      <td>1552.20</td>\n",
       "    </tr>\n",
       "    <tr>\n",
       "      <th>96</th>\n",
       "      <td>21461</td>\n",
       "      <td>19844.80</td>\n",
       "      <td>1616.20</td>\n",
       "    </tr>\n",
       "    <tr>\n",
       "      <th>98</th>\n",
       "      <td>18457</td>\n",
       "      <td>16657.00</td>\n",
       "      <td>1800.00</td>\n",
       "    </tr>\n",
       "    <tr>\n",
       "      <th>...</th>\n",
       "      <td>...</td>\n",
       "      <td>...</td>\n",
       "      <td>...</td>\n",
       "    </tr>\n",
       "    <tr>\n",
       "      <th>4413</th>\n",
       "      <td>70658</td>\n",
       "      <td>68922.45</td>\n",
       "      <td>1735.55</td>\n",
       "    </tr>\n",
       "    <tr>\n",
       "      <th>4414</th>\n",
       "      <td>71640</td>\n",
       "      <td>69840.00</td>\n",
       "      <td>1800.00</td>\n",
       "    </tr>\n",
       "    <tr>\n",
       "      <th>4418</th>\n",
       "      <td>70412</td>\n",
       "      <td>70119.50</td>\n",
       "      <td>292.50</td>\n",
       "    </tr>\n",
       "    <tr>\n",
       "      <th>4429</th>\n",
       "      <td>74370</td>\n",
       "      <td>72765.50</td>\n",
       "      <td>1604.50</td>\n",
       "    </tr>\n",
       "    <tr>\n",
       "      <th>4456</th>\n",
       "      <td>74446</td>\n",
       "      <td>73860.40</td>\n",
       "      <td>585.60</td>\n",
       "    </tr>\n",
       "  </tbody>\n",
       "</table>\n",
       "<p>1031 rows × 3 columns</p>\n",
       "</div>"
      ],
      "text/plain": [
       "      time_req  time_act     diff\n",
       "id                               \n",
       "43       18108  16308.00  1800.00\n",
       "75       18576  17223.50  1352.50\n",
       "89       21337  19784.80  1552.20\n",
       "96       21461  19844.80  1616.20\n",
       "98       18457  16657.00  1800.00\n",
       "...        ...       ...      ...\n",
       "4413     70658  68922.45  1735.55\n",
       "4414     71640  69840.00  1800.00\n",
       "4418     70412  70119.50   292.50\n",
       "4429     74370  72765.50  1604.50\n",
       "4456     74446  73860.40   585.60\n",
       "\n",
       "[1031 rows x 3 columns]"
      ]
     },
     "execution_count": 13,
     "metadata": {},
     "output_type": "execute_result"
    }
   ],
   "source": [
    "times_drt"
   ]
  },
  {
   "cell_type": "code",
   "execution_count": 14,
   "metadata": {},
   "outputs": [],
   "source": [
    "index = times_drt.index"
   ]
  },
  {
   "cell_type": "code",
   "execution_count": 31,
   "metadata": {},
   "outputs": [
    {
     "data": {
      "image/png": "[encoded data removed]",
      "text/plain": [
       "<Figure size 432x288 with 1 Axes>"
      ]
     },
     "metadata": {
      "needs_background": "light"
     },
     "output_type": "display_data"
    }
   ],
   "source": [
    "fig = plt.figure()\n",
    "ax = fig.add_subplot(111)\n",
    "ax.hist(x=times_drt['diff'], bins=np.arange(-2000,2000,60), color='blue', alpha=0.7, rwidth=0.85, density=False)\n",
    "\n",
    "plt.grid(axis='y', alpha=0.75)\n",
    "plt.xlabel('Deviation from requested time', {'fontsize': 16})\n",
    "plt.ylabel('Number of requests', {'fontsize': 16})\n",
    "plt.title('\"Waiting\" time, DRT', {'fontsize': 18})\n",
    "plt.ylim([0,80])\n",
    "\n",
    "plt.savefig('data/demand_distr.png', dpi=600)"
   ]
  },
  {
   "cell_type": "code",
   "execution_count": 16,
   "metadata": {},
   "outputs": [],
   "source": [
    "times_transit = pd.concat([pd.DataFrame(perspop).set_index('id'), pd.DataFrame(perstrips_transit).set_index('id')], axis=1).dropna()\n",
    "times_transit['diff'] = times_transit.time_req - times_transit.time_act\n",
    "def strip_to_hour(seconds):\n",
    "    \"\"\"returns only hour from the time in seconds\"\"\"\n",
    "    return int(seconds / 3600) * 3600\n",
    "times_transit['time_req_strip'] = [strip_to_hour(t) for t in times_transit.time_req.values]\n",
    "times_transit['diff2'] = times_transit.time_req_strip - times_transit.time_act"
   ]
  },
  {
   "cell_type": "code",
   "execution_count": 17,
   "metadata": {},
   "outputs": [],
   "source": [
    "times_transit = times_transit.reindex(index=index).dropna()"
   ]
  },
  {
   "cell_type": "code",
   "execution_count": 18,
   "metadata": {},
   "outputs": [
    {
     "data": {
      "text/html": [
       "<div>\n",
       "<style scoped>\n",
       "    .dataframe tbody tr th:only-of-type {\n",
       "        vertical-align: middle;\n",
       "    }\n",
       "\n",
       "    .dataframe tbody tr th {\n",
       "        vertical-align: top;\n",
       "    }\n",
       "\n",
       "    .dataframe thead th {\n",
       "        text-align: right;\n",
       "    }\n",
       "</style>\n",
       "<table border=\"1\" class=\"dataframe\">\n",
       "  <thead>\n",
       "    <tr style=\"text-align: right;\">\n",
       "      <th></th>\n",
       "      <th>time_req</th>\n",
       "      <th>time_act</th>\n",
       "      <th>diff</th>\n",
       "      <th>time_req_strip</th>\n",
       "      <th>diff2</th>\n",
       "    </tr>\n",
       "    <tr>\n",
       "      <th>id</th>\n",
       "      <th></th>\n",
       "      <th></th>\n",
       "      <th></th>\n",
       "      <th></th>\n",
       "      <th></th>\n",
       "    </tr>\n",
       "  </thead>\n",
       "  <tbody>\n",
       "    <tr>\n",
       "      <th>89</th>\n",
       "      <td>21337.0</td>\n",
       "      <td>20399.0</td>\n",
       "      <td>938.0</td>\n",
       "      <td>18000.0</td>\n",
       "      <td>-2399.0</td>\n",
       "    </tr>\n",
       "    <tr>\n",
       "      <th>96</th>\n",
       "      <td>21461.0</td>\n",
       "      <td>20399.0</td>\n",
       "      <td>1062.0</td>\n",
       "      <td>18000.0</td>\n",
       "      <td>-2399.0</td>\n",
       "    </tr>\n",
       "    <tr>\n",
       "      <th>112</th>\n",
       "      <td>19943.0</td>\n",
       "      <td>20640.0</td>\n",
       "      <td>-697.0</td>\n",
       "      <td>18000.0</td>\n",
       "      <td>-2640.0</td>\n",
       "    </tr>\n",
       "    <tr>\n",
       "      <th>114</th>\n",
       "      <td>18846.0</td>\n",
       "      <td>20460.0</td>\n",
       "      <td>-1614.0</td>\n",
       "      <td>18000.0</td>\n",
       "      <td>-2460.0</td>\n",
       "    </tr>\n",
       "    <tr>\n",
       "      <th>243</th>\n",
       "      <td>25091.0</td>\n",
       "      <td>25800.0</td>\n",
       "      <td>-709.0</td>\n",
       "      <td>21600.0</td>\n",
       "      <td>-4200.0</td>\n",
       "    </tr>\n",
       "    <tr>\n",
       "      <th>...</th>\n",
       "      <td>...</td>\n",
       "      <td>...</td>\n",
       "      <td>...</td>\n",
       "      <td>...</td>\n",
       "      <td>...</td>\n",
       "    </tr>\n",
       "    <tr>\n",
       "      <th>4397</th>\n",
       "      <td>69595.0</td>\n",
       "      <td>69900.0</td>\n",
       "      <td>-305.0</td>\n",
       "      <td>68400.0</td>\n",
       "      <td>-1500.0</td>\n",
       "    </tr>\n",
       "    <tr>\n",
       "      <th>4407</th>\n",
       "      <td>71618.0</td>\n",
       "      <td>70580.0</td>\n",
       "      <td>1038.0</td>\n",
       "      <td>68400.0</td>\n",
       "      <td>-2180.0</td>\n",
       "    </tr>\n",
       "    <tr>\n",
       "      <th>4413</th>\n",
       "      <td>70658.0</td>\n",
       "      <td>69780.0</td>\n",
       "      <td>878.0</td>\n",
       "      <td>68400.0</td>\n",
       "      <td>-1380.0</td>\n",
       "    </tr>\n",
       "    <tr>\n",
       "      <th>4414</th>\n",
       "      <td>71640.0</td>\n",
       "      <td>70140.0</td>\n",
       "      <td>1500.0</td>\n",
       "      <td>68400.0</td>\n",
       "      <td>-1740.0</td>\n",
       "    </tr>\n",
       "    <tr>\n",
       "      <th>4418</th>\n",
       "      <td>70412.0</td>\n",
       "      <td>70500.0</td>\n",
       "      <td>-88.0</td>\n",
       "      <td>68400.0</td>\n",
       "      <td>-2100.0</td>\n",
       "    </tr>\n",
       "  </tbody>\n",
       "</table>\n",
       "<p>976 rows × 5 columns</p>\n",
       "</div>"
      ],
      "text/plain": [
       "      time_req  time_act    diff  time_req_strip   diff2\n",
       "id                                                      \n",
       "89     21337.0   20399.0   938.0         18000.0 -2399.0\n",
       "96     21461.0   20399.0  1062.0         18000.0 -2399.0\n",
       "112    19943.0   20640.0  -697.0         18000.0 -2640.0\n",
       "114    18846.0   20460.0 -1614.0         18000.0 -2460.0\n",
       "243    25091.0   25800.0  -709.0         21600.0 -4200.0\n",
       "...        ...       ...     ...             ...     ...\n",
       "4397   69595.0   69900.0  -305.0         68400.0 -1500.0\n",
       "4407   71618.0   70580.0  1038.0         68400.0 -2180.0\n",
       "4413   70658.0   69780.0   878.0         68400.0 -1380.0\n",
       "4414   71640.0   70140.0  1500.0         68400.0 -1740.0\n",
       "4418   70412.0   70500.0   -88.0         68400.0 -2100.0\n",
       "\n",
       "[976 rows x 5 columns]"
      ]
     },
     "execution_count": 18,
     "metadata": {},
     "output_type": "execute_result"
    }
   ],
   "source": [
    "times_transit"
   ]
  },
  {
   "cell_type": "code",
   "execution_count": 32,
   "metadata": {},
   "outputs": [
    {
     "data": {
      "image/png": "[encoded data removed]",
      "text/plain": [
       "<Figure size 432x288 with 1 Axes>"
      ]
     },
     "metadata": {
      "needs_background": "light"
     },
     "output_type": "display_data"
    }
   ],
   "source": [
    "fig = plt.figure()\n",
    "ax = fig.add_subplot(111)\n",
    "ax.hist(x=times_transit['diff'], bins=np.arange(-2000,2000,60), color='blue', alpha=0.7, rwidth=0.85, density=False)\n",
    "\n",
    "plt.grid(axis='y', alpha=0.75)\n",
    "plt.xlabel('Deviation from requested time', {'fontsize': 16})\n",
    "plt.ylabel('Number of trips', {'fontsize': 16})\n",
    "plt.title('\"Waiting\" time, TRANSIT', {'fontsize': 18})\n",
    "plt.ylim([0,80])\n",
    "\n",
    "plt.savefig('data/demand_distr.png', dpi=600)"
   ]
  },
  {
   "cell_type": "code",
   "execution_count": 20,
   "metadata": {},
   "outputs": [
    {
     "data": {
      "image/png": "[encoded data removed]",
      "text/plain": [
       "<Figure size 432x288 with 1 Axes>"
      ]
     },
     "metadata": {
      "needs_background": "light"
     },
     "output_type": "display_data"
    }
   ],
   "source": [
    "fig = plt.figure()\n",
    "ax = fig.add_subplot(111)\n",
    "ax.hist(x=times_transit['diff2'], bins=np.arange(-5000,5000,60), color='blue', alpha=0.7, rwidth=0.85, density=False)\n",
    "\n",
    "plt.grid(axis='y', alpha=0.75)\n",
    "plt.xlabel('deviation from requested time')\n",
    "plt.ylabel('Number of trips')\n",
    "plt.title('Time distribution of actual TRANSIT trips')\n",
    "\n",
    "# plt.xticks([x*3600 for x in [0, 3, 6, 9, 12, 15, 18, 21, 24]])\n",
    "# names_x = ['00:00','03:00','6:00','9:00','12:00','15:00','18:00','21:00', '24:00']\n",
    "# ax.set_xticklabels(names_x,rotation=45)\n",
    "\n",
    "plt.savefig('data/demand_distr.png', dpi=600)"
   ]
  },
  {
   "cell_type": "markdown",
   "metadata": {},
   "source": [
    "# Distribution of trip time"
   ]
  },
  {
   "cell_type": "code",
   "execution_count": 47,
   "metadata": {},
   "outputs": [],
   "source": [
    "direct_trips_drt = []\n",
    "direct_trips_drt_transit = []\n",
    "direct_trips_transit = []\n",
    "drt_trips = []\n",
    "drt_transit_trips = []\n",
    "transit_trips = []\n",
    "\n",
    "for person in persons:\n",
    "    for actual_trip, direct_trip in zip(person.get('actual_trips'), person.get('direct_trips')):\n",
    "        if actual_trip.get('main_mode') == OtpMode.DRT:\n",
    "            direct_trips_drt.append(direct_trip)\n",
    "            drt_trips.append(actual_trip)\n",
    "        elif actual_trip.get('main_mode') == OtpMode.DRT_TRANSIT:\n",
    "            direct_trips_drt_transit.append(direct_trip)\n",
    "            drt_transit_trips.append(actual_trip)\n",
    "        elif actual_trip['main_mode'] == OtpMode.TRANSIT:\n",
    "            direct_trips_transit.append(direct_trip)\n",
    "            transit_trips.append(actual_trip)"
   ]
  },
  {
   "cell_type": "code",
   "execution_count": 44,
   "metadata": {},
   "outputs": [
    {
     "data": {
      "image/png": "[encoded data removed]",
      "text/plain": [
       "<Figure size 432x288 with 1 Axes>"
      ]
     },
     "metadata": {
      "needs_background": "light"
     },
     "output_type": "display_data"
    }
   ],
   "source": [
    "x = [at['duration']/dt['duration'] for dt,at in zip(direct_trips_drt, drt_trips)]\n",
    "\n",
    "fig = plt.figure()\n",
    "ax = fig.add_subplot(111)\n",
    "ax.hist(x=x, bins=np.arange(0,6,0.1), color='blue', alpha=0.7, rwidth=0.85, density=False)\n",
    "\n",
    "plt.grid(axis='y', alpha=0.75)\n",
    "plt.xlabel('Ratio of actual to direct trip time', {'fontsize': 16})\n",
    "plt.ylabel('Number of requests', {'fontsize': 16})\n",
    "plt.title('DRT', {'fontsize': 18})\n",
    "plt.ylim([0,400])\n",
    "\n",
    "# plt.xticks([x*3600 for x in [0, 3, 6, 9, 12, 15, 18, 21, 24]])\n",
    "# names_x = ['00:00','03:00','6:00','9:00','12:00','15:00','18:00','21:00', '24:00']\n",
    "# ax.set_xticklabels(names_x,rotation=45)\n",
    "\n",
    "plt.savefig('data/demand_distr.png', dpi=600)"
   ]
  },
  {
   "cell_type": "code",
   "execution_count": 45,
   "metadata": {},
   "outputs": [
    {
     "data": {
      "image/png": "[encoded data removed]",
      "text/plain": [
       "<Figure size 432x288 with 1 Axes>"
      ]
     },
     "metadata": {
      "needs_background": "light"
     },
     "output_type": "display_data"
    }
   ],
   "source": [
    "x = [at['duration']/dt['duration'] for dt,at in zip(direct_trips_drt_transit, drt_transit_trips)]\n",
    "\n",
    "fig = plt.figure()\n",
    "ax = fig.add_subplot(111)\n",
    "ax.hist(x=x, bins=np.arange(0,6,0.1), color='blue', alpha=0.7, rwidth=0.85, density=False)\n",
    "\n",
    "plt.grid(axis='y', alpha=0.75)\n",
    "plt.xlabel('Ratio of actual to direct trip time', {'fontsize': 16})\n",
    "plt.ylabel('Number of requests', {'fontsize': 16})\n",
    "plt.title('DRT_TRANSIT', {'fontsize': 18})\n",
    "plt.ylim([0,400])\n",
    "\n",
    "# plt.xticks([x*3600 for x in [0, 3, 6, 9, 12, 15, 18, 21, 24]])\n",
    "# names_x = ['00:00','03:00','6:00','9:00','12:00','15:00','18:00','21:00', '24:00']\n",
    "# ax.set_xticklabels(names_x,rotation=45)\n",
    "\n",
    "plt.savefig('data/demand_distr.png', dpi=600)"
   ]
  },
  {
   "cell_type": "code",
   "execution_count": 48,
   "metadata": {},
   "outputs": [
    {
     "data": {
      "image/png": "[encoded data removed]",
      "text/plain": [
       "<Figure size 432x288 with 1 Axes>"
      ]
     },
     "metadata": {
      "needs_background": "light"
     },
     "output_type": "display_data"
    }
   ],
   "source": [
    "x = [at['duration']/dt['duration'] for dt,at in zip(direct_trips_transit, transit_trips)]\n",
    "\n",
    "fig = plt.figure()\n",
    "ax = fig.add_subplot(111)\n",
    "ax.hist(x=x, bins=np.arange(0,6,0.1), color='blue', alpha=0.7, rwidth=0.85, density=False)\n",
    "\n",
    "plt.grid(axis='y', alpha=0.75)\n",
    "plt.xlabel('Ratio')\n",
    "plt.ylabel('Number of requests')\n",
    "plt.title('Leftovers on PT (RAIL)')\n",
    "plt.ylim([0,400])\n",
    "\n",
    "# plt.xticks([x*3600 for x in [0, 3, 6, 9, 12, 15, 18, 21, 24]])\n",
    "# names_x = ['00:00','03:00','6:00','9:00','12:00','15:00','18:00','21:00', '24:00']\n",
    "# ax.set_xticklabels(names_x,rotation=45)\n",
    "\n",
    "plt.savefig('data/demand_distr.png', dpi=600)"
   ]
  },
  {
   "cell_type": "code",
   "execution_count": 24,
   "metadata": {},
   "outputs": [
    {
     "data": {
      "image/png": "[encoded data removed]",
      "text/plain": [
       "<Figure size 432x288 with 1 Axes>"
      ]
     },
     "metadata": {
      "needs_background": "light"
     },
     "output_type": "display_data"
    }
   ],
   "source": [
    "font = {'size': 14}\n",
    "matplotlib.rc('font', **font)\n",
    "\n",
    "x = [at['duration']/dt['duration'] for dt,at in zip(direct_trips_drt, drt_trips)]\n",
    "\n",
    "fig = plt.figure()\n",
    "ax = fig.add_subplot(111)\n",
    "# ax.hist(x=x, bins=np.arange(0,6,0.1), color='green', alpha=1.0, rwidth=0.85, density=False, stacked=True)\n",
    "\n",
    "x2 = [at['duration']/dt['duration'] for dt,at in zip(direct_trips_transit, transit_trips)]\n",
    "ax.hist(x=[x2,x], bins=np.arange(0,6,0.1), color=['blue', 'green'], alpha=0.7, rwidth=0.85, density=False, stacked=True)\n",
    "\n",
    "plt.grid(axis='y', alpha=0.75)\n",
    "plt.xlabel('Ratio', {'fontsize': 16})\n",
    "plt.ylabel('Number of trips', {'fontsize': 16})\n",
    "plt.title('Distribution of actual to direct trip duration', {'fontsize': 18})\n",
    "plt.ylim(0,400)\n",
    "\n",
    "labels = ['DRT', 'PT']\n",
    "colours = ['green','blue']\n",
    "leg = [mpatches.Patch(color=c, label=l) for l,c in zip(labels,colours)]\n",
    "plt.legend(handles=leg, bbox_to_anchor=(0.97, 0.995), fontsize=13)\n",
    "\n",
    "plt.savefig('data/sim_mult_distr.png', dpi=600, bbox_inches=\"tight\")"
   ]
  },
  {
   "cell_type": "code",
   "execution_count": 27,
   "metadata": {},
   "outputs": [
    {
     "data": {
      "image/png": "[encoded data removed]",
      "text/plain": [
       "<Figure size 432x288 with 1 Axes>"
      ]
     },
     "metadata": {
      "needs_background": "light"
     },
     "output_type": "display_data"
    }
   ],
   "source": [
    "font = {'size': 14}\n",
    "matplotlib.rc('font', **font)\n",
    "\n",
    "fig = plt.figure()\n",
    "ax = fig.add_subplot(111)\n",
    "ax.hist(x=x, bins=np.arange(0,6,0.1), color='blue', alpha=0.7, rwidth=0.85, density=False)\n",
    "\n",
    "plt.grid(axis='y', alpha=0.75)\n",
    "plt.xlabel('Ratio')\n",
    "plt.ylabel('Number of trips')\n",
    "plt.title('Distribution of PT to direct trip duration')\n",
    "\n",
    "# plt.xticks([x*3600 for x in [0, 3, 6, 9, 12, 15, 18, 21, 24]])\n",
    "# names_x = ['00:00','03:00','6:00','9:00','12:00','15:00','18:00','21:00', '24:00']\n",
    "# ax.set_xticklabels(names_x,rotation=45)\n",
    "plt.ylim(0,400)\n",
    "\n",
    "plt.savefig('data/pt_multiplier_distr.png', dpi=600, bbox_inches=\"tight\")"
   ]
  },
  {
   "cell_type": "markdown",
   "metadata": {},
   "source": [
    "### now for PT only"
   ]
  },
  {
   "cell_type": "code",
   "execution_count": 49,
   "metadata": {},
   "outputs": [],
   "source": [
    "direct_trips_transit = []\n",
    "transit_trips = []\n",
    "\n",
    "for person in persons_pt:\n",
    "    for actual_trip, direct_trip in zip(person.get('actual_trips'), person.get('direct_trips')):\n",
    "        if actual_trip['main_mode'] == OtpMode.TRANSIT:\n",
    "            direct_trips_transit.append(direct_trip)\n",
    "            transit_trips.append(actual_trip)"
   ]
  },
  {
   "cell_type": "code",
   "execution_count": 50,
   "metadata": {},
   "outputs": [
    {
     "data": {
      "image/png": "[encoded data removed]",
      "text/plain": [
       "<Figure size 432x288 with 1 Axes>"
      ]
     },
     "metadata": {
      "needs_background": "light"
     },
     "output_type": "display_data"
    }
   ],
   "source": [
    "x = [at['duration']/dt['duration'] for dt,at in zip(direct_trips_transit, transit_trips)]\n",
    "\n",
    "fig = plt.figure()\n",
    "ax = fig.add_subplot(111)\n",
    "ax.hist(x=x, bins=np.arange(0,6,0.1), color='blue', alpha=0.7, rwidth=0.85, density=False)\n",
    "\n",
    "plt.grid(axis='y', alpha=0.75)\n",
    "plt.xlabel('Ratio')\n",
    "plt.ylabel('Number of requests')\n",
    "plt.title('PT only')\n",
    "plt.ylim([0,400])\n",
    "\n",
    "# plt.xticks([x*3600 for x in [0, 3, 6, 9, 12, 15, 18, 21, 24]])\n",
    "# names_x = ['00:00','03:00','6:00','9:00','12:00','15:00','18:00','21:00', '24:00']\n",
    "# ax.set_xticklabels(names_x,rotation=45)\n",
    "\n",
    "plt.savefig('data/demand_distr.png', dpi=600)"
   ]
  },
  {
   "cell_type": "code",
   "execution_count": null,
   "metadata": {},
   "outputs": [],
   "source": []
  }
 ],
 "metadata": {
  "kernelspec": {
   "display_name": "Python 3",
   "language": "python",
   "name": "python3"
  },
  "language_info": {
   "codemirror_mode": {
    "name": "ipython",
    "version": 3
   },
   "file_extension": ".py",
   "mimetype": "text/x-python",
   "name": "python",
   "nbconvert_exporter": "python",
   "pygments_lexer": "ipython3",
   "version": "3.7.6"
  }
 },
 "nbformat": 4,
 "nbformat_minor": 2
}

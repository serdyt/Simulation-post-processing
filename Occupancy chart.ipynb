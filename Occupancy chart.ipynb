{
 "cells": [
  {
   "cell_type": "code",
   "execution_count": 1,
   "metadata": {},
   "outputs": [],
   "source": [
    "import csv\n",
    "import pandas as pd\n",
    "import matplotlib.pyplot as plt\n",
    "import glob\n",
    "import numpy as np\n",
    "pd.set_option('display.max_rows', None)\n",
    "import zipfile\n",
    "import os\n",
    "import shutil"
   ]
  },
  {
   "cell_type": "code",
   "execution_count": 2,
   "metadata": {},
   "outputs": [],
   "source": [
    "scenario_name = \"hack fixed, twm, fixed long trips\"\n",
    "path_to_zip_file = '/home/ai6644/Malmo/Tools/Simulation results/Lolland/tw around departure, stretched, with transfers/'+\\\n",
    "                   scenario_name+'/log.zip'"
   ]
  },
  {
   "cell_type": "code",
   "execution_count": 3,
   "metadata": {},
   "outputs": [],
   "source": [
    "day_sec = int(86400)\n",
    "day_h = int(24)"
   ]
  },
  {
   "cell_type": "code",
   "execution_count": 4,
   "metadata": {},
   "outputs": [],
   "source": [
    "with zipfile.ZipFile(path_to_zip_file, 'r') as zip_ref:\n",
    "    try:\n",
    "        shutil.rmtree('data/zip')\n",
    "    except (FileNotFoundError, OSError) as e:\n",
    "        pass\n",
    "    os.mkdir('data/zip')\n",
    "    zip_ref.extractall('data/zip')\n",
    "path = 'data/zip/' + os.listdir('data/zip')[0] + '/vehicle_logs'"
   ]
  },
  {
   "cell_type": "code",
   "execution_count": 5,
   "metadata": {},
   "outputs": [],
   "source": [
    "# all_files = glob.glob(path + \"/vehicle_occupancy_*\")\n",
    "all_files = glob.glob(\"data/zip/*/vehicle_logs/vehicle_occupancy_*\")\n",
    "all_files.sort()\n",
    "\n",
    "occupancies = []\n",
    "for filename in all_files:\n",
    "    df = pd.read_csv(filename, index_col=None, header=0)\n",
    "    df['time'] = df.time.astype(int)\n",
    "    df = df.drop_duplicates(keep='last', subset='time')\n",
    "    occupancies.append(df)\n",
    "\n",
    "merged_time = pd.concat(occupancies)['time'].sort_values().drop_duplicates()\n",
    "\n",
    "# for df in occupancies:\n",
    "#     df['time'] = df.time.astype(int).drop_duplicates()\n",
    "#     df.set_index('time', inplace=True)\n",
    "    \n",
    "# merged_df = pd.concat(occupancies, axis=1).fillna(method='ffill')"
   ]
  },
  {
   "cell_type": "code",
   "execution_count": 6,
   "metadata": {},
   "outputs": [],
   "source": [
    "n_cars = len(all_files)\n",
    "# n_cars = 25"
   ]
  },
  {
   "cell_type": "code",
   "execution_count": 7,
   "metadata": {},
   "outputs": [],
   "source": [
    "all_files = glob.glob(\"data/zip/*/vehicle_logs/vehicle_status_*\")\n",
    "all_files.sort()\n",
    "\n",
    "statuses = []\n",
    "for filename in all_files:\n",
    "    df = pd.read_csv(filename, index_col=None, header=0, delimiter=',', quotechar='|', quoting=csv.QUOTE_MINIMAL)\n",
    "    df.columns = ['time', 'status']\n",
    "    df['time'] = df.time.astype(int)\n",
    "    df = df.drop_duplicates(keep='last', subset='time')\n",
    "    statuses.append(df)"
   ]
  },
  {
   "cell_type": "code",
   "execution_count": 8,
   "metadata": {},
   "outputs": [],
   "source": [
    "for occ,stat in zip(occupancies, statuses):\n",
    "    occ.set_index('time', inplace=True)\n",
    "    stat.set_index('time', inplace=True)\n",
    "    # idle\n",
    "    occ['#passengers'].loc[(stat.status == 6).values] = -2\n",
    "    # waiting outside depot\n",
    "    occ['#passengers'].loc[(stat.status == 4).values] = -1\n",
    "    \n",
    "merged_df = pd.concat(occupancies, axis=1).fillna(method='ffill')"
   ]
  },
  {
   "cell_type": "code",
   "execution_count": 18,
   "metadata": {},
   "outputs": [
    {
     "data": {
      "text/html": [
       "<div>\n",
       "<style scoped>\n",
       "    .dataframe tbody tr th:only-of-type {\n",
       "        vertical-align: middle;\n",
       "    }\n",
       "\n",
       "    .dataframe tbody tr th {\n",
       "        vertical-align: top;\n",
       "    }\n",
       "\n",
       "    .dataframe thead th {\n",
       "        text-align: right;\n",
       "    }\n",
       "</style>\n",
       "<table border=\"1\" class=\"dataframe\">\n",
       "  <thead>\n",
       "    <tr style=\"text-align: right;\">\n",
       "      <th></th>\n",
       "      <th>#passengers</th>\n",
       "      <th>#passengers</th>\n",
       "      <th>#passengers</th>\n",
       "      <th>#passengers</th>\n",
       "      <th>#passengers</th>\n",
       "      <th>#passengers</th>\n",
       "      <th>#passengers</th>\n",
       "      <th>#passengers</th>\n",
       "      <th>#passengers</th>\n",
       "      <th>#passengers</th>\n",
       "      <th>...</th>\n",
       "      <th>#passengers</th>\n",
       "      <th>#passengers</th>\n",
       "      <th>#passengers</th>\n",
       "      <th>#passengers</th>\n",
       "      <th>#passengers</th>\n",
       "      <th>#passengers</th>\n",
       "      <th>#passengers</th>\n",
       "      <th>#passengers</th>\n",
       "      <th>#passengers</th>\n",
       "      <th>#passengers</th>\n",
       "    </tr>\n",
       "    <tr>\n",
       "      <th>time</th>\n",
       "      <th></th>\n",
       "      <th></th>\n",
       "      <th></th>\n",
       "      <th></th>\n",
       "      <th></th>\n",
       "      <th></th>\n",
       "      <th></th>\n",
       "      <th></th>\n",
       "      <th></th>\n",
       "      <th></th>\n",
       "      <th></th>\n",
       "      <th></th>\n",
       "      <th></th>\n",
       "      <th></th>\n",
       "      <th></th>\n",
       "      <th></th>\n",
       "      <th></th>\n",
       "      <th></th>\n",
       "      <th></th>\n",
       "      <th></th>\n",
       "      <th></th>\n",
       "    </tr>\n",
       "  </thead>\n",
       "  <tbody>\n",
       "    <tr>\n",
       "      <th>0</th>\n",
       "      <td>-2.0</td>\n",
       "      <td>-2.0</td>\n",
       "      <td>-2.0</td>\n",
       "      <td>-2.0</td>\n",
       "      <td>-2.0</td>\n",
       "      <td>-2.0</td>\n",
       "      <td>-2.0</td>\n",
       "      <td>-2.0</td>\n",
       "      <td>-2.0</td>\n",
       "      <td>-2.0</td>\n",
       "      <td>...</td>\n",
       "      <td>-2.0</td>\n",
       "      <td>-2.0</td>\n",
       "      <td>-2.0</td>\n",
       "      <td>-2.0</td>\n",
       "      <td>-2.0</td>\n",
       "      <td>-2.0</td>\n",
       "      <td>-2.0</td>\n",
       "      <td>-2.0</td>\n",
       "      <td>-2.0</td>\n",
       "      <td>-2.0</td>\n",
       "    </tr>\n",
       "    <tr>\n",
       "      <th>14472</th>\n",
       "      <td>-2.0</td>\n",
       "      <td>-2.0</td>\n",
       "      <td>-2.0</td>\n",
       "      <td>0.0</td>\n",
       "      <td>-2.0</td>\n",
       "      <td>-2.0</td>\n",
       "      <td>-2.0</td>\n",
       "      <td>-2.0</td>\n",
       "      <td>-2.0</td>\n",
       "      <td>-2.0</td>\n",
       "      <td>...</td>\n",
       "      <td>-2.0</td>\n",
       "      <td>-2.0</td>\n",
       "      <td>-2.0</td>\n",
       "      <td>-2.0</td>\n",
       "      <td>-2.0</td>\n",
       "      <td>-2.0</td>\n",
       "      <td>-2.0</td>\n",
       "      <td>-2.0</td>\n",
       "      <td>-2.0</td>\n",
       "      <td>-2.0</td>\n",
       "    </tr>\n",
       "    <tr>\n",
       "      <th>14711</th>\n",
       "      <td>-2.0</td>\n",
       "      <td>-2.0</td>\n",
       "      <td>-2.0</td>\n",
       "      <td>0.0</td>\n",
       "      <td>-2.0</td>\n",
       "      <td>-2.0</td>\n",
       "      <td>-2.0</td>\n",
       "      <td>-2.0</td>\n",
       "      <td>-2.0</td>\n",
       "      <td>-2.0</td>\n",
       "      <td>...</td>\n",
       "      <td>-2.0</td>\n",
       "      <td>-2.0</td>\n",
       "      <td>-2.0</td>\n",
       "      <td>-2.0</td>\n",
       "      <td>-2.0</td>\n",
       "      <td>-2.0</td>\n",
       "      <td>-2.0</td>\n",
       "      <td>-2.0</td>\n",
       "      <td>-2.0</td>\n",
       "      <td>-2.0</td>\n",
       "    </tr>\n",
       "    <tr>\n",
       "      <th>14821</th>\n",
       "      <td>-2.0</td>\n",
       "      <td>-2.0</td>\n",
       "      <td>-2.0</td>\n",
       "      <td>0.0</td>\n",
       "      <td>-2.0</td>\n",
       "      <td>-2.0</td>\n",
       "      <td>-2.0</td>\n",
       "      <td>-2.0</td>\n",
       "      <td>-2.0</td>\n",
       "      <td>-2.0</td>\n",
       "      <td>...</td>\n",
       "      <td>-2.0</td>\n",
       "      <td>-2.0</td>\n",
       "      <td>-2.0</td>\n",
       "      <td>-2.0</td>\n",
       "      <td>-2.0</td>\n",
       "      <td>-2.0</td>\n",
       "      <td>-2.0</td>\n",
       "      <td>-2.0</td>\n",
       "      <td>-2.0</td>\n",
       "      <td>-2.0</td>\n",
       "    </tr>\n",
       "    <tr>\n",
       "      <th>14837</th>\n",
       "      <td>-2.0</td>\n",
       "      <td>-2.0</td>\n",
       "      <td>-2.0</td>\n",
       "      <td>0.0</td>\n",
       "      <td>-2.0</td>\n",
       "      <td>-2.0</td>\n",
       "      <td>-2.0</td>\n",
       "      <td>-2.0</td>\n",
       "      <td>-2.0</td>\n",
       "      <td>-2.0</td>\n",
       "      <td>...</td>\n",
       "      <td>-2.0</td>\n",
       "      <td>-2.0</td>\n",
       "      <td>-2.0</td>\n",
       "      <td>-2.0</td>\n",
       "      <td>-2.0</td>\n",
       "      <td>-2.0</td>\n",
       "      <td>-2.0</td>\n",
       "      <td>-2.0</td>\n",
       "      <td>-2.0</td>\n",
       "      <td>-2.0</td>\n",
       "    </tr>\n",
       "  </tbody>\n",
       "</table>\n",
       "<p>5 rows × 30 columns</p>\n",
       "</div>"
      ],
      "text/plain": [
       "       #passengers  #passengers  #passengers  #passengers  #passengers  \\\n",
       "time                                                                     \n",
       "0             -2.0         -2.0         -2.0         -2.0         -2.0   \n",
       "14472         -2.0         -2.0         -2.0          0.0         -2.0   \n",
       "14711         -2.0         -2.0         -2.0          0.0         -2.0   \n",
       "14821         -2.0         -2.0         -2.0          0.0         -2.0   \n",
       "14837         -2.0         -2.0         -2.0          0.0         -2.0   \n",
       "\n",
       "       #passengers  #passengers  #passengers  #passengers  #passengers  ...  \\\n",
       "time                                                                    ...   \n",
       "0             -2.0         -2.0         -2.0         -2.0         -2.0  ...   \n",
       "14472         -2.0         -2.0         -2.0         -2.0         -2.0  ...   \n",
       "14711         -2.0         -2.0         -2.0         -2.0         -2.0  ...   \n",
       "14821         -2.0         -2.0         -2.0         -2.0         -2.0  ...   \n",
       "14837         -2.0         -2.0         -2.0         -2.0         -2.0  ...   \n",
       "\n",
       "       #passengers  #passengers  #passengers  #passengers  #passengers  \\\n",
       "time                                                                     \n",
       "0             -2.0         -2.0         -2.0         -2.0         -2.0   \n",
       "14472         -2.0         -2.0         -2.0         -2.0         -2.0   \n",
       "14711         -2.0         -2.0         -2.0         -2.0         -2.0   \n",
       "14821         -2.0         -2.0         -2.0         -2.0         -2.0   \n",
       "14837         -2.0         -2.0         -2.0         -2.0         -2.0   \n",
       "\n",
       "       #passengers  #passengers  #passengers  #passengers  #passengers  \n",
       "time                                                                    \n",
       "0             -2.0         -2.0         -2.0         -2.0         -2.0  \n",
       "14472         -2.0         -2.0         -2.0         -2.0         -2.0  \n",
       "14711         -2.0         -2.0         -2.0         -2.0         -2.0  \n",
       "14821         -2.0         -2.0         -2.0         -2.0         -2.0  \n",
       "14837         -2.0         -2.0         -2.0         -2.0         -2.0  \n",
       "\n",
       "[5 rows x 30 columns]"
      ]
     },
     "execution_count": 18,
     "metadata": {},
     "output_type": "execute_result"
    }
   ],
   "source": [
    "merged_df.head()"
   ]
  },
  {
   "cell_type": "code",
   "execution_count": 9,
   "metadata": {},
   "outputs": [],
   "source": [
    "li=[]\n",
    "for i in range(0, len(merged_df)):\n",
    "    li.append(merged_df.iloc[i].value_counts())\n",
    "#     li[-1].index = 8 - li[-1].index.values"
   ]
  },
  {
   "cell_type": "code",
   "execution_count": 10,
   "metadata": {},
   "outputs": [],
   "source": [
    "day_values = pd.concat(li, axis=1).fillna(0).T.reindex(index=[_ for _ in range(0, day_sec)]).fillna(method='ffill')"
   ]
  },
  {
   "cell_type": "code",
   "execution_count": 20,
   "metadata": {},
   "outputs": [
    {
     "data": {
      "text/html": [
       "<div>\n",
       "<style scoped>\n",
       "    .dataframe tbody tr th:only-of-type {\n",
       "        vertical-align: middle;\n",
       "    }\n",
       "\n",
       "    .dataframe tbody tr th {\n",
       "        vertical-align: top;\n",
       "    }\n",
       "\n",
       "    .dataframe thead th {\n",
       "        text-align: right;\n",
       "    }\n",
       "</style>\n",
       "<table border=\"1\" class=\"dataframe\">\n",
       "  <thead>\n",
       "    <tr style=\"text-align: right;\">\n",
       "      <th></th>\n",
       "      <th>8.0</th>\n",
       "      <th>7.0</th>\n",
       "      <th>6.0</th>\n",
       "      <th>5.0</th>\n",
       "      <th>4.0</th>\n",
       "      <th>3.0</th>\n",
       "      <th>2.0</th>\n",
       "      <th>1.0</th>\n",
       "      <th>0.0</th>\n",
       "      <th>waiting</th>\n",
       "      <th>idling</th>\n",
       "    </tr>\n",
       "  </thead>\n",
       "  <tbody>\n",
       "    <tr>\n",
       "      <th>0</th>\n",
       "      <td>0.0</td>\n",
       "      <td>0.0</td>\n",
       "      <td>0.0</td>\n",
       "      <td>0.0</td>\n",
       "      <td>0.0</td>\n",
       "      <td>0.0</td>\n",
       "      <td>0.0</td>\n",
       "      <td>0.0</td>\n",
       "      <td>0.0</td>\n",
       "      <td>0.0</td>\n",
       "      <td>30.0</td>\n",
       "    </tr>\n",
       "    <tr>\n",
       "      <th>1</th>\n",
       "      <td>0.0</td>\n",
       "      <td>0.0</td>\n",
       "      <td>0.0</td>\n",
       "      <td>0.0</td>\n",
       "      <td>0.0</td>\n",
       "      <td>0.0</td>\n",
       "      <td>0.0</td>\n",
       "      <td>0.0</td>\n",
       "      <td>0.0</td>\n",
       "      <td>0.0</td>\n",
       "      <td>30.0</td>\n",
       "    </tr>\n",
       "    <tr>\n",
       "      <th>2</th>\n",
       "      <td>0.0</td>\n",
       "      <td>0.0</td>\n",
       "      <td>0.0</td>\n",
       "      <td>0.0</td>\n",
       "      <td>0.0</td>\n",
       "      <td>0.0</td>\n",
       "      <td>0.0</td>\n",
       "      <td>0.0</td>\n",
       "      <td>0.0</td>\n",
       "      <td>0.0</td>\n",
       "      <td>30.0</td>\n",
       "    </tr>\n",
       "    <tr>\n",
       "      <th>3</th>\n",
       "      <td>0.0</td>\n",
       "      <td>0.0</td>\n",
       "      <td>0.0</td>\n",
       "      <td>0.0</td>\n",
       "      <td>0.0</td>\n",
       "      <td>0.0</td>\n",
       "      <td>0.0</td>\n",
       "      <td>0.0</td>\n",
       "      <td>0.0</td>\n",
       "      <td>0.0</td>\n",
       "      <td>30.0</td>\n",
       "    </tr>\n",
       "    <tr>\n",
       "      <th>4</th>\n",
       "      <td>0.0</td>\n",
       "      <td>0.0</td>\n",
       "      <td>0.0</td>\n",
       "      <td>0.0</td>\n",
       "      <td>0.0</td>\n",
       "      <td>0.0</td>\n",
       "      <td>0.0</td>\n",
       "      <td>0.0</td>\n",
       "      <td>0.0</td>\n",
       "      <td>0.0</td>\n",
       "      <td>30.0</td>\n",
       "    </tr>\n",
       "  </tbody>\n",
       "</table>\n",
       "</div>"
      ],
      "text/plain": [
       "   8.0  7.0  6.0  5.0  4.0  3.0  2.0  1.0  0.0  waiting  idling\n",
       "0  0.0  0.0  0.0  0.0  0.0  0.0  0.0  0.0  0.0      0.0    30.0\n",
       "1  0.0  0.0  0.0  0.0  0.0  0.0  0.0  0.0  0.0      0.0    30.0\n",
       "2  0.0  0.0  0.0  0.0  0.0  0.0  0.0  0.0  0.0      0.0    30.0\n",
       "3  0.0  0.0  0.0  0.0  0.0  0.0  0.0  0.0  0.0      0.0    30.0\n",
       "4  0.0  0.0  0.0  0.0  0.0  0.0  0.0  0.0  0.0      0.0    30.0"
      ]
     },
     "execution_count": 20,
     "metadata": {},
     "output_type": "execute_result"
    }
   ],
   "source": [
    "day_values.head()"
   ]
  },
  {
   "cell_type": "code",
   "execution_count": 11,
   "metadata": {},
   "outputs": [],
   "source": [
    "day_values = day_values[day_values.columns.to_list()[::-1]]"
   ]
  },
  {
   "cell_type": "code",
   "execution_count": 12,
   "metadata": {},
   "outputs": [],
   "source": [
    "day_values.columns = day_values.columns.to_list()[:-2] + ['waiting', 'idling']"
   ]
  },
  {
   "cell_type": "code",
   "execution_count": 13,
   "metadata": {},
   "outputs": [],
   "source": [
    "day_values2 = day_values.copy()\n",
    "day_values2['idling'] = day_values2.idling + day_values2.waiting\n",
    "day_values2 = day_values2.drop(['waiting'], axis=1)"
   ]
  },
  {
   "cell_type": "code",
   "execution_count": 15,
   "metadata": {},
   "outputs": [
    {
     "data": {
      "text/html": [
       "<div>\n",
       "<style scoped>\n",
       "    .dataframe tbody tr th:only-of-type {\n",
       "        vertical-align: middle;\n",
       "    }\n",
       "\n",
       "    .dataframe tbody tr th {\n",
       "        vertical-align: top;\n",
       "    }\n",
       "\n",
       "    .dataframe thead th {\n",
       "        text-align: right;\n",
       "    }\n",
       "</style>\n",
       "<table border=\"1\" class=\"dataframe\">\n",
       "  <thead>\n",
       "    <tr style=\"text-align: right;\">\n",
       "      <th></th>\n",
       "      <th>8.0</th>\n",
       "      <th>7.0</th>\n",
       "      <th>6.0</th>\n",
       "      <th>5.0</th>\n",
       "      <th>4.0</th>\n",
       "      <th>3.0</th>\n",
       "      <th>2.0</th>\n",
       "      <th>1.0</th>\n",
       "      <th>0.0</th>\n",
       "      <th>idling</th>\n",
       "    </tr>\n",
       "  </thead>\n",
       "  <tbody>\n",
       "    <tr>\n",
       "      <th>0</th>\n",
       "      <td>0.0</td>\n",
       "      <td>0.0</td>\n",
       "      <td>0.0</td>\n",
       "      <td>0.0</td>\n",
       "      <td>0.0</td>\n",
       "      <td>0.0</td>\n",
       "      <td>0.0</td>\n",
       "      <td>0.0</td>\n",
       "      <td>0.0</td>\n",
       "      <td>30.0</td>\n",
       "    </tr>\n",
       "    <tr>\n",
       "      <th>1</th>\n",
       "      <td>0.0</td>\n",
       "      <td>0.0</td>\n",
       "      <td>0.0</td>\n",
       "      <td>0.0</td>\n",
       "      <td>0.0</td>\n",
       "      <td>0.0</td>\n",
       "      <td>0.0</td>\n",
       "      <td>0.0</td>\n",
       "      <td>0.0</td>\n",
       "      <td>30.0</td>\n",
       "    </tr>\n",
       "    <tr>\n",
       "      <th>2</th>\n",
       "      <td>0.0</td>\n",
       "      <td>0.0</td>\n",
       "      <td>0.0</td>\n",
       "      <td>0.0</td>\n",
       "      <td>0.0</td>\n",
       "      <td>0.0</td>\n",
       "      <td>0.0</td>\n",
       "      <td>0.0</td>\n",
       "      <td>0.0</td>\n",
       "      <td>30.0</td>\n",
       "    </tr>\n",
       "    <tr>\n",
       "      <th>3</th>\n",
       "      <td>0.0</td>\n",
       "      <td>0.0</td>\n",
       "      <td>0.0</td>\n",
       "      <td>0.0</td>\n",
       "      <td>0.0</td>\n",
       "      <td>0.0</td>\n",
       "      <td>0.0</td>\n",
       "      <td>0.0</td>\n",
       "      <td>0.0</td>\n",
       "      <td>30.0</td>\n",
       "    </tr>\n",
       "    <tr>\n",
       "      <th>4</th>\n",
       "      <td>0.0</td>\n",
       "      <td>0.0</td>\n",
       "      <td>0.0</td>\n",
       "      <td>0.0</td>\n",
       "      <td>0.0</td>\n",
       "      <td>0.0</td>\n",
       "      <td>0.0</td>\n",
       "      <td>0.0</td>\n",
       "      <td>0.0</td>\n",
       "      <td>30.0</td>\n",
       "    </tr>\n",
       "  </tbody>\n",
       "</table>\n",
       "</div>"
      ],
      "text/plain": [
       "   8.0  7.0  6.0  5.0  4.0  3.0  2.0  1.0  0.0  idling\n",
       "0  0.0  0.0  0.0  0.0  0.0  0.0  0.0  0.0  0.0    30.0\n",
       "1  0.0  0.0  0.0  0.0  0.0  0.0  0.0  0.0  0.0    30.0\n",
       "2  0.0  0.0  0.0  0.0  0.0  0.0  0.0  0.0  0.0    30.0\n",
       "3  0.0  0.0  0.0  0.0  0.0  0.0  0.0  0.0  0.0    30.0\n",
       "4  0.0  0.0  0.0  0.0  0.0  0.0  0.0  0.0  0.0    30.0"
      ]
     },
     "execution_count": 15,
     "metadata": {},
     "output_type": "execute_result"
    }
   ],
   "source": [
    "day_values2.head()"
   ]
  },
  {
   "cell_type": "code",
   "execution_count": 14,
   "metadata": {},
   "outputs": [
    {
     "name": "stderr",
     "output_type": "stream",
     "text": [
      "/home/ai6644/anaconda3/envs/jup/lib/python3.7/site-packages/ipykernel_launcher.py:21: UserWarning: Creating legend with loc=\"best\" can be slow with large amounts of data.\n",
      "/home/ai6644/anaconda3/envs/jup/lib/python3.7/site-packages/IPython/core/pylabtools.py:128: UserWarning: Creating legend with loc=\"best\" can be slow with large amounts of data.\n",
      "  fig.canvas.print_figure(bytes_io, **kw)\n"
     ]
    },
    {
     "data": {
      "image/png": "[encoded data removed]",
      "text/plain": [
       "<Figure size 432x288 with 1 Axes>"
      ]
     },
     "metadata": {
      "needs_background": "light"
     },
     "output_type": "display_data"
    }
   ],
   "source": [
    "from matplotlib import cm\n",
    "import matplotlib.patches as mpatches\n",
    "# color_list = [i for i in cm.get_cmap(\"Set2\").colors]*2\n",
    "color_list = [i for i in [c for c in cm.get_cmap(\"Set2\").colors[:-2]] + [cm.get_cmap(\"Set2\").colors[-1]]]*4\n",
    "\n",
    "fig = plt.figure()\n",
    "ax = fig.add_axes([0.12, 0.13, 0.64, 0.78])\n",
    "ax.set_ylabel('number of vehicles', {'fontsize': 16})\n",
    "ax.set_xlabel('time', {'fontsize': 16})\n",
    "ax.set_title('Vehicle state by time', {'fontsize': 18})\n",
    "# day_values2.plot.area(stacked=True, ax=ax, linewidth=1)\n",
    "day_values2.plot.area(stacked=True, ax=ax, linewidth=1, color=color_list[len(color_list)-len(day_values2.columns):])\n",
    "labels = [day_values2.columns.to_list()[::-1][0]] + [str(int(l))+' ' for l in day_values2.columns.to_list()[::-1][1:]]\n",
    "leg = [mpatches.Patch(color=c, label=l) for l,c in zip(labels,color_list[len(color_list)-len(day_values2.columns):][::-1])]\n",
    "plt.legend(handles=leg, bbox_to_anchor=(1, 1.1), fontsize=13)\n",
    "plt.xticks(np.linspace(0, day_sec, 9), np.linspace(0, day_h, 9, dtype='int'), fontsize=13)\n",
    "plt.yticks(np.linspace(0, n_cars, 11), np.linspace(0, n_cars, 11, dtype='int'), fontsize=13)\n",
    "plt.ylim(0,n_cars)\n",
    "# plt.xlim(4*60*60,day_sec)\n",
    "# plt.gcf().subplots_adjust(right=0.8)\n",
    "plt.savefig('data/occupancy.png', dpi=600)"
   ]
  },
  {
   "cell_type": "code",
   "execution_count": 15,
   "metadata": {},
   "outputs": [],
   "source": [
    "# occ_by_time = {-2: 0, -1:0, 0:0, 1:0, 2:0, 3:0, 4:0, 5:0, 6:0, 7:0, 8:0}\n",
    "occ_by_time = {i:0 for i in range(-2, 8+1)}\n",
    "for i,j in zip(merged_df.iterrows(), merged_df.iloc[1:].iterrows()):\n",
    "    for el in i[1].to_list():\n",
    "        occ_by_time[el] += j[0]-i[0]"
   ]
  },
  {
   "cell_type": "code",
   "execution_count": 16,
   "metadata": {},
   "outputs": [
    {
     "data": {
      "text/plain": [
       "(0, 30000)"
      ]
     },
     "execution_count": 16,
     "metadata": {},
     "output_type": "execute_result"
    },
    {
     "data": {
      "image/png": "[encoded data removed]",
      "text/plain": [
       "<Figure size 432x288 with 1 Axes>"
      ]
     },
     "metadata": {
      "needs_background": "light"
     },
     "output_type": "display_data"
    }
   ],
   "source": [
    "fig = plt.figure()\n",
    "ax = plt.subplot(111)\n",
    "\n",
    "plt.bar(['idle', 'wait'] + [str(i) for i in range(0,8+1)], [i / n_cars for i in list(occ_by_time.values())])\n",
    "ax.set_ylabel('average seconds')\n",
    "ax.set_xlabel('vehicle status')\n",
    "ax.set_title('Vehicle occupancy')\n",
    "plt.ylim(0, 30000)"
   ]
  },
  {
   "cell_type": "code",
   "execution_count": 17,
   "metadata": {},
   "outputs": [
    {
     "data": {
      "image/png": "[encoded data removed]",
      "text/plain": [
       "<Figure size 432x288 with 1 Axes>"
      ]
     },
     "metadata": {
      "needs_background": "light"
     },
     "output_type": "display_data"
    }
   ],
   "source": [
    "fig = plt.figure()\n",
    "# ax = plt.subplot(111)\n",
    "ax = fig.add_axes([0.16, 0.13, 0.8, 0.79])\n",
    "plt.bar([str(i) for i in range(0,8+1)], [i / n_cars / 60 for i in list(occ_by_time.values())[2:]])\n",
    "ax.set_ylabel('Minutes', fontsize=16)\n",
    "ax.set_xlabel('Number of passengers', fontsize=16)\n",
    "ax.set_title('Average vehicle occupancy', fontsize=18)\n",
    "plt.yticks(fontsize=13)\n",
    "plt.xticks(fontsize=13)\n",
    "# plt.ylim(0, 10000)\n",
    "plt.savefig('data/occupancy_hist.png', dpi=600)"
   ]
  },
  {
   "cell_type": "code",
   "execution_count": 18,
   "metadata": {},
   "outputs": [
    {
     "data": {
      "text/plain": [
       "Text(0.5, 1.0, 'Vehicle occupancy')"
      ]
     },
     "execution_count": 18,
     "metadata": {},
     "output_type": "execute_result"
    },
    {
     "data": {
      "image/png": "[encoded data removed]",
      "text/plain": [
       "<Figure size 432x288 with 1 Axes>"
      ]
     },
     "metadata": {
      "needs_background": "light"
     },
     "output_type": "display_data"
    }
   ],
   "source": [
    "fig = plt.figure()\n",
    "ax = plt.subplot(111)\n",
    "plt.bar(['1','sum of others'], [list(occ_by_time.values())[3]/n_cars] +\\\n",
    "        [list(occ_by_time.values())[4]/n_cars*2 + list(occ_by_time.values())[5]/n_cars*3])\n",
    "ax.set_ylabel('average seconds')\n",
    "ax.set_xlabel('vehicle status')\n",
    "ax.set_title('Vehicle occupancy')"
   ]
  },
  {
   "cell_type": "code",
   "execution_count": 19,
   "metadata": {},
   "outputs": [
    {
     "data": {
      "text/html": [
       "<div>\n",
       "<style scoped>\n",
       "    .dataframe tbody tr th:only-of-type {\n",
       "        vertical-align: middle;\n",
       "    }\n",
       "\n",
       "    .dataframe tbody tr th {\n",
       "        vertical-align: top;\n",
       "    }\n",
       "\n",
       "    .dataframe thead th {\n",
       "        text-align: right;\n",
       "    }\n",
       "</style>\n",
       "<table border=\"1\" class=\"dataframe\">\n",
       "  <thead>\n",
       "    <tr style=\"text-align: right;\">\n",
       "      <th></th>\n",
       "      <th>8.0</th>\n",
       "      <th>7.0</th>\n",
       "      <th>6.0</th>\n",
       "      <th>5.0</th>\n",
       "      <th>4.0</th>\n",
       "      <th>3.0</th>\n",
       "      <th>2.0</th>\n",
       "      <th>1.0</th>\n",
       "      <th>0.0</th>\n",
       "      <th>waiting</th>\n",
       "      <th>idling</th>\n",
       "    </tr>\n",
       "  </thead>\n",
       "  <tbody>\n",
       "    <tr>\n",
       "      <th>0</th>\n",
       "      <td>0.0</td>\n",
       "      <td>0.0</td>\n",
       "      <td>0.0</td>\n",
       "      <td>0.0</td>\n",
       "      <td>0.0</td>\n",
       "      <td>0.0</td>\n",
       "      <td>0.0</td>\n",
       "      <td>0.0</td>\n",
       "      <td>0.0</td>\n",
       "      <td>0.0</td>\n",
       "      <td>30.0</td>\n",
       "    </tr>\n",
       "    <tr>\n",
       "      <th>1</th>\n",
       "      <td>0.0</td>\n",
       "      <td>0.0</td>\n",
       "      <td>0.0</td>\n",
       "      <td>0.0</td>\n",
       "      <td>0.0</td>\n",
       "      <td>0.0</td>\n",
       "      <td>0.0</td>\n",
       "      <td>0.0</td>\n",
       "      <td>0.0</td>\n",
       "      <td>0.0</td>\n",
       "      <td>30.0</td>\n",
       "    </tr>\n",
       "    <tr>\n",
       "      <th>2</th>\n",
       "      <td>0.0</td>\n",
       "      <td>0.0</td>\n",
       "      <td>0.0</td>\n",
       "      <td>0.0</td>\n",
       "      <td>0.0</td>\n",
       "      <td>0.0</td>\n",
       "      <td>0.0</td>\n",
       "      <td>0.0</td>\n",
       "      <td>0.0</td>\n",
       "      <td>0.0</td>\n",
       "      <td>30.0</td>\n",
       "    </tr>\n",
       "    <tr>\n",
       "      <th>3</th>\n",
       "      <td>0.0</td>\n",
       "      <td>0.0</td>\n",
       "      <td>0.0</td>\n",
       "      <td>0.0</td>\n",
       "      <td>0.0</td>\n",
       "      <td>0.0</td>\n",
       "      <td>0.0</td>\n",
       "      <td>0.0</td>\n",
       "      <td>0.0</td>\n",
       "      <td>0.0</td>\n",
       "      <td>30.0</td>\n",
       "    </tr>\n",
       "    <tr>\n",
       "      <th>4</th>\n",
       "      <td>0.0</td>\n",
       "      <td>0.0</td>\n",
       "      <td>0.0</td>\n",
       "      <td>0.0</td>\n",
       "      <td>0.0</td>\n",
       "      <td>0.0</td>\n",
       "      <td>0.0</td>\n",
       "      <td>0.0</td>\n",
       "      <td>0.0</td>\n",
       "      <td>0.0</td>\n",
       "      <td>30.0</td>\n",
       "    </tr>\n",
       "  </tbody>\n",
       "</table>\n",
       "</div>"
      ],
      "text/plain": [
       "   8.0  7.0  6.0  5.0  4.0  3.0  2.0  1.0  0.0  waiting  idling\n",
       "0  0.0  0.0  0.0  0.0  0.0  0.0  0.0  0.0  0.0      0.0    30.0\n",
       "1  0.0  0.0  0.0  0.0  0.0  0.0  0.0  0.0  0.0      0.0    30.0\n",
       "2  0.0  0.0  0.0  0.0  0.0  0.0  0.0  0.0  0.0      0.0    30.0\n",
       "3  0.0  0.0  0.0  0.0  0.0  0.0  0.0  0.0  0.0      0.0    30.0\n",
       "4  0.0  0.0  0.0  0.0  0.0  0.0  0.0  0.0  0.0      0.0    30.0"
      ]
     },
     "execution_count": 19,
     "metadata": {},
     "output_type": "execute_result"
    }
   ],
   "source": [
    "day_values.head()"
   ]
  },
  {
   "cell_type": "code",
   "execution_count": 20,
   "metadata": {},
   "outputs": [
    {
     "data": {
      "text/plain": [
       "count    75600.000000\n",
       "mean         0.605149\n",
       "std          0.568202\n",
       "min          0.000000\n",
       "25%          0.000000\n",
       "50%          0.500000\n",
       "75%          1.033333\n",
       "max          2.300000\n",
       "Name: total, dtype: float64"
      ]
     },
     "execution_count": 20,
     "metadata": {},
     "output_type": "execute_result"
    }
   ],
   "source": [
    "try:\n",
    "    day_values['total'] = (day_values[3.0]*3 + day_values[2.0]*2 + day_values[1.0])/n_cars\n",
    "    day_values['total'] = (day_values[4.0]*4 + day_values[3.0]*3 + day_values[2.0]*2 + day_values[1.0])/n_cars\n",
    "    day_values['total'] = (day_values[5.0]*5 + day_values[4.0]*4 + day_values[3.0]*3 + day_values[2.0]*2 + day_values[1.0])/n_cars\n",
    "    day_values['total'] = (day_values[6.0]*6 + day_values[5.0]*5 + day_values[4.0]*4 + day_values[3.0]*3 + day_values[2.0]*2 + day_values[1.0])/n_cars\n",
    "    day_values['total'] = (day_values[7.0]*7 + day_values[6.0]*6 + day_values[5.0]*5 + day_values[4.0]*4 + day_values[3.0]*3 + day_values[2.0]*2 + day_values[1.0])/n_cars\n",
    "    day_values['total'] = (day_values[8.0]*8 + day_values[7.0]*7 + day_values[6.0]*6 + day_values[5.0]*5 + day_values[4.0]*4 + day_values[3.0]*3 + day_values[2.0]*2 + day_values[1.0])/n_cars\n",
    "except:\n",
    "    pass\n",
    "day_values.total.loc[3*3600:].describe()"
   ]
  },
  {
   "cell_type": "code",
   "execution_count": 21,
   "metadata": {},
   "outputs": [
    {
     "data": {
      "image/png": "[encoded data removed]",
      "text/plain": [
       "<Figure size 432x288 with 1 Axes>"
      ]
     },
     "metadata": {
      "needs_background": "light"
     },
     "output_type": "display_data"
    }
   ],
   "source": [
    "fig = plt.figure()\n",
    "ax = plt.subplot(111)\n",
    "ax.set_ylabel('Passengers per vehicle')\n",
    "ax.set_xlabel('time')\n",
    "ax.set_title('Passenger per vehicle')\n",
    "plt.xticks(np.linspace(0, day_sec, 12), np.linspace(0, day_h, 12, dtype='int'), fontsize=13)\n",
    "# plt.xticks([0, 21600, 43200, 64800, 86400], [0, 6, 12, 18, 24])\n",
    "secaxy = ax.secondary_yaxis('right', functions=(lambda x: x*n_cars, lambda x: x/n_cars))\n",
    "secaxy.set_ylabel('Total passengers')\n",
    "day_values.total.plot()\n",
    "plt.ylim(0,5)\n",
    "plt.savefig('data/passengers_in_vehicle.png', dpi=600)"
   ]
  },
  {
   "cell_type": "code",
   "execution_count": 22,
   "metadata": {},
   "outputs": [
    {
     "name": "stdout",
     "output_type": "stream",
     "text": [
      "28557.199999999997  - mean working seconds\n"
     ]
    }
   ],
   "source": [
    "day_values['nowork'] = day_values.waiting + day_values.idling\n",
    "print(day_sec - day_values.nowork.sum()/n_cars, ' - mean working seconds')"
   ]
  },
  {
   "cell_type": "code",
   "execution_count": 23,
   "metadata": {},
   "outputs": [
    {
     "name": "stdout",
     "output_type": "stream",
     "text": [
      "7.932555555555554  - mean working hours\n"
     ]
    }
   ],
   "source": [
    "print((day_sec - day_values.nowork.sum()/n_cars)/60/60, ' - mean working hours')"
   ]
  },
  {
   "cell_type": "code",
   "execution_count": null,
   "metadata": {},
   "outputs": [],
   "source": []
  }
 ],
 "metadata": {
  "kernelspec": {
   "display_name": "Python 3",
   "language": "python",
   "name": "python3"
  },
  "language_info": {
   "codemirror_mode": {
    "name": "ipython",
    "version": 3
   },
   "file_extension": ".py",
   "mimetype": "text/x-python",
   "name": "python",
   "nbconvert_exporter": "python",
   "pygments_lexer": "ipython3",
   "version": "3.7.6"
  }
 },
 "nbformat": 4,
 "nbformat_minor": 4
}
